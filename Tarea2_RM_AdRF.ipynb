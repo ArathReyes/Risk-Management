{
  "nbformat": 4,
  "nbformat_minor": 0,
  "metadata": {
    "accelerator": "GPU",
    "colab": {
      "name": "Tarea2_RM_AdRF.ipynb",
      "provenance": [],
      "collapsed_sections": [
        "ve6YKoc_jxzc",
        "pUnxfbtGa3gz",
        "Y4nVDmF0b7gn",
        "Ji8Uq3EzdU-m",
        "H1S6OC4qdmHE",
        "m3dpWkMEWF58"
      ],
      "toc_visible": true
    },
    "kernelspec": {
      "display_name": "Python 3",
      "name": "python3"
    },
    "language_info": {
      "name": "python"
    }
  },
  "cells": [
    {
      "cell_type": "markdown",
      "metadata": {
        "id": "YF9hg5sOafOd"
      },
      "source": [
        "# Tarea 2"
      ]
    },
    {
      "cell_type": "markdown",
      "source": [
        "### Integrantes\n",
        "\n",
        "---\n",
        "\n",
        "\n",
        "\n",
        "*   Arath Alejandro Reyes López\n",
        "*   Jesús Eduardo García Tapia\n",
        "*   Valeria Lucero Cruz Estrada\n",
        "*   José Antonio Ramirez Maciel\n",
        "*   Juan Manuel Hernández Acosta"
      ],
      "metadata": {
        "id": "i9BFAHT9QJqv"
      }
    },
    {
      "cell_type": "markdown",
      "source": [
        "## Preeliminares"
      ],
      "metadata": {
        "id": "ve6YKoc_jxzc"
      }
    },
    {
      "cell_type": "code",
      "metadata": {
        "id": "a2DjS7m7_Mia",
        "colab": {
          "base_uri": "https://localhost:8080/"
        },
        "outputId": "f67fa1f2-da7f-4514-beb7-c02ddf6b6374"
      },
      "source": [
        "%load_ext rpy2.ipython\n",
        "!rm -rf RiesgosFinancieros\n",
        "!git clone \"https://github.com/pikey-msc/RiesgosFinancieros/\"\n",
        "!git clone \"https://github.com/ArathReyes/Risk-Management/\""
      ],
      "execution_count": null,
      "outputs": [
        {
          "output_type": "stream",
          "name": "stdout",
          "text": [
            "The rpy2.ipython extension is already loaded. To reload it, use:\n",
            "  %reload_ext rpy2.ipython\n",
            "Cloning into 'RiesgosFinancieros'...\n",
            "remote: Enumerating objects: 823, done.\u001b[K\n",
            "remote: Counting objects: 100% (55/55), done.\u001b[K\n",
            "remote: Compressing objects: 100% (55/55), done.\u001b[K\n",
            "remote: Total 823 (delta 36), reused 0 (delta 0), pack-reused 768\u001b[K\n",
            "Receiving objects: 100% (823/823), 41.20 MiB | 36.84 MiB/s, done.\n",
            "Resolving deltas: 100% (541/541), done.\n",
            "fatal: destination path 'Risk-Management' already exists and is not an empty directory.\n"
          ]
        }
      ]
    },
    {
      "cell_type": "code",
      "metadata": {
        "id": "zZZQs5jkaZP-",
        "colab": {
          "base_uri": "https://localhost:8080/"
        },
        "outputId": "90a217c6-0abf-4af5-cac4-e7f396284578"
      },
      "source": [
        "%%R\n",
        "#Instalación de paqueterías\n",
        "install.packages(\"quantmod\")\n",
        "install.packages(\"data.table\")\n",
        "install.packages(\"PerformanceAnalytics\")\n",
        "install.packages(\"Deriv\")\n",
        "library(Deriv)\n",
        "library(quantmod)\n",
        "library(data.table)\n",
        "library(\"PerformanceAnalytics\")\n",
        "library(dplyr)\n",
        "\n",
        "con = gzcon(url('https://github.com/systematicinvestor/SIT/raw/master/sit.gz', 'rb'))\n",
        "source(con)\n",
        "close(con)\n"
      ],
      "execution_count": null,
      "outputs": [
        {
          "output_type": "stream",
          "name": "stderr",
          "text": [
            "R[write to console]: Installing package into ‘/usr/local/lib/R/site-library’\n",
            "(as ‘lib’ is unspecified)\n",
            "\n",
            "R[write to console]: also installing the dependencies ‘xts’, ‘zoo’, ‘TTR’\n",
            "\n",
            "\n",
            "R[write to console]: trying URL 'https://cran.rstudio.com/src/contrib/xts_0.12.1.tar.gz'\n",
            "\n",
            "R[write to console]: Content type 'application/x-gzip'\n",
            "R[write to console]:  length 517875 bytes (505 KB)\n",
            "\n",
            "R[write to console]: =\n",
            "R[write to console]: =\n",
            "R[write to console]: =\n",
            "R[write to console]: =\n",
            "R[write to console]: =\n",
            "R[write to console]: =\n",
            "R[write to console]: =\n",
            "R[write to console]: =\n",
            "R[write to console]: =\n",
            "R[write to console]: =\n",
            "R[write to console]: =\n",
            "R[write to console]: =\n",
            "R[write to console]: =\n",
            "R[write to console]: =\n",
            "R[write to console]: =\n",
            "R[write to console]: =\n",
            "R[write to console]: =\n",
            "R[write to console]: =\n",
            "R[write to console]: =\n",
            "R[write to console]: =\n",
            "R[write to console]: =\n",
            "R[write to console]: =\n",
            "R[write to console]: =\n",
            "R[write to console]: =\n",
            "R[write to console]: =\n",
            "R[write to console]: =\n",
            "R[write to console]: =\n",
            "R[write to console]: =\n",
            "R[write to console]: =\n",
            "R[write to console]: =\n",
            "R[write to console]: =\n",
            "R[write to console]: =\n",
            "R[write to console]: =\n",
            "R[write to console]: =\n",
            "R[write to console]: =\n",
            "R[write to console]: =\n",
            "R[write to console]: =\n",
            "R[write to console]: =\n",
            "R[write to console]: =\n",
            "R[write to console]: =\n",
            "R[write to console]: =\n",
            "R[write to console]: =\n",
            "R[write to console]: =\n",
            "R[write to console]: =\n",
            "R[write to console]: =\n",
            "R[write to console]: =\n",
            "R[write to console]: =\n",
            "R[write to console]: =\n",
            "R[write to console]: =\n",
            "R[write to console]: =\n",
            "R[write to console]: \n",
            "\n",
            "R[write to console]: downloaded 505 KB\n",
            "\n",
            "\n",
            "R[write to console]: trying URL 'https://cran.rstudio.com/src/contrib/zoo_1.8-10.tar.gz'\n",
            "\n",
            "R[write to console]: Content type 'application/x-gzip'\n",
            "R[write to console]:  length 808943 bytes (789 KB)\n",
            "\n",
            "R[write to console]: =\n",
            "R[write to console]: =\n",
            "R[write to console]: =\n",
            "R[write to console]: =\n",
            "R[write to console]: =\n",
            "R[write to console]: =\n",
            "R[write to console]: =\n",
            "R[write to console]: =\n",
            "R[write to console]: =\n",
            "R[write to console]: =\n",
            "R[write to console]: =\n",
            "R[write to console]: =\n",
            "R[write to console]: =\n",
            "R[write to console]: =\n",
            "R[write to console]: =\n",
            "R[write to console]: =\n",
            "R[write to console]: =\n",
            "R[write to console]: =\n",
            "R[write to console]: =\n",
            "R[write to console]: =\n",
            "R[write to console]: =\n",
            "R[write to console]: =\n",
            "R[write to console]: =\n",
            "R[write to console]: =\n",
            "R[write to console]: =\n",
            "R[write to console]: =\n",
            "R[write to console]: =\n",
            "R[write to console]: =\n",
            "R[write to console]: =\n",
            "R[write to console]: =\n",
            "R[write to console]: =\n",
            "R[write to console]: =\n",
            "R[write to console]: =\n",
            "R[write to console]: =\n",
            "R[write to console]: =\n",
            "R[write to console]: =\n",
            "R[write to console]: =\n",
            "R[write to console]: =\n",
            "R[write to console]: =\n",
            "R[write to console]: =\n",
            "R[write to console]: =\n",
            "R[write to console]: =\n",
            "R[write to console]: =\n",
            "R[write to console]: =\n",
            "R[write to console]: =\n",
            "R[write to console]: =\n",
            "R[write to console]: =\n",
            "R[write to console]: =\n",
            "R[write to console]: =\n",
            "R[write to console]: =\n",
            "R[write to console]: \n",
            "\n",
            "R[write to console]: downloaded 789 KB\n",
            "\n",
            "\n",
            "R[write to console]: trying URL 'https://cran.rstudio.com/src/contrib/TTR_0.24.3.tar.gz'\n",
            "\n",
            "R[write to console]: Content type 'application/x-gzip'\n",
            "R[write to console]:  length 317338 bytes (309 KB)\n",
            "\n",
            "R[write to console]: =\n",
            "R[write to console]: =\n",
            "R[write to console]: =\n",
            "R[write to console]: =\n",
            "R[write to console]: =\n",
            "R[write to console]: =\n",
            "R[write to console]: =\n",
            "R[write to console]: =\n",
            "R[write to console]: =\n",
            "R[write to console]: =\n",
            "R[write to console]: =\n",
            "R[write to console]: =\n",
            "R[write to console]: =\n",
            "R[write to console]: =\n",
            "R[write to console]: =\n",
            "R[write to console]: =\n",
            "R[write to console]: =\n",
            "R[write to console]: =\n",
            "R[write to console]: =\n",
            "R[write to console]: =\n",
            "R[write to console]: =\n",
            "R[write to console]: =\n",
            "R[write to console]: =\n",
            "R[write to console]: =\n",
            "R[write to console]: =\n",
            "R[write to console]: =\n",
            "R[write to console]: =\n",
            "R[write to console]: =\n",
            "R[write to console]: =\n",
            "R[write to console]: =\n",
            "R[write to console]: =\n",
            "R[write to console]: =\n",
            "R[write to console]: =\n",
            "R[write to console]: =\n",
            "R[write to console]: =\n",
            "R[write to console]: =\n",
            "R[write to console]: =\n",
            "R[write to console]: =\n",
            "R[write to console]: =\n",
            "R[write to console]: =\n",
            "R[write to console]: =\n",
            "R[write to console]: =\n",
            "R[write to console]: =\n",
            "R[write to console]: =\n",
            "R[write to console]: =\n",
            "R[write to console]: =\n",
            "R[write to console]: =\n",
            "R[write to console]: =\n",
            "R[write to console]: =\n",
            "R[write to console]: =\n",
            "R[write to console]: \n",
            "\n",
            "R[write to console]: downloaded 309 KB\n",
            "\n",
            "\n",
            "R[write to console]: trying URL 'https://cran.rstudio.com/src/contrib/quantmod_0.4.20.tar.gz'\n",
            "\n",
            "R[write to console]: Content type 'application/x-gzip'\n",
            "R[write to console]:  length 156640 bytes (152 KB)\n",
            "\n",
            "R[write to console]: =\n",
            "R[write to console]: =\n",
            "R[write to console]: =\n",
            "R[write to console]: =\n",
            "R[write to console]: =\n",
            "R[write to console]: =\n",
            "R[write to console]: =\n",
            "R[write to console]: =\n",
            "R[write to console]: =\n",
            "R[write to console]: =\n",
            "R[write to console]: =\n",
            "R[write to console]: =\n",
            "R[write to console]: =\n",
            "R[write to console]: =\n",
            "R[write to console]: =\n",
            "R[write to console]: =\n",
            "R[write to console]: =\n",
            "R[write to console]: =\n",
            "R[write to console]: =\n",
            "R[write to console]: =\n",
            "R[write to console]: =\n",
            "R[write to console]: =\n",
            "R[write to console]: =\n",
            "R[write to console]: =\n",
            "R[write to console]: =\n",
            "R[write to console]: =\n",
            "R[write to console]: =\n",
            "R[write to console]: =\n",
            "R[write to console]: =\n",
            "R[write to console]: =\n",
            "R[write to console]: =\n",
            "R[write to console]: =\n",
            "R[write to console]: =\n",
            "R[write to console]: =\n",
            "R[write to console]: =\n",
            "R[write to console]: =\n",
            "R[write to console]: =\n",
            "R[write to console]: =\n",
            "R[write to console]: =\n",
            "R[write to console]: =\n",
            "R[write to console]: =\n",
            "R[write to console]: =\n",
            "R[write to console]: =\n",
            "R[write to console]: =\n",
            "R[write to console]: =\n",
            "R[write to console]: =\n",
            "R[write to console]: =\n",
            "R[write to console]: =\n",
            "R[write to console]: =\n",
            "R[write to console]: =\n",
            "R[write to console]: \n",
            "\n",
            "R[write to console]: downloaded 152 KB\n",
            "\n",
            "\n",
            "R[write to console]: \n",
            "\n",
            "R[write to console]: \n",
            "R[write to console]: The downloaded source packages are in\n",
            "\t‘/tmp/RtmpskCF6n/downloaded_packages’\n",
            "R[write to console]: \n",
            "R[write to console]: \n",
            "\n",
            "R[write to console]: Installing package into ‘/usr/local/lib/R/site-library’\n",
            "(as ‘lib’ is unspecified)\n",
            "\n",
            "R[write to console]: trying URL 'https://cran.rstudio.com/src/contrib/data.table_1.14.2.tar.gz'\n",
            "\n",
            "R[write to console]: Content type 'application/x-gzip'\n",
            "R[write to console]:  length 5301817 bytes (5.1 MB)\n",
            "\n",
            "R[write to console]: =\n",
            "R[write to console]: =\n",
            "R[write to console]: =\n",
            "R[write to console]: =\n",
            "R[write to console]: =\n",
            "R[write to console]: =\n",
            "R[write to console]: =\n",
            "R[write to console]: =\n",
            "R[write to console]: =\n",
            "R[write to console]: =\n",
            "R[write to console]: =\n",
            "R[write to console]: =\n",
            "R[write to console]: =\n",
            "R[write to console]: =\n",
            "R[write to console]: =\n",
            "R[write to console]: =\n",
            "R[write to console]: =\n",
            "R[write to console]: =\n",
            "R[write to console]: =\n",
            "R[write to console]: =\n",
            "R[write to console]: =\n",
            "R[write to console]: =\n",
            "R[write to console]: =\n",
            "R[write to console]: =\n",
            "R[write to console]: =\n",
            "R[write to console]: =\n",
            "R[write to console]: =\n",
            "R[write to console]: =\n",
            "R[write to console]: =\n",
            "R[write to console]: =\n",
            "R[write to console]: =\n",
            "R[write to console]: =\n",
            "R[write to console]: =\n",
            "R[write to console]: =\n",
            "R[write to console]: =\n",
            "R[write to console]: =\n",
            "R[write to console]: =\n",
            "R[write to console]: =\n",
            "R[write to console]: =\n",
            "R[write to console]: =\n",
            "R[write to console]: =\n",
            "R[write to console]: =\n",
            "R[write to console]: =\n",
            "R[write to console]: =\n",
            "R[write to console]: =\n",
            "R[write to console]: =\n",
            "R[write to console]: =\n",
            "R[write to console]: =\n",
            "R[write to console]: =\n",
            "R[write to console]: =\n",
            "R[write to console]: \n",
            "\n",
            "R[write to console]: downloaded 5.1 MB\n",
            "\n",
            "\n",
            "R[write to console]: \n",
            "\n",
            "R[write to console]: \n",
            "R[write to console]: The downloaded source packages are in\n",
            "\t‘/tmp/RtmpskCF6n/downloaded_packages’\n",
            "R[write to console]: \n",
            "R[write to console]: \n",
            "\n",
            "R[write to console]: Installing package into ‘/usr/local/lib/R/site-library’\n",
            "(as ‘lib’ is unspecified)\n",
            "\n",
            "R[write to console]: also installing the dependency ‘quadprog’\n",
            "\n",
            "\n",
            "R[write to console]: trying URL 'https://cran.rstudio.com/src/contrib/quadprog_1.5-8.tar.gz'\n",
            "\n",
            "R[write to console]: Content type 'application/x-gzip'\n",
            "R[write to console]:  length 36141 bytes (35 KB)\n",
            "\n",
            "R[write to console]: =\n",
            "R[write to console]: =\n",
            "R[write to console]: =\n",
            "R[write to console]: =\n",
            "R[write to console]: =\n",
            "R[write to console]: =\n",
            "R[write to console]: =\n",
            "R[write to console]: =\n",
            "R[write to console]: =\n",
            "R[write to console]: =\n",
            "R[write to console]: =\n",
            "R[write to console]: =\n",
            "R[write to console]: =\n",
            "R[write to console]: =\n",
            "R[write to console]: =\n",
            "R[write to console]: =\n",
            "R[write to console]: =\n",
            "R[write to console]: =\n",
            "R[write to console]: =\n",
            "R[write to console]: =\n",
            "R[write to console]: =\n",
            "R[write to console]: =\n",
            "R[write to console]: =\n",
            "R[write to console]: =\n",
            "R[write to console]: =\n",
            "R[write to console]: =\n",
            "R[write to console]: =\n",
            "R[write to console]: =\n",
            "R[write to console]: =\n",
            "R[write to console]: =\n",
            "R[write to console]: =\n",
            "R[write to console]: =\n",
            "R[write to console]: =\n",
            "R[write to console]: =\n",
            "R[write to console]: =\n",
            "R[write to console]: =\n",
            "R[write to console]: =\n",
            "R[write to console]: =\n",
            "R[write to console]: =\n",
            "R[write to console]: =\n",
            "R[write to console]: =\n",
            "R[write to console]: =\n",
            "R[write to console]: =\n",
            "R[write to console]: =\n",
            "R[write to console]: =\n",
            "R[write to console]: =\n",
            "R[write to console]: =\n",
            "R[write to console]: =\n",
            "R[write to console]: =\n",
            "R[write to console]: =\n",
            "R[write to console]: \n",
            "\n",
            "R[write to console]: downloaded 35 KB\n",
            "\n",
            "\n",
            "R[write to console]: trying URL 'https://cran.rstudio.com/src/contrib/PerformanceAnalytics_2.0.4.tar.gz'\n",
            "\n",
            "R[write to console]: Content type 'application/x-gzip'\n",
            "R[write to console]:  length 2455098 bytes (2.3 MB)\n",
            "\n",
            "R[write to console]: =\n",
            "R[write to console]: =\n",
            "R[write to console]: =\n",
            "R[write to console]: =\n",
            "R[write to console]: =\n",
            "R[write to console]: =\n",
            "R[write to console]: =\n",
            "R[write to console]: =\n",
            "R[write to console]: =\n",
            "R[write to console]: =\n",
            "R[write to console]: =\n",
            "R[write to console]: =\n",
            "R[write to console]: =\n",
            "R[write to console]: =\n",
            "R[write to console]: =\n",
            "R[write to console]: =\n",
            "R[write to console]: =\n",
            "R[write to console]: =\n",
            "R[write to console]: =\n",
            "R[write to console]: =\n",
            "R[write to console]: =\n",
            "R[write to console]: =\n",
            "R[write to console]: =\n",
            "R[write to console]: =\n",
            "R[write to console]: =\n",
            "R[write to console]: =\n",
            "R[write to console]: =\n",
            "R[write to console]: =\n",
            "R[write to console]: =\n",
            "R[write to console]: =\n",
            "R[write to console]: =\n",
            "R[write to console]: =\n",
            "R[write to console]: =\n",
            "R[write to console]: =\n",
            "R[write to console]: =\n",
            "R[write to console]: =\n",
            "R[write to console]: =\n",
            "R[write to console]: =\n",
            "R[write to console]: =\n",
            "R[write to console]: =\n",
            "R[write to console]: =\n",
            "R[write to console]: =\n",
            "R[write to console]: =\n",
            "R[write to console]: =\n",
            "R[write to console]: =\n",
            "R[write to console]: =\n",
            "R[write to console]: =\n",
            "R[write to console]: =\n",
            "R[write to console]: =\n",
            "R[write to console]: =\n",
            "R[write to console]: \n",
            "\n",
            "R[write to console]: downloaded 2.3 MB\n",
            "\n",
            "\n",
            "R[write to console]: \n",
            "\n",
            "R[write to console]: \n",
            "R[write to console]: The downloaded source packages are in\n",
            "\t‘/tmp/RtmpskCF6n/downloaded_packages’\n",
            "R[write to console]: \n",
            "R[write to console]: \n",
            "\n",
            "R[write to console]: Installing package into ‘/usr/local/lib/R/site-library’\n",
            "(as ‘lib’ is unspecified)\n",
            "\n",
            "R[write to console]: trying URL 'https://cran.rstudio.com/src/contrib/Deriv_4.1.3.tar.gz'\n",
            "\n",
            "R[write to console]: Content type 'application/x-gzip'\n",
            "R[write to console]:  length 37214 bytes (36 KB)\n",
            "\n",
            "R[write to console]: =\n",
            "R[write to console]: =\n",
            "R[write to console]: =\n",
            "R[write to console]: =\n",
            "R[write to console]: =\n",
            "R[write to console]: =\n",
            "R[write to console]: =\n",
            "R[write to console]: =\n",
            "R[write to console]: =\n",
            "R[write to console]: =\n",
            "R[write to console]: =\n",
            "R[write to console]: =\n",
            "R[write to console]: =\n",
            "R[write to console]: =\n",
            "R[write to console]: =\n",
            "R[write to console]: =\n",
            "R[write to console]: =\n",
            "R[write to console]: =\n",
            "R[write to console]: =\n",
            "R[write to console]: =\n",
            "R[write to console]: =\n",
            "R[write to console]: =\n",
            "R[write to console]: =\n",
            "R[write to console]: =\n",
            "R[write to console]: =\n",
            "R[write to console]: =\n",
            "R[write to console]: =\n",
            "R[write to console]: =\n",
            "R[write to console]: =\n",
            "R[write to console]: =\n",
            "R[write to console]: =\n",
            "R[write to console]: =\n",
            "R[write to console]: =\n",
            "R[write to console]: =\n",
            "R[write to console]: =\n",
            "R[write to console]: =\n",
            "R[write to console]: =\n",
            "R[write to console]: =\n",
            "R[write to console]: =\n",
            "R[write to console]: =\n",
            "R[write to console]: =\n",
            "R[write to console]: =\n",
            "R[write to console]: =\n",
            "R[write to console]: =\n",
            "R[write to console]: =\n",
            "R[write to console]: =\n",
            "R[write to console]: =\n",
            "R[write to console]: =\n",
            "R[write to console]: =\n",
            "R[write to console]: =\n",
            "R[write to console]: \n",
            "\n",
            "R[write to console]: downloaded 36 KB\n",
            "\n",
            "\n",
            "R[write to console]: \n",
            "\n",
            "R[write to console]: \n",
            "R[write to console]: The downloaded source packages are in\n",
            "\t‘/tmp/RtmpskCF6n/downloaded_packages’\n",
            "R[write to console]: \n",
            "R[write to console]: \n",
            "\n",
            "R[write to console]: Loading required package: xts\n",
            "\n",
            "R[write to console]: Loading required package: zoo\n",
            "\n",
            "R[write to console]: \n",
            "Attaching package: ‘zoo’\n",
            "\n",
            "\n",
            "R[write to console]: The following objects are masked from ‘package:base’:\n",
            "\n",
            "    as.Date, as.Date.numeric\n",
            "\n",
            "\n",
            "R[write to console]: Loading required package: TTR\n",
            "\n",
            "R[write to console]: Registered S3 method overwritten by 'quantmod':\n",
            "  method            from\n",
            "  as.zoo.data.frame zoo \n",
            "\n",
            "R[write to console]: data.table 1.14.2 using 1 threads (see ?getDTthreads).  Latest news: r-datatable.com\n",
            "\n",
            "R[write to console]: \n",
            "Attaching package: ‘data.table’\n",
            "\n",
            "\n",
            "R[write to console]: The following objects are masked from ‘package:xts’:\n",
            "\n",
            "    first, last\n",
            "\n",
            "\n",
            "R[write to console]: \n",
            "Attaching package: ‘PerformanceAnalytics’\n",
            "\n",
            "\n",
            "R[write to console]: The following object is masked from ‘package:graphics’:\n",
            "\n",
            "    legend\n",
            "\n",
            "\n",
            "R[write to console]: \n",
            "Attaching package: ‘dplyr’\n",
            "\n",
            "\n",
            "R[write to console]: The following objects are masked from ‘package:data.table’:\n",
            "\n",
            "    between, first, last\n",
            "\n",
            "\n",
            "R[write to console]: The following objects are masked from ‘package:xts’:\n",
            "\n",
            "    first, last\n",
            "\n",
            "\n",
            "R[write to console]: The following objects are masked from ‘package:stats’:\n",
            "\n",
            "    filter, lag\n",
            "\n",
            "\n",
            "R[write to console]: The following objects are masked from ‘package:base’:\n",
            "\n",
            "    intersect, setdiff, setequal, union\n",
            "\n",
            "\n"
          ]
        }
      ]
    },
    {
      "cell_type": "code",
      "metadata": {
        "id": "OX-Swe-xak4w"
      },
      "source": [
        "%%R\n",
        "## Funciones a utilizar\n",
        "\n",
        "# Interpolación alambrada\n",
        "talamb=function(nodos,curva,plazos){\n",
        "  n=max(ncol(plazos),1)\n",
        "  m=max(ncol(nodos),1)\n",
        "  TC=matrix(0,1,n)\n",
        "  TL=matrix(0,1,n)\n",
        "  TF=matrix(0,1,n)\n",
        "  for (j in 1:n){\n",
        "    i=1\n",
        "    repeat\n",
        "    {\n",
        "      if(nodos[i]<= plazos[j] && plazos[j] <=nodos[i+1])\n",
        "      {\n",
        "        TC[j]=curva[i]\n",
        "        TL[j]=curva[i+1]\n",
        "        TF[j]=((((1+TL[j]*nodos[i+1]/360)/(1+TC[j]*nodos[i]/360))^((plazos[j]-nodos[i])/(nodos[i+1]-nodos[i]))*(1+TC[j]*nodos[i]/360))-1)*360/plazos[j]\n",
        "        break\n",
        "      }\n",
        "      else if (plazos[j]<nodos[1])\n",
        "      {\n",
        "        TC[j]=curva[1]\n",
        "        TL[j]=curva[1]\n",
        "        TF[j]=curva[1]\n",
        "        break\n",
        "      }\n",
        "      else if (plazos[j]>nodos[m])\n",
        "      {\n",
        "        TC[j]=curva[m]\n",
        "        TL[j]=curva[m]\n",
        "        TF[j]=curva[m]\n",
        "        break\n",
        "      }\n",
        "      else\n",
        "      {i=i+1}\n",
        "    }\n",
        "  }\n",
        "  as.matrix(t(as.numeric(rbind(TF))))\n",
        "}\n",
        "\n",
        "# Diagonalización\n",
        "diagv=function(x)\t{\n",
        "  n01=nrow(as.matrix(x))\n",
        "  m01=ncol(as.matrix(x))\n",
        "  dimmax=max(n01,m01)\n",
        "  res=matrix(0,dimmax,dimmax)\n",
        "  for (i in 1:dimmax){\n",
        "    res[i,i]=x[i]\n",
        "  }\n",
        "  res\n",
        "}\n",
        "\n",
        "# Cuantil\n",
        "equantile <- function(v,p=.5,ns=nrow(as.matrix(v))) \n",
        "{ \n",
        "  if ( !is.numeric(p) || any( p<0 | p>1) ) \n",
        "    stop(\"Percentil tiene que ser 0<=p<=1\") \n",
        "  ranking <- order(v) \n",
        "  vw=matrix(0,ns,1)\n",
        "  vw[1:ns]=seq(1/ns,ns)  \n",
        "  sumw <- cumsum(vw[ranking]) \n",
        "  plist <- sumw / sumw[ length(sumw) ] \n",
        "  v [ ranking [ which.max( plist >= p ) ] ]  \n",
        "} "
      ],
      "execution_count": null,
      "outputs": []
    },
    {
      "cell_type": "code",
      "metadata": {
        "id": "xL95WskZax-R"
      },
      "source": [
        "%%R\n",
        "#VaR con alisado\n",
        "\n",
        "wquantile <- function(v,w=rep(1,length(v)),p=.5) \n",
        "{ \n",
        "  if ( !is.numeric(w) || length(v) != length(w) ) \n",
        "    stop(\"Los valores y los pesos tienen que tener misma longitud\") \n",
        "  if ( !is.numeric(p) || any( p<0 | p>1) ) \n",
        "    stop(\"Percentil tiene que ser 0<=p<=1\") \n",
        "  if ( min(w) < 0 ) stop(\"Los pesos tiene que ser mayores que 0\") \n",
        "  ranking <- order(v) \n",
        "  sumw <- cumsum(w[ranking]) \n",
        "  plist <- sumw / sumw[ length(sumw) ] \n",
        "  v [ ranking [ which.max( plist >= p ) ] ]  \n",
        "} \n",
        "\n",
        "#CVaR con alisado\n",
        "wcvar <- function(v,w=rep(1,length(v)),p=.5) \n",
        "{ \n",
        "  if ( !is.numeric(w) || length(v) != length(w) ) \n",
        "    stop(\"Los valores y los pesos tienen que tener misma longitud\") \n",
        "  if ( !is.numeric(p) || any( p<0 | p>1) ) \n",
        "    stop(\"Percentil tiene que ser 0<=p<=1\") \n",
        "  if ( min(w) < 0 ) stop(\"Los pesos tiene que ser mayores que 0\") \n",
        "  ranking <- order(v) \n",
        "  sumw <- cumsum(w[ranking]) \n",
        "  plist <- sumw / sumw[ length(sumw) ] \n",
        "  loss= v [ ranking [ which( plist <= p ) ] ]  \n",
        "  esc=w [ ranking [ which( plist <= p ) ] ]  \n",
        "  sum(loss*esc)/(sum(esc))\n",
        "} "
      ],
      "execution_count": null,
      "outputs": []
    },
    {
      "cell_type": "markdown",
      "metadata": {
        "id": "pUnxfbtGa3gz"
      },
      "source": [
        "## Parámetros"
      ]
    },
    {
      "cell_type": "code",
      "metadata": {
        "id": "5YXSCZ5Aa8mP"
      },
      "source": [
        "%%R\n",
        "fval=as.Date(\"20220331\",format=\"%Y%m%d\") #Fecha de valoración\n",
        "alpha = 0.98\n",
        "itpl = 0 # 0 Interpolación Lineal, 1 Interpolación Alambrada"
      ],
      "execution_count": null,
      "outputs": []
    },
    {
      "cell_type": "markdown",
      "metadata": {
        "id": "quWsKRfFbHen"
      },
      "source": [
        "### Ejercicio 1\n",
        "1000 acciones de Grupo Carso, -5000 de América Móvil y 1200 WalMart."
      ]
    },
    {
      "cell_type": "code",
      "metadata": {
        "id": "OD4D__mcbMhr"
      },
      "source": [
        "%%R\n",
        "Symbols<-c  (\"AMXL.MX\", \"GCARSOA1.MX\", \"WALMEX.MX\" )\n",
        "pos_eq=c(-5000,1000,1200)\n",
        "nh=3660 # Días de historia"
      ],
      "execution_count": null,
      "outputs": []
    },
    {
      "cell_type": "markdown",
      "metadata": {
        "id": "KeznTA0zbQRo"
      },
      "source": [
        "### Ejercicio 2\n",
        "1500 Dólares (peso dólar), 700 Euros, y -600 Libras Esterlinas."
      ]
    },
    {
      "cell_type": "code",
      "metadata": {
        "id": "xHeyiphLbVx9"
      },
      "source": [
        "%%R\n",
        "SymbolsFX<-c(\"EURUSD=X\",\"GBPUSD=X\",\"USDMXN=X\")\n",
        "pos_fx=c(700,-600,1500)\n",
        "nh=3660 # Días de historia"
      ],
      "execution_count": null,
      "outputs": []
    },
    {
      "cell_type": "markdown",
      "metadata": {
        "id": "P6jqXMvIbZb4"
      },
      "source": [
        "### Ejercicio 3\n",
        "2 bonos largos, uno cupón cero de CETES (con la curva guber) con nocional de 1500 vencimiento de 180 días, un Bono M con tasa fija de 6.5% con un cupon de 6.05% anual vencimiento de 3600 días y nocional de 1000, un bono corto 1000 Bondes con plazo 707 con cupón que paga 28 días (calcular cupón basado en curva de fondeo y descontar con la curva correspondiente)."
      ]
    },
    {
      "cell_type": "code",
      "metadata": {
        "id": "w5iX74rYbdFI"
      },
      "source": [
        "%%R\n",
        "\n",
        "#CETES\n",
        "base = \"Risk-Management/data/tasa_guber.txt\"\n",
        "plazos_bcc = cbind(180)\n",
        "contratos_bcc = cbind(1500)\n",
        "nominal_bcc = 10\n",
        "\n",
        "\n",
        "#BONO M CON TASA FIJA\n",
        "\n",
        "btasadesc=\"Risk-Management/data/tasa_yield.txt\"\n",
        "tf = cbind(0.065)\n",
        "tfcupon_bm = cbind(0.0605)\n",
        "plazos_bm = cbind(3600)\n",
        "plazocupon_bm = cbind(182)\n",
        "contratos_bm = cbind(1000)\n",
        "nominal_bm = 100\n",
        "\n",
        "#BONDES D\n",
        "btasadescst=\"Risk-Management/data/tasa_guber_st.txt\"\n",
        "btasafondeo=\"Risk-Management/data/tfondeo.txt\"\n",
        "plazos_bdm= cbind(707, 707) #Vencimiento del bono\n",
        "plazocupon_bdm= cbind(28, 28) #plazos_bdm fijos de cada cupón\n",
        "contratos_bdm = cbind(-1000, 0)\n",
        "nominal_bdm=100"
      ],
      "execution_count": null,
      "outputs": []
    },
    {
      "cell_type": "markdown",
      "metadata": {
        "id": "s106nu2Kbisj"
      },
      "source": [
        "### Ejercicio 4\n",
        "100 contratos de compra de futuros de peso dólar con un strike de 20.83 vencimiento de 5 días, y 50 contratos\n",
        "de venta de futuros del IPC con strike de 49525 vencimiento de 53 días."
      ]
    },
    {
      "cell_type": "code",
      "metadata": {
        "id": "Sq9TsyoPbl3i"
      },
      "source": [
        "%%R\n",
        "#FORWARDS TDC\n",
        "bext=\"Risk-Management/data/tasa_libor.txt\"\n",
        "bdom=\"Risk-Management/data/tasa_fwd.txt\"\n",
        "SymbolsFX_ftdc<-c(\"USDMXN=X\", \"GBPUSD=X\" ) \n",
        "plazos_fwd=cbind(5)\n",
        "contratos_fwd=cbind(100)\n",
        "kst_fwd=cbind(20.83)\n",
        "nominal_fwd=1\n",
        "yext=1 #si se carga información de yahoo en la fecha definida por fval o SymbolsFX, en caso contrario se utiliza información que se tendrá que cargar de tasas_spot.txt\n",
        "trlib=1 #1 si la curva libor viene a 182 0 si no.\n",
        "\n",
        "#FORWARDS DE IPC\n",
        "#Descontamos con gubernamental\n",
        "base=\"Risk-Management/data/tasa_guber.txt\"\n",
        "SymbolsEQ_find<-c(\"^MXX\", \"GCARSOA1.MX\" )\n",
        "plazos_fwd_ind=cbind(53)\n",
        "contratos_fwd_ind=cbind(50)\n",
        "kst_fwd_ind=cbind(49525)\n",
        "nominal_fwd_ind=1"
      ],
      "execution_count": null,
      "outputs": []
    },
    {
      "cell_type": "markdown",
      "metadata": {
        "id": "P5Z182t1bqSg"
      },
      "source": [
        "### Ejercicio 5\n",
        "\n",
        "Un swap largo nocional de 16 millones pagando tasa fija de 6.6% anual (cada 28 días) y recibiendo tasa flotante de la curva TIIE vencimiento de 588 días, un swap corto con nocional de 12 millones pagando tasa variable de la TIIE y recibiendo fija de 5.9% vencimiento de 270."
      ]
    },
    {
      "cell_type": "code",
      "metadata": {
        "id": "4b6MAsc9bt-0"
      },
      "source": [
        "%%R\n",
        "btasadesc_sw=\"Risk-Management/data/tasa_TIIE_SW_OP.txt\"\n",
        "btasacupvar_sw=\"Risk-Management/data/tasa_DIRS_SW_OP.txt\"\n",
        "tasafija_sw=cbind(0.066,0.059) #se establece la tasa fija a pagar para cada swap\n",
        "plazos_sw=cbind(588,270) #se establece el número de días que vivirá el swap\n",
        "plazocupon_sw=cbind(28,28) #se establece el número de días que se pagará cada cupón\n",
        "contratos_sw=cbind(16000000,-12000000) #se establece el número de contratos_sw de cada swap\n",
        "nominal_sw=cbind(1, 1) #se establece el nominal_sw de cada swap\n",
        "por_sw=cbind(0,1) #se establece 0 si se paga tasa fija y 1 si se paga tasa variable"
      ],
      "execution_count": null,
      "outputs": []
    },
    {
      "cell_type": "markdown",
      "metadata": {
        "id": "li4reWgTbxwA"
      },
      "source": [
        "### Ejercicio 6\n",
        "Dos opciones europeas, una de tasa de interés larga call con strike de 5.8 % vencimiento de 1700 días 1000\n",
        "contratos, y otra put larga de tasa de interés con strike de 6.0 % de la TIIE nocional de 500 contratos vencimiento\n",
        "700 días. (se valuará basado en las superficies de volatilidad si es in o out the money y en las curvas de tasa de interés TIIE o Pagarés)."
      ]
    },
    {
      "cell_type": "code",
      "metadata": {
        "id": "nxZZlEMob2vo"
      },
      "source": [
        "%%R\n",
        "btasadesc_oir=\"Risk-Management/data/tasa_TIIE_SW_OP.txt\" #Tasa de descuento\n",
        "btasaspot_oir=\"Risk-Management/data/tasa_DIRS_SW_OP.txt\" #Tasa Spot\n",
        "bvolspot_oir=\"Risk-Management/data/tvoltiie_opc.txt\" #Volatilidad\n",
        "plazos_oir=cbind(1700, 700) #T-t\n",
        "pr_oir=28 #plazo de referencia  \n",
        "dct_oir=360 #d_base\n",
        "cp_oir=cbind(1,0) #si es call (cap) o put (floor) \n",
        "K_oir=cbind(0.058,0.06) #Strike\n",
        "contratos_oir=cbind(1000,500)\n",
        "nominal_oir=1\n",
        "cs_oir=1 #1 si es continua la tasa 0 si es simple"
      ],
      "execution_count": null,
      "outputs": []
    },
    {
      "cell_type": "markdown",
      "metadata": {
        "id": "Y4nVDmF0b7gn"
      },
      "source": [
        "## Carga de Datos"
      ]
    },
    {
      "cell_type": "markdown",
      "metadata": {
        "id": "Vx4v3M7hb_-6"
      },
      "source": [
        "### Ejercicio 1"
      ]
    },
    {
      "cell_type": "code",
      "metadata": {
        "id": "VLYt1icYcby_"
      },
      "source": [
        "%%R\n",
        "start_date=Sys.Date()-nh #Fecha inicial\n",
        "dataEnv<-new.env()\n",
        "getSymbols.yahoo(Symbols,env=dataEnv,from=start_date)\n",
        "\n",
        "bt.prep(dataEnv,align='remove.na',fill.gaps = T)\n",
        "stock_prices = dataEnv$prices"
      ],
      "execution_count": null,
      "outputs": []
    },
    {
      "cell_type": "markdown",
      "metadata": {
        "id": "HYxfxygecfm6"
      },
      "source": [
        "###Ejercicio 2"
      ]
    },
    {
      "cell_type": "code",
      "metadata": {
        "id": "Ts7GMM5UcqBk"
      },
      "source": [
        "%%R\n",
        "  start_date=Sys.Date()-nh #Fecha inicial\n",
        "  dataEnvFX<-new.env() #Creación del objeto para guardar los datos\n",
        "  getSymbols.yahoo(SymbolsFX,env=dataEnvFX,from=start_date) #Obtención de datos\n",
        "  bt.prep(dataEnvFX,align='remove.na',fill.gaps=T) #Limpieza\n",
        "  stock_pricesFX = dataEnvFX$prices #Obtenemos el precio\n",
        "\n",
        "  stock_pricesFX=cbind(stock_pricesFX[,1,with=F]*stock_pricesFX[,3,with=F],stock_pricesFX[,2,with=F]*stock_pricesFX[,3,with=F],stock_pricesFX[,3,with=F])\n",
        "stock_prices_EQFX=merge(stock_pricesFX,stock_prices,join = \"inner\")\n",
        "\n",
        "aux2=data.table(Date=as.Date(index(stock_prices_EQFX)),coredata(stock_prices_EQFX))\n"
      ],
      "execution_count": null,
      "outputs": []
    },
    {
      "cell_type": "markdown",
      "metadata": {
        "id": "a0zmHY8CcueV"
      },
      "source": [
        "###Ejercicio 3"
      ]
    },
    {
      "cell_type": "code",
      "metadata": {
        "id": "nVrdYFIdcu8T",
        "colab": {
          "base_uri": "https://localhost:8080/"
        },
        "outputId": "bc1a8ffb-2fb1-4cc0-97e8-140d73191277"
      },
      "source": [
        "%%R\n",
        "\n",
        "# CETES\n",
        "data_cetes<-read.table(base)\n",
        "n_gov<-nrow(data_cetes)\n",
        "m_gov=ncol(data_cetes)\n",
        "x_orig_gov=data.frame(data_cetes[2:n_gov,1:m_gov])\n",
        "x_orig_gov=as.data.table(mutate(data_cetes[2:n_gov,1:m_gov],Date=as.Date(V1,format=\"%Y%m%d\")))\n",
        "x_orig_gov=x_orig_gov%>%select(-V1)\n",
        "nodos_gov=data.frame(data_cetes[1,2:m_gov])\n",
        "\n",
        "# BONO M\n",
        "data_m<-read.table(btasadesc)\n",
        "n_bonom<-nrow(data_m)\n",
        "m_bonom=ncol(data_m)\n",
        "x_orig_bonom=data.frame(data_m[2:n_bonom,1:m_bonom])\n",
        "x_orig_bonom=as.data.table(mutate(data_m[2:n_bonom,1:m_bonom],Date=as.Date(V1,format=\"%Y%m%d\")))\n",
        "x_orig_bonom=x_orig_bonom%>%select(-V1)\n",
        "nodos_bonom=data.frame(data_m[1,2:m_bonom])\n",
        "\n",
        "# BONDE D\n",
        "\n",
        "data1<-read.table(base)\n",
        "n<-nrow(data1)\n",
        "m_bd=ncol(data1)\n",
        "X_orig_bd=as.data.table(mutate(data1[2:n,1:m_bd],Date=as.Date(V1,format=\"%Y%m%d\")))\n",
        "X_orig_bd%>%select(-V1)\n",
        "\n",
        "X1_orig=mutate(data.frame(data1[2:n,1:m_bd]), V1=as.Date(V1,format=\"%Y%m%d\"))\n",
        "print(head(X1_orig[,1:4]))\n",
        "nodos=data.frame(data1[1,2:m_bd])\n",
        "n=n-1\n",
        "\n",
        "data3<-read.table(btasadescst)\n",
        "n3<-nrow(data3)\n",
        "m3_bd=ncol(data3)\n",
        "X3_orig_bd=as.data.table(mutate(data3[2:n,1:m3_bd],Date=as.Date(V1,format=\"%Y%m%d\")))\n",
        "X3_orig_bd=X3_orig_bd%>%select(-V1)\n",
        "\n",
        "X3a_orig=mutate(data.frame(data1[2:n,1:m_bd]), V1=as.Date(V1,format=\"%Y%m%d\"))\n",
        "nodos3_bd=data.frame(data3[1,2:m3_bd])\n",
        "n3=n3-1\n",
        "\n",
        "data2<-read.table(btasafondeo)\n",
        "n2<-nrow(data2)\n",
        "X2_orig_bd=data.frame(data2[2:n2,1:2])\n",
        "\n",
        "X2_orig_bd=mutate(X2_orig_bd, V1=as.Date(V1,format=\"%Y%m%d\"), Date=as.Date(V1,format=\"%Y%m%d\"), V2=as.numeric(as.character(V2)))\n",
        "tfh=seq(min(X2_orig_bd$V1), max(X2_orig_bd$V1), \"days\") #Sucesión de dias para tasa fondeo\n",
        "tfhd=data.frame(ID=1:count(tfh),fecha=tfh)\n",
        "\n",
        "# Cruzar la sucesión de todos los días versus el de tasa de fondeo\n",
        "tfhd=setDT(tfhd)[, Date := tfh][order(-Date)]\n",
        "X2_orig_bd=setDT(X2_orig_bd)[, Date := V1][order(-Date)]\n",
        "# Rolling join unión por rolling, rellena las fechas que faltaban con el último valor conocido \"roll=Inf\"\n",
        "X2_orig_bd=X2_orig_bd[tfhd, on = .(Date), roll = Inf] \n",
        "\n",
        "# Buscar fecha de valuación en tfondeo\n",
        "tf_act=X2_orig_bd[fecha==fval,]$V2/100\n",
        "tf_int=X2_orig_bd[fecha<=fval & fecha>=(fval-plazocupon_bdm[1])]$V2/100\n",
        "\n",
        "X1_orig=setDT(X1_orig)[, Date:= V1][order(-Date)] #Para alinear con valor presente y tasa de fondeo.\n"
      ],
      "execution_count": null,
      "outputs": [
        {
          "output_type": "stream",
          "name": "stdout",
          "text": [
            "          V1         V2         V3         V4\n",
            "2 2022-03-31 0.07845614 0.07749243 0.07650381\n",
            "3 2022-03-30 0.07663158 0.07749243 0.07650381\n",
            "4 2022-03-29 0.07663158 0.07749243 0.07685555\n",
            "5 2022-03-28 0.07753656 0.07749243 0.07685555\n",
            "6 2022-03-25 0.07663158 0.07749243 0.07685555\n",
            "7 2022-03-24 0.07663158 0.07742413 0.07685555\n"
          ]
        }
      ]
    },
    {
      "cell_type": "markdown",
      "metadata": {
        "id": "HHcqq_shcvmz"
      },
      "source": [
        "###Ejercicio 4"
      ]
    },
    {
      "cell_type": "code",
      "metadata": {
        "id": "3sz1misScwAb"
      },
      "source": [
        "%%R\n",
        "#CARGA DE DATOS DE  FORWARDS DE TDC\n",
        "#datas\n",
        "#data<-read.table(\"tasa_tiie.txt\")\n",
        "data1<-read.table(bext)\n",
        "data2<-read.table(bdom)\n",
        "\n",
        "########minimos para parametrizar\n",
        "n1=nrow(data1)\n",
        "n2=nrow(data2)\n",
        "m1_ftdc=ncol(data1)\n",
        "m2_ftdc=ncol(data2)\n",
        "n=min(n1,n2)-1\n",
        "###NODOS###\n",
        "nodos1_ftdc=data.frame(data1[1,2:m1_ftdc])\n",
        "nodos2_ftdc=data.frame(data2[1,2:m2_ftdc])\n",
        "####MATRICES DEL MISMO TAMAÑO MENOS DOLAR\n",
        "\n",
        "x1_ftdc=as.data.table(mutate(data1[2:n,1:m1_ftdc],Date=as.Date(V1,format=\"%Y%m%d\")))\n",
        "\n",
        "x1_ftdc=x1_ftdc%>%select(-V1)\n",
        "x2_ftdc=as.data.table(mutate(data2[2:n,1:m2_ftdc],Date=as.Date(V1,format=\"%Y%m%d\")))\n",
        "x2_ftdc=x2_ftdc%>%select(-V1)\n",
        "\n",
        "\n",
        "###Para Dolar\n",
        "\n",
        "if (yext==1)\n",
        "{\n",
        "#Cargar los símbolos de yahoo finance para FX\n",
        "  start_date=fval-3660 #fecha inicial\n",
        "\n",
        "\n",
        "  \n",
        "#Creación del objeto para guardar los datos\n",
        "  dataEnvFX_ftdc<-new.env()\n",
        "  \n",
        "#obtener los datos\n",
        "  getSymbols.yahoo(SymbolsFX_ftdc,env=dataEnvFX_ftdc,from=start_date, to=(fval))\n",
        "#limpiarlos, alinearnos y quedarnos con el precio de cierre \n",
        "  bt.prep(dataEnvFX_ftdc,align='remove.na',fill.gaps=T)\n",
        "  \n",
        "#muestra de datos\n",
        "  head(dataEnvFX_ftdc$prices[,2])\n",
        "  \n",
        "#Nos quedamos con los precios\n",
        "  X3_ftdc=data.table(Date=as.Date(index(dataEnvFX_ftdc$prices[,2])),coredata(dataEnvFX_ftdc$prices[,2]))\n",
        "} else  \n",
        "{ \n",
        "data3<-read.table(btsp)\n",
        "n3<-nrow(data3)\n",
        "m3<-ncol(data3)\n",
        "X3=data.table(as.matrix(as.double(as.matrix(data3[2:(n+1),m3]))))\n",
        "X3_find=as.data.table(mutate(data3[2:(n+1),1:m3],Date=as.Date(V1,format=\"%Y%m%d\")))\n",
        "}\n",
        "\n",
        "\n",
        "# CARGA DE DATOS DE  FORWARD DE IPC\n",
        "\n",
        "data<-read.table(base)\n",
        "n<-nrow(data)\n",
        "m_gov=ncol(data)\n",
        "#x_orig_gov=data.frame(data[2:n,1:m_gov])\n",
        "x_orig_gov=as.data.table(mutate(data[2:n,1:m_gov],Date=as.Date(V1,format=\"%Y%m%d\")))\n",
        "x_orig_gov=x_orig_gov%>%select(-V1)\n",
        "nodos_gov=data.frame(data[1,2:m_gov])\n",
        "\n",
        "  #Cargar los símbolos de yahoo finance para EQ\n",
        "  start_date=fval-nh #fecha inicial\n",
        "  \n",
        "  #Creación del objeto para guardar los datos\n",
        "  dataEnvEQ<-new.env()\n",
        "  \n",
        "  #obtener los datos\n",
        "  getSymbols.yahoo(SymbolsEQ_find,env=dataEnvEQ,from=start_date, to=(fval))\n",
        "  #limpiarlos, alinearnos y quedarnos con el precio de cierre \n",
        "  bt.prep(dataEnvEQ,align='remove.na',fill.gaps=T)\n",
        "  \n",
        "  #muestra de datos\n",
        "#  head(dataEnvEQ$prices)\n",
        "  \n",
        "  #Nos quedamos con los precios\n",
        "  X3_find=data.table(Date=as.Date(index(dataEnvEQ$prices[,2])),coredata(dataEnvEQ$prices[,2]))"
      ],
      "execution_count": null,
      "outputs": []
    },
    {
      "cell_type": "markdown",
      "metadata": {
        "id": "xG2W58trcwe-"
      },
      "source": [
        "###Ejercicio 5"
      ]
    },
    {
      "cell_type": "code",
      "metadata": {
        "id": "voIQUqkUcxHL"
      },
      "source": [
        "%%R\n",
        "data1<-read.table(btasadesc_sw)\n",
        "n1<-nrow(data1)\n",
        "m1_orig_sw=ncol(data1)\n",
        "X1_orig_sw=data.table(mutate(data1[2:n1,1:m1_orig_sw],Date=as.Date(V1,format=\"%Y%m%d\")))\n",
        "X1_orig_sw=X1_orig_sw%>%select(-V1)\n",
        "nodos1_sw=data.frame(data1[1,2:m1_orig_sw])\n",
        "  \n",
        "data2<-read.table(btasacupvar_sw)\n",
        "n2<-nrow(data2)\n",
        "m2_orig_sw=ncol(data2)\n",
        "X2_orig_sw=data.table(mutate(data2[2:n1,1:m1_orig_sw],Date=as.Date(V1,format=\"%Y%m%d\")))\n",
        "X2_orig_sw=X2_orig_sw%>%select(-V1)\n",
        "nodos2_sw=data.frame(data2[1,2:m2_orig_sw])"
      ],
      "execution_count": null,
      "outputs": []
    },
    {
      "cell_type": "markdown",
      "metadata": {
        "id": "mQNUYMe8c2-P"
      },
      "source": [
        "###Ejercicio 6"
      ]
    },
    {
      "cell_type": "code",
      "metadata": {
        "id": "0XIOru6ndQ1g"
      },
      "source": [
        "%%R\n",
        "  #carga de rho\t\n",
        "  data1<-read.table(btasadesc_oir) \n",
        "  n<-nrow(data1)\n",
        "  m1_orig_oir=ncol(data1)\n",
        "  x1_orig_oir=data.table(mutate(data1[2:n,1:m1_orig_oir],Date=as.Date(V1,format=\"%Y%m%d\")))\n",
        "  x1_orig_oir=x1_orig_oir%>%select(-V1)\n",
        "  nodos1_oir=data.frame(data1[1,2:m1_orig_oir])\n",
        "  \n",
        "  #data1[1:3,]\n",
        "  #carga de tasas spot\n",
        "  data2<-read.table(btasaspot_oir)\n",
        "  n<-nrow(data2)\n",
        "  m2_orig_oir=ncol(data2)\n",
        "  x2_orig_oir=data.table(mutate(data2[2:n,1:m2_orig_oir],Date=as.Date(V1,format=\"%Y%m%d\")))\n",
        "  x2_orig_oir=x2_orig_oir%>%select(-V1)\n",
        "  nodos2_oir=data.frame(data2[1,2:m2_orig_oir])\n",
        "  #carga de volatilidades de spot\n",
        "  data3<-read.table(bvolspot_oir)\n",
        "  n<-nrow(data3)\n",
        "  m3_orig_oir=ncol(data3)\n",
        "  x3_orig_oir=data.table(mutate(data3[2:n,1:m3_orig_oir],Date=as.Date(V1,format=\"%Y%m%d\")))\n",
        "  x3_orig_oir=x3_orig_oir%>%select(-V1)\n",
        "  \n",
        "  nodos3_oir=data.frame(data3[1,2:m3_orig_oir])"
      ],
      "execution_count": null,
      "outputs": []
    },
    {
      "cell_type": "markdown",
      "metadata": {
        "id": "Ji8Uq3EzdU-m"
      },
      "source": [
        "## Integración de Insumos"
      ]
    },
    {
      "cell_type": "markdown",
      "metadata": {
        "id": "pCEHhalpdZIp"
      },
      "source": [
        "### Cruce de tablas"
      ]
    },
    {
      "cell_type": "code",
      "metadata": {
        "id": "0_yicFZrdcTz",
        "colab": {
          "base_uri": "https://localhost:8080/"
        },
        "outputId": "49411519-01cb-4371-936a-e450a369563e"
      },
      "source": [
        "%%R\n",
        "#INTERSECCIÓN DE FECHAS DE TODOS LOS INSUMOS    \n",
        "  \n",
        "\n",
        "lin_gub=data.table(Date=as.Date(aux2[x_orig_gov,on=.(Date),nomatch=0]$Date)) #Fechas acciones, equity, guber, yield\n",
        "\n",
        "#lin_gub_aux=data.table(Date=as.Date(lin_gub[x_orig_bonom,on=.(Date),nomatch=0]$Date)) \n",
        "\n",
        "lin_gub_bmybdst_aux=data.table(Date=as.Date(lin_gub[X3_orig_bd,on=.(Date),nomatch=0]$Date)) #Fechas acciones, equity, guber, yield y st (bonde)\n",
        "\n",
        "\n",
        "lin_gub_bmybdst=data.table(Date=as.Date(X3_ftdc[lin_gub_bmybdst_aux,on=.(Date),nomatch=0]$Date)) #Fechas acciones, equity, guber, yield y st (bonde)\n",
        "\n",
        "lin_gub_bmybdst_flib=data.table(Date=as.Date(lin_gub_bmybdst[x1_ftdc,on=.(Date),nomatch=0]$Date)) #Fechas acciones, equity, guber, yield,  st (bonde), libor\n",
        "\n",
        "lin_gub_bmybdst_flibfwd=data.table(Date=as.Date(lin_gub_bmybdst_flib[x2_ftdc,on=.(Date),nomatch=0]$Date)) #Fechas acciones, equity, guber, yield, st (bonde), libor, fwd\n",
        "\n",
        "lin_gub_bmybdst_flibfwdspind=data.table(Date=as.Date(lin_gub_bmybdst_flibfwd[X3_find,on=.(Date),nomatch=0]$Date)) #Fechas acciones, equity, guber, yield, st (bonde), libor, fwd, spot, equity or index\n",
        "\n",
        "\n",
        "\n",
        "lin_gub_bmybdst_flibfwdspind_swcup=data.table(Date=as.Date(lin_gub_bmybdst_flibfwdspind[X1_orig_sw,on=.(Date),nomatch=0]$Date)) #Fechas acciones, equity, guber, yield, st (bonde), libor, fwd, spot, equity or index, swap cupón\n",
        "\n",
        "lin_gub_bmybdst_flibfwdspind_swcupvp=data.table(Date=as.Date(lin_gub_bmybdst_flibfwdspind_swcup[X2_orig_sw,on=.(Date),nomatch=0]$Date)) #Fechas acciones, equity, guber, yield, st (bonde), libor, fwd, spot, equity or index, swap cupón\n",
        "\n",
        "lin_gub_bmybdst_flibfwdspind_swcupvp_oirs=data.table(Date=as.Date(lin_gub_bmybdst_flibfwdspind_swcupvp[x1_orig_oir,on=.(Date),nomatch=0]$Date)) #Fechas acciones, equity, guber, yield, st (bonde), libor, fwd, spot, equity or index, swap cupón, opciones ir spot\n",
        "\n",
        "lin_gub_bmybdst_flibfwdspind_swcupvp_oirsvp=data.table(Date=as.Date(lin_gub_bmybdst_flibfwdspind_swcupvp_oirs[x2_orig_oir,on=.(Date),nomatch=0]$Date)) #Fechas acciones, equity, guber, yield, st (bonde), libor, fwd, spot, equity or index, swap cupón, opciones ir spot, opc ir vp\n",
        "\n",
        "lin_gub_bmybdst_flibfwdspind_swcupvp_oirsvpvol=data.table(Date=as.Date(lin_gub_bmybdst_flibfwdspind_swcupvp_oirsvp[x3_orig_oir,on=.(Date),nomatch=0]$Date)) #Fechas acciones, equity, guber, yield, st (bonde), libor, fwd, spot, equity or index, swap cupón, opciones ir spot, opc ir vp, opc ir vol\n",
        "\n",
        "\n",
        "lin_gub_bmybdst_flibfwdspind_swcupvp_oirsvpvol=unique(lin_gub_bmybdst_flibfwdspind_swcupvp_oirsvpvol)\n",
        "\n",
        "n=nrow(lin_gub_bmybdst_flibfwdspind_swcupvp_oirsvpvol)\n",
        "n"
      ],
      "execution_count": null,
      "outputs": [
        {
          "output_type": "stream",
          "name": "stdout",
          "text": [
            "[1] 253\n"
          ]
        }
      ]
    },
    {
      "cell_type": "markdown",
      "metadata": {
        "id": "H1S6OC4qdmHE"
      },
      "source": [
        "### Formato de historia"
      ]
    },
    {
      "cell_type": "markdown",
      "metadata": {
        "id": "CfNMTBCFdoty"
      },
      "source": [
        "#### Historia de todos"
      ]
    },
    {
      "cell_type": "code",
      "metadata": {
        "id": "GR3OTHBZdlLA",
        "colab": {
          "base_uri": "https://localhost:8080/"
        },
        "outputId": "6a79fb8a-059d-4f2e-c235-c53b57ff7472"
      },
      "source": [
        "%%R\n",
        "n=nrow(lin_gub_bmybdst_flibfwdspind_swcupvp_oirsvpvol)\n",
        "n"
      ],
      "execution_count": null,
      "outputs": [
        {
          "output_type": "stream",
          "name": "stdout",
          "text": [
            "[1] 253\n"
          ]
        }
      ]
    },
    {
      "cell_type": "markdown",
      "metadata": {
        "id": "7cMP2KW5dwN0"
      },
      "source": [
        "#### Ejercicios 1 y 2"
      ]
    },
    {
      "cell_type": "code",
      "metadata": {
        "id": "oEJD42__d08N"
      },
      "source": [
        "%%R\n",
        "#historia de acciones y divisas\n",
        "stock_prices_EQFX=lin_gub_bmybdst_flibfwdspind_swcupvp_oirsvpvol[aux2,on=.(Date),nomatch=0][order(-Date)]\n",
        "stock_prices_EQFX=stock_prices_EQFX%>%select(-Date)"
      ],
      "execution_count": null,
      "outputs": []
    },
    {
      "cell_type": "markdown",
      "metadata": {
        "id": "Dlq9hyxJd1ZU"
      },
      "source": [
        "#### Ejercicio 3"
      ]
    },
    {
      "cell_type": "code",
      "metadata": {
        "id": "UI2Vm4QLd3N0"
      },
      "source": [
        "%%R\n",
        "#Historia de curva gubernamental y yield\n",
        "x_orig_gov=lin_gub_bmybdst_flibfwdspind_swcupvp_oirsvpvol[x_orig_gov,on=.(Date),nomatch=0][order(-Date)]\n",
        "x_orig_gov=x_orig_gov%>%select(-Date)\n",
        "\n",
        "#Historia de curvas de bonde\n",
        "X1_orig=lin_gub_bmybdst_flibfwdspind_swcupvp_oirsvpvol[X1_orig,on=.(Date),nomatch=0][order(-Date)]\n",
        "X1_orig=X1_orig%>%select(-Date)\n",
        "X2_orig_bd=lin_gub_bmybdst_flibfwdspind_swcupvp_oirsvpvol[X2_orig_bd,on=.(Date),nomatch=0][order(-Date)]\n",
        "X2_orig_bd=X2_orig_bd%>%select(-Date)\n",
        "X3_orig_bd=lin_gub_bmybdst_flibfwdspind_swcupvp_oirsvpvol[X3_orig_bd,on=.(Date),nomatch=0][order(-Date)]\n",
        "X3_orig_bd=X3_orig_bd%>%select(-Date)\n",
        "\n"
      ],
      "execution_count": null,
      "outputs": []
    },
    {
      "cell_type": "markdown",
      "metadata": {
        "id": "l691TCbUd3mt"
      },
      "source": [
        "#### Ejercicio 4"
      ]
    },
    {
      "cell_type": "code",
      "metadata": {
        "id": "P4v05W3Sd48s"
      },
      "source": [
        "%%R\n",
        "#historia de curvas de forward tdc\n",
        "x1_ftdc=lin_gub_bmybdst_flibfwdspind_swcupvp_oirsvpvol[x1_ftdc,on=.(Date),nomatch=0][order(-Date)]\n",
        "x1_ftdc=x1_ftdc%>%select(-Date)/100\n",
        "x2_ftdc=lin_gub_bmybdst_flibfwdspind_swcupvp_oirsvpvol[x2_ftdc,on=.(Date),nomatch=0][order(-Date)]\n",
        "x2_ftdc=x2_ftdc%>%select(-Date)/100\n",
        "X3_ftdc=lin_gub_bmybdst_flibfwdspind_swcupvp_oirsvpvol[X3_ftdc,on=.(Date),nomatch=0][order(-Date)]\n",
        "X3_ftdc=X3_ftdc%>%select(-Date)\n",
        "\n",
        "#historia de curvas de forward ind\n",
        "#CONSIDERAR LA CURVA GUBERNAMENTAL X1_ORIG_GOV\n",
        "X3_find=lin_gub_bmybdst_flibfwdspind_swcupvp_oirsvpvol[X3_find,on=.(Date),nomatch=0][order(-Date)]\n",
        "X3_find=X3_find%>%select(-Date)"
      ],
      "execution_count": null,
      "outputs": []
    },
    {
      "cell_type": "markdown",
      "metadata": {
        "id": "r0OtCdLqd5P8"
      },
      "source": [
        "#### Ejercicio 5"
      ]
    },
    {
      "cell_type": "code",
      "metadata": {
        "id": "EETfth8od6hB"
      },
      "source": [
        "%%R\n",
        "X1_orig_sw=lin_gub_bmybdst_flibfwdspind_swcupvp_oirsvpvol[X1_orig_sw,on=.(Date),nomatch=0][order(-Date)]\n",
        "X1_orig_sw=X1_orig_sw%>%select(-Date)/100\n",
        "X2_orig_sw=lin_gub_bmybdst_flibfwdspind_swcupvp_oirsvpvol[X2_orig_sw,on=.(Date),nomatch=0][order(-Date)]\n",
        "X2_orig_sw=X2_orig_sw%>%select(-Date)/100"
      ],
      "execution_count": null,
      "outputs": []
    },
    {
      "cell_type": "markdown",
      "metadata": {
        "id": "XHF4M6hid7BV"
      },
      "source": [
        "#### Ejercicio 6"
      ]
    },
    {
      "cell_type": "code",
      "metadata": {
        "id": "QdkV2Ozgd8Mn"
      },
      "source": [
        "%%R\n",
        "x1_orig_oir=lin_gub_bmybdst_flibfwdspind_swcupvp_oirsvpvol[x1_orig_oir,on=.(Date),nomatch=0][order(-Date)]\n",
        "x1_orig_oir=x1_orig_oir%>%select(-Date)/100\n",
        "x2_orig_oir=lin_gub_bmybdst_flibfwdspind_swcupvp_oirsvpvol[x2_orig_oir,on=.(Date),nomatch=0][order(-Date)]\n",
        "x2_orig_oir=x2_orig_oir%>%select(-Date)/100\n",
        "x3_orig_oir=lin_gub_bmybdst_flibfwdspind_swcupvp_oirsvpvol[x3_orig_oir,on=.(Date),nomatch=0][order(-Date)]\n",
        "x3_orig_oir=x3_orig_oir%>%select(-Date)"
      ],
      "execution_count": null,
      "outputs": []
    },
    {
      "cell_type": "markdown",
      "metadata": {
        "id": "igoAbhE5wA7M"
      },
      "source": [
        "## Valuación | Derivadas"
      ]
    },
    {
      "cell_type": "markdown",
      "metadata": {
        "id": "reKReYX2xSH0"
      },
      "source": [
        "### Acciones y divisas"
      ]
    },
    {
      "cell_type": "code",
      "metadata": {
        "id": "exREBYboxUMC"
      },
      "source": [
        "%%R\n",
        "#divisas y acciones CÁLCULO\n",
        "\n",
        "x0_acc_div=stock_prices_EQFX[1,]\n",
        "DeltaX_acc_div=as.matrix(log(as.matrix(stock_prices_EQFX[1:(n-1)])/as.matrix(stock_prices_EQFX[2:(n)])))\n",
        "V0_acc_div=cbind(t(pos_fx),t(pos_eq))*x0_acc_div\n",
        "mu_acc_div=0\n",
        "g_acc_div=cbind(t(pos_fx),t(pos_eq))\n",
        "g_acc_divt=cbind(t(pos_fx),t(pos_eq))*x0_acc_div\n",
        "gamma_acc_divt=matrix(0,ncol(x0_acc_div),ncol(x0_acc_div))\n",
        "\n",
        "\n",
        "m_fx=length(pos_fx)\n",
        "m_acc=length(pos_eq)"
      ],
      "execution_count": null,
      "outputs": []
    },
    {
      "cell_type": "markdown",
      "metadata": {
        "id": "lxmCu1O2aRnR"
      },
      "source": [
        "### CETES"
      ]
    },
    {
      "cell_type": "code",
      "metadata": {
        "id": "GsaQDX9vaYxk",
        "colab": {
          "base_uri": "https://localhost:8080/"
        },
        "outputId": "b68bc2ca-ea1d-4e16-d508-24da6a6216be"
      },
      "source": [
        "%%R\n",
        "\n",
        "#CETE CÁLCULO\n",
        "#paso para interpolar las tasas\n",
        "m=ncol(plazos_bcc)\n",
        "x_bcc=matrix(0,n,m)\n",
        "for (i in 1:(n))\n",
        "{\n",
        "  #x[i,]=approx(nodos_gov,x_orig_gov[i,],plazos_bcc)$y\n",
        "  x_bcc[i,]=if(itpl==0){approx(nodos_gov,x_orig_gov[i,],plazos_bcc,rule=2)$y}else{talamb(nodos_gov,x_orig_gov[i,],plazos_bcc)}\n",
        "}\n",
        "\n",
        "x0_bcc=x_bcc[1,]\n",
        "\n",
        "#función\n",
        "bonocupcero = function(i,t)\n",
        "{\n",
        "  1/(1+i*t/360)\n",
        "}\n",
        "\n",
        "#funcion primera derivada con tiempo\n",
        "bcc_dt = function(i,t)\n",
        "{\n",
        "  -(i/360)/(1+i*t/360)^2\n",
        "}\n",
        "\n",
        "#funcion primera derivada con tasa interés\n",
        "bcc_di = function(i,t)\n",
        "{\n",
        "  -(t/360)/(1+i*t/360)^2\n",
        "}\n",
        "\n",
        "#funcion segunda derivada con tasa de interés\n",
        "bcc_di2 = function(i,t)\n",
        "{\n",
        "  2*(t/360)^2/(1+i*t/360)^3\n",
        "}\n",
        "\n",
        "V0_bcc=as.matrix(bonocupcero(x0_bcc,plazos_bcc))*contratos_bcc*nominal_bcc #Valor actual de cada bono\n",
        "\n",
        "VT0_bcc=sum(V0_bcc) #Valor total del portafolio al tiempo 0\n",
        "\n",
        "mu_bcc=bcc_dt(x0_bcc,plazos_bcc)*contratos_bcc*nominal_bcc\n",
        "g_bcc=bcc_di(x0_bcc,plazos_bcc)*contratos_bcc*nominal_bcc\n",
        "g_bcct=g_bcc*x0_bcc\n",
        "gamma_bcc=bcc_di2(x0_bcc,plazos_bcc)*contratos_bcc*nominal_bcc\n",
        "gamma_bcct2=diagv(gamma_bcc*(x0_bcc)^2)\n",
        "\n",
        "\n",
        "\n",
        "print(\"Valor actual\")\n",
        "print(VT0_bcc)"
      ],
      "execution_count": null,
      "outputs": [
        {
          "output_type": "stream",
          "name": "stdout",
          "text": [
            "[1] \"Valor actual\"\n",
            "[1] 14426.87\n"
          ]
        }
      ]
    },
    {
      "cell_type": "markdown",
      "metadata": {
        "id": "3t2-6mU9bjNw"
      },
      "source": [
        "### Bono M"
      ]
    },
    {
      "cell_type": "code",
      "metadata": {
        "id": "qLRujQ0rblpK",
        "colab": {
          "base_uri": "https://localhost:8080/"
        },
        "outputId": "18336238-d6d0-4712-f98d-ba799ce0fa8c"
      },
      "source": [
        "%%R\n",
        "#BONO M  CÁLCULO\n",
        "#Posición inicial\n",
        "#interpolación de tasas y volatilidades\n",
        "m=ncol(plazos_bm)\n",
        "X_bm=matrix(0,n,m)\n",
        "for (i in 1:(n))\n",
        "{\n",
        "  X_bm[i,]=if(itpl==0){approx(nodos_bonom,x_orig_gov[i,],plazos_bm,rule=2)$y}else{talamb(nodos_bonom,x_orig_gov[i,],plazos_bm)}\n",
        "}\n",
        "\n",
        "\n",
        "#Función de valoración por tasa yield\n",
        "bonoMyield=function(x, plazos_bm, plazocupon_bm, tfcupon_bm, nominal_bm, contratos_bm) #valoración bono tasa fija\n",
        "{\n",
        "  N=as.integer(plazos_bm/plazocupon_bm)+1   \n",
        "  p1=plazos_bm-plazocupon_bm*(N-1)   \n",
        "  a=(1-(1+x*plazocupon_bm/360)^(-N))/(plazocupon_bm*x/360)\n",
        "  ((contratos_bm*nominal_bm*tfcupon_bm*plazocupon_bm/360)*a+(contratos_bm*nominal_bm)/((1+x*plazocupon_bm/360)^N))*(1+x*plazocupon_bm/360)^(1-p1/plazocupon_bm)   \n",
        "}\n",
        "\n",
        "x0_bm=0.045 #tasas de descuento valor actual\n",
        "V0_bm=bonoMyield(x0_bm,plazos_bm, plazocupon_bm, tfcupon_bm, nominal_bm, contratos_bm)\n",
        "\n",
        "#función para derivar con respecto al tiempo a la función de Bono General\n",
        "bonoMyieldm=function(x, plazos_bm, plazocupon_bm, tfcupon_bm, nominal_bm, contratos_bm) #valoración bono tasa fija\n",
        "{\n",
        "  N=plazos_bm/plazocupon_bm+1   \n",
        "  p1=plazos_bm-plazocupon_bm*(N-1)   \n",
        "  a=(1-(1+x*plazocupon_bm/360)^(-N))/(plazocupon_bm*x/360)\n",
        "  ((contratos_bm*nominal_bm*tfcupon_bm*plazocupon_bm/360)*a+(contratos_bm*nominal_bm)/((1+x*plazocupon_bm/360)^N))*(1+x*plazocupon_bm/360)^(1-p1/plazocupon_bm)   \n",
        "}\n",
        "\n",
        "mu_bm=eval(Deriv(bonoMyieldm(x0_bm,plazos_bm, plazocupon_bm, tfcupon_bm, nominal_bm, contratos_bm), \"plazos_bm\"))\n",
        "mu_bm[1,1]\n",
        "g_bm=eval(Deriv(bonoMyield(x0_bm,plazos_bm, plazocupon_bm, tfcupon_bm, nominal_bm, contratos_bm), \"x0_bm\"))\n",
        "g_bmt=g_bm*x0_bm\n",
        "gamma_bm=eval(Deriv(bonoMyield(x0_bm,plazos_bm, plazocupon_bm, tfcupon_bm, nominal_bm, contratos_bm), \"x0_bm\",nderiv=2))\n",
        "gamma_bmt2=diagv(gamma_bm*(x0_bm)^2)\n",
        "gamma_bmt2[is.nan(gamma_bmt2)] <- 0 #quitamos NaN\n",
        "gamma_bmt2[is.na(gamma_bmt2)] <- 0 #quitamos Na\n",
        "gamma_bmt2[is.infinite(gamma_bmt2)] <- 0 \n",
        "\n",
        "mu_bm[is.nan(mu_bm)] <- 0 #quitamos NaN\n",
        "mu_bm[is.na(mu_bm)] <- 0 #quitamos Na\n",
        "mu_bm[is.infinite(mu_bm)] <- 0\n",
        "\n",
        "g_bmt[is.nan(g_bmt)] <- 0 #quitamos NaN\n",
        "g_bmt[is.na(g_bmt)] <- 0 #quitamos Na\n",
        "g_bmt[is.infinite(g_bmt)] <- 0\n",
        "\n",
        "\n",
        "print(\"Valor actual\")\n",
        "print(V0_bm[1,1])\n",
        "\n"
      ],
      "execution_count": null,
      "outputs": [
        {
          "output_type": "stream",
          "name": "stdout",
          "text": [
            "[1] \"Valor actual\"\n",
            "[1] 113037\n"
          ]
        }
      ]
    },
    {
      "cell_type": "markdown",
      "metadata": {
        "id": "Iaoeiy7Csy1n"
      },
      "source": [
        "### Bonde D"
      ]
    },
    {
      "cell_type": "code",
      "metadata": {
        "id": "qchUAMpMs13C",
        "colab": {
          "base_uri": "https://localhost:8080/"
        },
        "outputId": "fa5e5593-b37e-426d-de9d-ad910a746ac3"
      },
      "source": [
        "%%R\n",
        "#BONDE D CÁLCULO\n",
        "names(X2_orig_bd)[1] = 'Date'\n",
        "X2_pr=lin_gub_bmybdst_flibfwdspind_swcupvp_oirsvpvol[X2_orig_bd, on = .(Date),nomatch=0][order(-Date)] #Se alinea la tasa de fondeo por fecha con la tasa de valor presente.\n",
        "m=ncol(plazos_bdm)\n",
        "\n",
        "\n",
        "N_bd=as.integer(plazos_bdm/plazocupon_bdm)+1 #número de cupones a pagar\n",
        "VTplazos_bdm=matrix(0,1,sum(N_bd)) #vector de todos los plazos_bdm de todos los contratos_bdm\n",
        "contratos_bdmT=matrix(0,1,sum(N_bd)) #vector de todos los contratos_bdm de todos los flujos de todos los contratos_bdm\n",
        "nominal_bdmT=matrix(0,1,sum(N_bd)) #vector de todos los nominal_bdmes de todos los flujos de todos los contratos_bdm\n",
        "plazocupon_bdmT=matrix(0,1,sum(N_bd)) #vector de todos los plazos_bdmcupon de todos los flujos de todos los contratos_bdm\n",
        "tasafijaT_bd=matrix(0,1,sum(N_bd)) #vector de tasas fijas de todos los flujos de todos los contratos_bdm\n",
        "ulNomT_bd=matrix(0,1,sum(N_bd)) #vector de contratos_bdm a final de flujo\n",
        "\n",
        "\n",
        "plazini_bd=plazos_bdm-plazocupon_bdm*(N_bd-1) #vector de plazos_bdm iniciales\n",
        "ddv=plazocupon_bdm-plazini_bd #dias trasncurridos del cupón vigente\n",
        "tfcupon=matrix(0,1,m)  #El primero cupón de cada bono\n",
        "tfcupondev=matrix(0,1,m) #cupón de los días devengados\n",
        "tfcupgen=((1+tf_act/360)^(plazocupon_bdm[1])-1)*360/plazocupon_bdm[1] #el segundo al último cupón de todos los bonos\n",
        "#calcula cupones de bonos\n",
        "for (j in (1:m))\n",
        "{\n",
        "  tfcupondev[j]=(prod(1+tf_int[(1:ddv[j])]/360)-1)*360/ddv[j]\n",
        "  tfcupon[j]=((1+tfcupondev[j]*ddv[j]/360)*(1+tf_act/360)^(plazocupon_bdm[1]-ddv[j])-1)*360/plazocupon_bdm[1]\n",
        "}\n",
        "\n",
        "\n",
        "for (j in (1:m))\n",
        "{\n",
        "  if (j==1)\n",
        "  {\n",
        "    VTplazos_bdm[,1:sum(N_bd[1:j])]=seq(plazini_bd[j],plazos_bdm[j], by=plazocupon_bdm[j])\n",
        "    contratos_bdmT[,1:sum(N_bd[1:j])]=seq(contratos_bdm[j],contratos_bdm[j])\n",
        "    plazocupon_bdmT[,1:sum(N_bd[1:j])]=seq(plazocupon_bdm[j],plazocupon_bdm[j])\n",
        "    ulNomT_bd[,sum(N_bd[1:j])]=contratos_bdm[j]\n",
        "    tasafijaT_bd[,1]=tfcupon[j]\n",
        "    tasafijaT_bd[,2:sum(N_bd[1:j])]=seq(tfcupgen,tfcupgen)\n",
        "  }\n",
        "  else\n",
        "  {\n",
        "    VTplazos_bdm[,(sum(N_bd[1:j-1])+1):sum(N_bd[1:j])]=seq(plazini_bd[j],plazos_bdm[j], by=plazocupon_bdm[j])\n",
        "    contratos_bdmT[,(sum(N_bd[1:j-1])+1):sum(N_bd[1:j])]=seq(contratos_bdm[j],contratos_bdm[j])\t\t\t\t\t\n",
        "    plazocupon_bdmT[,(sum(N_bd[1:j-1])+1):sum(N_bd[1:j])]=seq(plazocupon_bdm[j],plazocupon_bdm[j])\n",
        "    tasafijaT_bd[,(sum(N_bd[1:j-1])+1)]=tfcupon[j]\n",
        "    tasafijaT_bd[,(sum(N_bd[1:j-1])+2):sum(N_bd[1:j])]=seq(tfcupgen,tfcupgen)\n",
        "    ulNomT_bd[,sum(N_bd[1:j])]=contratos_bdm[j]\n",
        "  }\n",
        "}\n",
        "\n",
        "Xvp_bd=matrix(0,n,ncol(VTplazos_bdm))\n",
        "Xst_bd=matrix(0,n,ncol(VTplazos_bdm))\n",
        "\n",
        "for (i in (1:n))\n",
        "{\n",
        "  Xvp_bd[i,]=if(itpl==0){approx(nodos_gov,x_orig_gov[i,],VTplazos_bdm,rule=2)$y}else{talamb(nodos_gov,x_orig_gov[i,],VTplazos_bdm)}\n",
        "  Xst_bd[i,]=if(itpl==0){approx(nodos3_bd,X3_orig_bd[i,],VTplazos_bdm,rule=2)$y}else{talamb(nodos3_bd,X3_orig_bd[i,],VTplazos_bdm)}\n",
        "  \n",
        "}\n",
        "\n",
        "\n",
        "bondeD=function(contratos_bdmT,  nominal_bdm, tf_act, plazocupon_bdmT, VTplazos_bdm, Xvp, Xst, N,ddv)\n",
        "{\n",
        "  tfcupon=matrix(0,1,m)  #El primero cupón de cada bono\n",
        "  tfcupondev=matrix(0,1,m) #cupón de los días devengados\n",
        "  tfcupgen=((1+tf_act/360)^(plazocupon_bdm[1])-1)*360/plazocupon_bdm[1] #el segundo al último cupón de todos los bonos\n",
        "  tasafijaT=matrix(0,1,sum(N))\n",
        "  #calcula cupones de bonos\n",
        "  for (j in (1:m))\n",
        "  {\n",
        "    tfcupondev[j]=(prod(1+tf_int[(1:ddv[j])]/360)-1)*360/ddv[j]\n",
        "    tfcupon[j]=((1+tfcupondev[j]*ddv[j]/360)*(1+tf_act/360)^(plazocupon_bdm[1]-ddv[j])-1)*360/plazocupon_bdm[1]\n",
        "  }\n",
        "  \n",
        "  \n",
        "  for (j in (1:m))\n",
        "  {\n",
        "    if (j==1)\n",
        "    {\n",
        "      tasafijaT[,1]=tfcupon[j]\n",
        "      tasafijaT[,2:sum(N[1:j])]=seq(tfcupgen,tfcupgen)\n",
        "    }\n",
        "    else\n",
        "    {\n",
        "      tasafijaT[,(sum(N[1:j-1])+1)]=tfcupon[j]\n",
        "      tasafijaT[,(sum(N[1:j-1])+2):sum(N[1:j])]=seq(tfcupgen,tfcupgen)\n",
        "    }\n",
        "  }\n",
        "  \n",
        "  \n",
        "  V0=matrix(0,1,count(N))\n",
        "  V0f=((((contratos_bdmT*(tasafijaT)*(plazocupon_bdmT/360))+ulNomT_bd)/(1+(Xvp+Xst)*VTplazos_bdm/360)))*nominal_bdm\n",
        "  for (j in (1:count(N)))\n",
        "  {\n",
        "    if(j==1)\n",
        "    {\n",
        "      V0[j]=sum(V0f[j:N[j]])\n",
        "    }\n",
        "    else\n",
        "    {\n",
        "      V0[j]=sum(V0f[(sum(N[1:j-1])+1):(sum(N[1:j]))])\n",
        "    }\n",
        "  }\n",
        "  V0\n",
        "} \n",
        "\n",
        "\n",
        "V0_bdm=bondeD(contratos_bdmT, nominal_bdm, tf_act, plazocupon_bdmT, VTplazos_bdm, Xvp_bd[1,], Xst_bd[1,], N_bd,ddv)\n",
        "\n",
        "\n",
        "\n",
        "d_bondeD_t=function(contratos_bdmT,  nominal_bdm, tf_act, plazocupon_bdmT, VTplazos_bdm, Xvp, Xst, N,ddv)\n",
        "{\n",
        "  tasafijaT=matrix(0,1,sum(N))\n",
        "  tfcupon=matrix(0,1,m)  #El primero cupón de cada bono\n",
        "  tfcupondev=matrix(0,1,m) #cupón de los días devengados\n",
        "  tfcupgen=((1+tf_act/360)^(plazocupon_bdm[1])-1)*360/plazocupon_bdm[1] #el segundo al último cupón de todos los bonos\n",
        "  #calcula cupones de bonos\n",
        "  for (j in (1:m))\n",
        "  {\n",
        "    tfcupondev[j]=(prod(1+tf_int[(1:ddv[j])]/360)-1)*360/ddv[j]\n",
        "    tfcupon[j]=((1+tfcupondev[j]*ddv[j]/360)*(1+tf_act/360)^(plazocupon_bdm[1]-ddv[j])-1)*360/plazocupon_bdm[1]\n",
        "  }\n",
        "  \n",
        "  \n",
        "  for (j in (1:m))\n",
        "  {\n",
        "    if (j==1)\n",
        "    {\n",
        "      tasafijaT[,1]=tfcupon[j]\n",
        "      tasafijaT[,2:sum(N[1:j])]=seq(tfcupgen,tfcupgen)\n",
        "    }\n",
        "    else\n",
        "    {\n",
        "      tasafijaT[,(sum(N[1:j-1])+1)]=tfcupon[j]\n",
        "      tasafijaT[,(sum(N[1:j-1])+2):sum(N[1:j])]=seq(tfcupgen,tfcupgen)\n",
        "    }\n",
        "  }\n",
        "  \n",
        "  \n",
        "  V0=matrix(0,1,count(N))\n",
        "  V0f=-((((contratos_bdmT*(tasafijaT)*(plazocupon_bdmT/360))+ulNomT_bd)/(1+(Xvp+Xst)*VTplazos_bdm/360)^2))*nominal_bdm*((Xvp+Xst)/360)\n",
        "  for (j in (1:count(N)))\n",
        "  {\n",
        "    if(j==1)\n",
        "    {\n",
        "      V0[j]=sum(V0f[j:N[j]])\n",
        "    }\n",
        "    else\n",
        "    {\n",
        "      V0[j]=sum(V0f[(sum(N[1:j-1])+1):(sum(N[1:j]))])\n",
        "    }\n",
        "  }\n",
        "  V0\n",
        "} \n",
        "\n",
        "\n",
        "#la derivada con respecto al valor presente y a la sobretasa es igual\n",
        "d_bondeD_x=function(contratos_bdmT,  nominal_bdm, tf_act, plazocupon_bdmT, VTplazos_bdm, Xvp, Xst, N,ddv)\n",
        "{\n",
        "  tasafijaT=matrix(0,1,sum(N))\n",
        "  tfcupon=matrix(0,1,m)  #El primero cupón de cada bono\n",
        "  tfcupondev=matrix(0,1,m) #cupón de los días devengados\n",
        "  tfcupgen=((1+tf_act/360)^(plazocupon_bdm[1])-1)*360/plazocupon_bdm[1] #el segundo al último cupón de todos los bonos\n",
        "  #calcula cupones de bonos\n",
        "  for (j in (1:m))\n",
        "  {\n",
        "    tfcupondev[j]=(prod(1+tf_int[(1:ddv[j])]/360)-1)*360/ddv[j]\n",
        "    tfcupon[j]=((1+tfcupondev[j]*ddv[j]/360)*(1+tf_act/360)^(plazocupon_bdm[1]-ddv[j])-1)*360/plazocupon_bdm[1]\n",
        "  }\n",
        "  \n",
        "  \n",
        "  for (j in (1:m))\n",
        "  {\n",
        "    if (j==1)\n",
        "    {\n",
        "      tasafijaT[,1]=tfcupon[j]\n",
        "      tasafijaT[,2:sum(N[1:j])]=seq(tfcupgen,tfcupgen)\n",
        "    }\n",
        "    else\n",
        "    {\n",
        "      tasafijaT[,(sum(N[1:j-1])+1)]=tfcupon[j]\n",
        "      tasafijaT[,(sum(N[1:j-1])+2):sum(N[1:j])]=seq(tfcupgen,tfcupgen)\n",
        "    }\n",
        "  }\n",
        "  V0f=-((((contratos_bdmT*(tasafijaT)*(plazocupon_bdmT/360))+ulNomT_bd)/(1+(Xvp+Xst)*VTplazos_bdm/360)^2))*nominal_bdm*((VTplazos_bdm)/360)\n",
        "  V0f\n",
        "} \n",
        "\n",
        "\n",
        "d_bondeD_tc=function(contratos_bdmT,  nominal_bdm, tf_act, plazocupon_bdmT, VTplazos_bdm, Xvp, Xst, N,ddv)\n",
        "{\n",
        "  tasafijaT=matrix(0,1,sum(N))\n",
        "  tfcupon=matrix(0,1,m)  #El primero cupón de cada bono\n",
        "  tfcupondev=matrix(0,1,m) #cupón de los días devengados\n",
        "  tfcupgen=((1+tf_act/360)^(plazocupon_bdm[1])-1)*360/plazocupon_bdm[1] #el segundo al último cupón de todos los bonos\n",
        "  #calcula cupones de bonos\n",
        "  for (j in (1:m))\n",
        "  {\n",
        "    tfcupondev[j]=(prod(1+tf_int[(1:ddv[j])]/360)-1)*360/ddv[j]\n",
        "    tfcupon[j]=((1+tfcupondev[j]*ddv[j]/360)*(1+tf_act/360)^(plazocupon_bdm[1]-ddv[j])-1)*360/plazocupon_bdm[1]\n",
        "  }\n",
        "  \n",
        "  \n",
        "  for (j in (1:m))\n",
        "  {\n",
        "    if (j==1)\n",
        "    {\n",
        "      tasafijaT[,1]=tfcupon[j]\n",
        "      tasafijaT[,2:sum(N[1:j])]=seq(tfcupgen,tfcupgen)\n",
        "    }\n",
        "    else\n",
        "    {\n",
        "      tasafijaT[,(sum(N[1:j-1])+1)]=tfcupon[j]\n",
        "      tasafijaT[,(sum(N[1:j-1])+2):sum(N[1:j])]=seq(tfcupgen,tfcupgen)\n",
        "    }\n",
        "  }\n",
        "  \n",
        "  V0f=-((((contratos_bdmT*(plazocupon_bdmT/360)))/(1+(Xvp+Xst)*VTplazos_bdm/360)))*nominal_bdm\n",
        "  V0f\n",
        "}\n",
        "\n",
        "\n",
        "\n",
        "mgamma_bondeD=function(contratos_bdmT,  nominal_bdm, tf_act, plazocupon_bdmT, VTplazos_bdm, Xvp, Xst, N,ddv)\t#matriz de segundas derivadas parciales de la tasa valor presente y pago de flujos\n",
        "{\n",
        "  tasafijaT=matrix(0,1,sum(N))\n",
        "  tfcupon=matrix(0,1,m)  #El primero cupón de cada bono\n",
        "  tfcupondev=matrix(0,1,m) #cupón de los días devengados\n",
        "  tfcupgen=((1+tf_act/360)^(plazocupon_bdm[1])-1)*360/plazocupon_bdm[1] #el segundo al último cupón de todos los bonos\n",
        "  #calcula cupones de bonos\n",
        "  for (j in (1:m))\n",
        "  {\n",
        "    tfcupondev[j]=(prod(1+tf_int[(1:ddv[j])]/360)-1)*360/ddv[j]\n",
        "    tfcupon[j]=((1+tfcupondev[j]*ddv[j]/360)*(1+tf_act/360)^(plazocupon_bdm[1]-ddv[j])-1)*360/plazocupon_bdm[1]\n",
        "  }\n",
        "  \n",
        "  \n",
        "  for (j in (1:m))\n",
        "  {\n",
        "    if (j==1)\n",
        "    {\n",
        "      tasafijaT[,1]=tfcupon[j]\n",
        "      tasafijaT[,2:sum(N[1:j])]=seq(tfcupgen,tfcupgen)\n",
        "    }\n",
        "    else\n",
        "    {\n",
        "      tasafijaT[,(sum(N[1:j-1])+1)]=tfcupon[j]\n",
        "      tasafijaT[,(sum(N[1:j-1])+2):sum(N[1:j])]=seq(tfcupgen,tfcupgen)\n",
        "    }\n",
        "  }\n",
        "\n",
        "  c11=matrix(0,1,length(contratos_bdmT)) #segunda derivada del cupón\n",
        "  c12=-((((contratos_bdmT*(plazocupon_bdmT/360)))/(1+(Xvp+Xst)*VTplazos_bdm/360)^2))*nominal_bdm*((VTplazos_bdm)/360) #primera del cupón y primera del vp\n",
        "  c13=c12 #primera del cupón y primera del st\n",
        "  c21=-((((contratos_bdmT*(plazocupon_bdmT/360)))/(1+(Xvp+Xst)*VTplazos_bdm/360)^2))*nominal_bdm*((VTplazos_bdm)/360) #primera del vp y primera del cupon\n",
        "  c22=2*((((contratos_bdmT*(tasafijaT)*(plazocupon_bdmT/360))+ulNomT_bd)/(1+(Xvp+Xst)*VTplazos_bdm/360)^3))*nominal_bdm*((VTplazos_bdm)/360)^2 #segunda del vp\n",
        "  c23=c22 #primera del vp y primera del st\n",
        "  c31=c12 #primera del st y primera del cupon\n",
        "  c32=c22 #primera del vp y primera del st\n",
        "  c33=c22 #segunda del st\n",
        "  rbind(cbind(diagv(c11),diagv(c12), diagv(c13)),cbind(diagv(c21),diagv(c22), diagv(c23)),cbind(diagv(c31),diagv(c32), diagv(c33)))\n",
        "}\n",
        "\n",
        "\n",
        "#mgamma_bondeD(contratos_bdmT, nominal_bdm, tf_act, plazocupon_bdmT, VTplazos_bdm, Xvp_bd[1,], Xst_bd[1,], N_bd,ddv)\n",
        "\n",
        "X_bd_tc=matrix(1,n,ncol(contratos_bdmT))*X2_pr$V2/100\n",
        "X_bd_ext=cbind(X_bd_tc,as.matrix(Xvp_bd),as.matrix(Xst_bd))\n",
        "mu_bd=d_bondeD_t(contratos_bdmT, nominal_bdm, tf_act, plazocupon_bdmT, VTplazos_bdm, Xvp_bd[1,], Xst_bd[1,], N_bd,ddv)\n",
        "g_bd=cbind(d_bondeD_tc(contratos_bdmT, nominal_bdm, tf_act, plazocupon_bdmT, VTplazos_bdm, Xvp_bd[1,], Xst_bd[1,], N_bd,ddv),d_bondeD_x(contratos_bdmT, nominal_bdm, tf_act, plazocupon_bdmT, VTplazos_bdm, Xvp_bd[1,], Xst_bd[1,], N_bd,ddv),d_bondeD_x(contratos_bdmT, nominal_bdm, tf_act, plazocupon_bdmT, VTplazos_bdm, Xvp_bd[1,], Xst_bd[1,], N_bd,ddv))\n",
        "x0_bd_ext=cbind(matrix(tf_act,1,ncol(contratos_bdmT)),t(as.matrix(Xvp_bd[1,])),t(as.matrix(Xst_bd[1,])))\n",
        "g_bdt=g_bd*x0_bd_ext\n",
        "gamma_bd=mgamma_bondeD(contratos_bdmT, nominal_bdm, tf_act, plazocupon_bdmT, VTplazos_bdm, Xvp_bd[1,], Xst_bd[1,], N_bd,ddv)\n",
        "gamma_bdt2=gamma_bd*(t(x0_bd_ext)%*%x0_bd_ext)\n",
        "\n",
        "print(\"Valor actual\")\n",
        "print(V0_bdm[1,1])\n"
      ],
      "execution_count": null,
      "outputs": [
        {
          "output_type": "stream",
          "name": "stdout",
          "text": [
            "[1] \"Valor actual\"\n",
            "[1] -94292.17\n"
          ]
        }
      ]
    },
    {
      "cell_type": "markdown",
      "metadata": {
        "id": "kSMjbhxMm6wQ"
      },
      "source": [
        "###Forwards de tipo de cambio\n"
      ]
    },
    {
      "cell_type": "code",
      "metadata": {
        "id": "lhdKglDKo7JZ",
        "colab": {
          "base_uri": "https://localhost:8080/"
        },
        "outputId": "1a959444-a5d2-4f21-ba51-cd1a90423c93"
      },
      "source": [
        "%%R\n",
        "#FORWARDS Y/O FUTUROS DE TIPO DE CAMBIO CÁLCULO\n",
        "\n",
        "################MATRICES DE INTERPOLACION LINEAL ####################\n",
        "#FORWARDS Y/O FUTUROS DE TIPO DE CAMBIO CÁLCULO\n",
        "\n",
        "################MATRICES DE INTERPOLACION LINEAL ####################\n",
        "\n",
        "m=ncol(plazos_fwd)\n",
        "X1_fwtdc=matrix(0,n,m)\n",
        "X2_fwtdc=matrix(0,n,m)\n",
        "\n",
        "for (j in 1:n)\n",
        "{\n",
        "  X1_fwtdc[j,]=if(itpl==0){approx(nodos1_ftdc,x1_ftdc[j,],plazos_fwd,rule=2)$y}else{talamb(nodos1_ftdc,x1_ftdc[j,],plazos_fwd)}\n",
        "  X2_fwtdc[j,]=if(itpl==0){approx(nodos2_ftdc,x2_ftdc[j,],plazos_fwd,rule=2)$y}else{talamb(nodos2_ftdc,x2_ftdc[j,],plazos_fwd)}\n",
        "  if(trlib==1){X1_fwtdc[j,]=((1+X1_fwtdc[j,])^(plazos_fwd/180)-1)*360/plazos_fwd} #transformación de act 180 a 360\n",
        "}\n",
        "\n",
        "\n",
        "futuroTC = function(t,tl,tn,s,k) #t=dias por vencer, tn=tasa nacional para tipo de cambio forward, tl= tasa extranjera pra tipo de cambio forward, S=spot\n",
        "{\n",
        "  f=s*((1+tn*t/360)/(1+tl*t/360)) #Se obtiene el tipo de cambio forward\n",
        "  t(as.numeric((f-k)/(1+t*tn/360))) #Se obtiene el valor del payoff a valor presente con el valor z que define si es largo o corto\n",
        "}\n",
        "\n",
        "X3_ftdc=as.matrix(X3_ftdc)\n",
        "\n",
        "V0_fwtdc=futuroTC(plazos_fwd,X1_fwtdc[1,],X2_fwtdc[1,],X3_ftdc[1,],kst_fwd)*contratos_fwd*nominal_fwd\n",
        "\n",
        "\n",
        "dfuturoTC_tl = function(t,tl,tn,s,k) #t=dias por vencer, tn=tasa nacional para tipo de cambio forward, tl= tasa extranjera pra tipo de cambio forward, S=spot\n",
        "{\n",
        "  f=-s*((1+tn*t/360)/(1+tl*t/360)^2)*(t/360) #Se obtiene el tipo de cambio forward\n",
        "  t(as.numeric((f)/(1+t*tn/360))) #Se obtiene el valor del payoff a valor presente con el valor z que define si es largo o corto\n",
        "}\n",
        "\n",
        "dfuturoTC_tn = function(t,tl,tn,s,k) #t=dias por vencer, tn=tasa nacional para tipo de cambio forward, tl= tasa extranjera pra tipo de cambio forward, S=spot\n",
        "{\n",
        "  f=s*((t/360)/(1+tl*t/360)) #Se obtiene el tipo de cambio forward\n",
        "  f1=s*((1+tn*t/360)/(1+tl*t/360)) #Se obtiene el tipo de cambio forward\n",
        "  t(as.numeric((f)/(1+t*tn/360)-(f1-k)/(1+t*tn/360)^2*(t/360))) #Se obtiene el valor del payoff a valor presente con el valor z que define si es largo o corto\n",
        "}\n",
        "\n",
        "dfuturoTC_s = function(t,tl,tn,s,k) #t=dias por vencer, tn=tasa nacional para tipo de cambio forward, tl= tasa extranjera pra tipo de cambio forward, S=spot\n",
        "{\n",
        "  1/(1+t*tl/360) #Se obtiene el valor del payoff a valor presente con el valor z que define si es largo o corto\n",
        "}\n",
        "\n",
        "dfuturoTC_t = function(t,tl,tn,s,k) #t=dias por vencer, tn=tasa nacional para tipo de cambio forward, tl= tasa extranjera pra tipo de cambio forward, S=spot\n",
        "{\n",
        "  f=s*((1+tn/360)/(1+tl*t/360))-s*((1+tn*t/360)/(1+tl*t/360)^2)*(tl/360) #Se obtiene el tipo de cambio forward\n",
        "  #t(as.numeric((f)/(1+t*tn/360)-(f-k)/(1+t*tn/360)^2*(tn/360))) #Se obtiene el valor del payoff a valor presente con el valor z que define si es largo o corto\n",
        "  -(f-k)/(1+t*tn/360)^2*(tn/360)\n",
        "}\n",
        "\n",
        "mgamma_futTC= function(t,tl,tn,s,k,contratos_fwd,nominal_fwd)\n",
        "{\n",
        "c11= matrix(0,1,length(k))#spot spot\n",
        "c12= -(((1+tn*t/360)/(1+tl*t/360)^2)*(t/360))/(1+t*tn/360)*contratos_fwd*nominal_fwd#spot tl\n",
        "c13=  matrix(0,1,length(k))  #spot tn\n",
        "c21=  -(((1+tn*t/360)/(1+tl*t/360)^2)*(t/360))/(1+t*tn/360)*contratos_fwd*nominal_fwd #tl spot\n",
        "c22= (2*s*((1+tn*t/360)/(1+tl*t/360)^3)*(t/360)^3)/(1+t*tn/360)*contratos_fwd*nominal_fwd #tl tl\n",
        "c23= matrix(0,1,length(k)) #tl tn\n",
        "c31=(((t/360)/(1+tl*t/360))/(1+t*tn/360)-(((1+tn*t/360)/(1+tl*t/360)))/(1+t*tn/360)^2*(t/360))*contratos_fwd*nominal_fwd #tn spot\n",
        "c32=   (-s*((t/360)^2/(1+tl*t/360)^2)/(1+t*tn/360)-(s*((t/360)/(1+tl*t/360)))/(1+t*tn/360)^2*(t/360))*contratos_fwd*nominal_fwd #tn tl\n",
        "c33=  (s*((t/360)/(1+tl*t/360))/(1+t*tn/360)^2*(t/360)+2*(s*((1+tn*t/360)/(1+tl*t/360))-k)/(1+t*tn/360)^3*(t/360)^2-(s*((t/360)^2/(1+tl*t/360)))/(1+t*tn/360)^2)*contratos_fwd*nominal_fwd #tn tn\n",
        "m=length(t)\n",
        "rbind(cbind(diagv(c11),diagv(c12),diagv(c13)),cbind(diagv(c21),diagv(c22),diagv(c23)),cbind(diagv(c31),diagv(c32),diagv(c33)))\n",
        "}\n",
        "\n",
        "\n",
        "X_ftdc=cbind(matrix(X3_ftdc,n,ncol(X1_fwtdc)),X1_fwtdc,X2_fwtdc) #Hist facto riesgo\n",
        "xp_ftdc=t(as.matrix(X_ftdc[1,])) #Valores actuales X0\n",
        "mu_ftdc=dfuturoTC_t(plazos_fwd,X1_fwtdc[1,],X2_fwtdc[1,],X3_ftdc[1,],kst_fwd)*contratos_fwd*nominal_fwd #primera derivada con respecto al tiempo evaluada en x0\n",
        "g_ftdc=cbind(dfuturoTC_s(plazos_fwd,X1_fwtdc[1,],X2_fwtdc[1,],X3_ftdc[1,],kst_fwd)*contratos_fwd*nominal_fwd,dfuturoTC_tl(plazos_fwd,X1_fwtdc[1,],X2_fwtdc[1,],X3_ftdc[1,],kst_fwd)*contratos_fwd*nominal_fwd,dfuturoTC_tn(plazos_fwd,X1_fwtdc[1,],X2_fwtdc[1,],X3_ftdc[1,],kst_fwd)*contratos_fwd*nominal_fwd) #gradiente evaluado en x0\n",
        "g_ftdctT=xp_ftdc*g_ftdc #gradienete evaluado en x0 por x0\n",
        "gamma_ftdc=mgamma_futTC(plazos_fwd,X1_fwtdc[1,],X2_fwtdc[1,],X3_ftdc[1,],kst_fwd,contratos_fwd,nominal_fwd) #evaluación de gamma\n",
        "gamma_ftdctT2=gamma_ftdc*(t(xp_ftdc)%*%xp_ftdc) #evaluación de gamma multiplicado por x^{2}\n",
        "\n",
        "print(V0_fwtdc)\n"
      ],
      "execution_count": null,
      "outputs": [
        {
          "output_type": "stream",
          "name": "stdout",
          "text": [
            "          [,1]\n",
            "[1,] -85.61414\n"
          ]
        }
      ]
    },
    {
      "cell_type": "markdown",
      "metadata": {
        "id": "70NY9BJqnFO9"
      },
      "source": [
        "###Forwards IPC"
      ]
    },
    {
      "cell_type": "code",
      "metadata": {
        "id": "eSiIw6lipG4J",
        "colab": {
          "base_uri": "https://localhost:8080/"
        },
        "outputId": "be9499da-749d-432c-cbe7-ba07793cb6e9"
      },
      "source": [
        "%%R\n",
        "#FORWARDS Y/O FUTUROS DE ÍNDICES CÁLCULO\n",
        "\n",
        "################MATRICES DE INTERPOLACION LINEAL ####################\n",
        "\n",
        "m=ncol(plazos_fwd_ind)\n",
        "X1_fwind=matrix(0,n,m) #DIVIDENDOS\n",
        "X2_fwind=matrix(0,n,m)\n",
        "\n",
        "for (j in 1:n)\n",
        "{\n",
        "  #X1_fwind[j,]=if(itpl==0){approx(nodos1_,x1_ftdc[j,],plazos_fwd)$y}else{talamb(nodos1_ftdc,x1_ftdc[j,],plazos_fwd)}\n",
        "  X2_fwind[j,]=if(itpl==0){approx(nodos_gov,x_orig_gov[j,],plazos_fwd_ind,rule=2)$y}else{talamb(nodos_gov,x_orig_gov[j,],plazos_fwd_ind)}\n",
        "  #if(trlib==1){X1_fwtdc[j,]=((1+X1_fwtdc[j,])^(plazos_fwd/180)-1)*360/plazos_fwd} #transformación de act 180 a 360\n",
        "}\n",
        "\n",
        "X3_find=as.matrix(X3_find)\n",
        "\n",
        "V0_fwind=futuroTC(plazos_fwd_ind,X1_fwind[1,],X2_fwind[1,],X3_find[1,],kst_fwd_ind)*contratos_fwd_ind*nominal_fwd_ind\n",
        "\n",
        "X_find=cbind(matrix(X3_find,n,ncol(X1_fwind)),X1_fwind,X2_fwind)\n",
        "xp_find=t(as.matrix(X_find[1,]))\n",
        "mu_find=dfuturoTC_t(plazos_fwd_ind,X1_fwind[1,],X2_fwind[1,],X3_find[1,],kst_fwd_ind)*contratos_fwd_ind*nominal_fwd_ind\n",
        "g_find=cbind(dfuturoTC_s(plazos_fwd_ind,X1_fwind[1,],X2_fwind[1,],X3_find[1,],kst_fwd_ind)*contratos_fwd_ind*nominal_fwd_ind,dfuturoTC_tl(plazos_fwd_ind,X1_fwind[1,],X2_fwind[1,],X3_find[1,],kst_fwd_ind)*contratos_fwd_ind*nominal_fwd_ind,dfuturoTC_tn(plazos_fwd_ind,X1_fwind[1,],X2_fwind[1,],X3_find[1,],kst_fwd_ind)*contratos_fwd_ind*nominal_fwd_ind)\n",
        "g_findtT=xp_find*g_find\n",
        "gamma_find=mgamma_futTC(plazos_fwd_ind,X1_fwind[1,],X2_fwind[1,],X3_find[1,],kst_fwd_ind,contratos_fwd_ind,nominal_fwd_ind)\n",
        "gamma_findtT2=gamma_find*(t(xp_find)%*%xp_find)\n",
        "\n",
        "print(V0_fwind)"
      ],
      "execution_count": null,
      "outputs": [
        {
          "output_type": "stream",
          "name": "stdout",
          "text": [
            "         [,1]\n",
            "[1,] 342308.9\n"
          ]
        }
      ]
    },
    {
      "cell_type": "markdown",
      "metadata": {
        "id": "PR0cZu2twI45"
      },
      "source": [
        "### Swaps"
      ]
    },
    {
      "cell_type": "code",
      "metadata": {
        "id": "GqlWiqvxwIRR",
        "colab": {
          "base_uri": "https://localhost:8080/"
        },
        "outputId": "11c2af09-107d-4b38-e96c-b198fd9ac85b"
      },
      "source": [
        "%%R\n",
        "##SWAP TASA FIJA VS TASA VARIABLE CÁLCULO\n",
        "\n",
        "##Interpolamos\n",
        "\n",
        "nodosvp=nodos1_sw\n",
        "nodostc=nodos2_sw\n",
        "curvavp=as.matrix(X1_orig_sw)\n",
        "curvatc=X2_orig_sw\n",
        "n1=nrow(curvavp)\n",
        "n2=nrow(curvatc)\n",
        "\n",
        "\n",
        "m=max(ncol(plazos_sw),1) #número de contratos_sw swap a valorar\n",
        "N=matrix(0,1,m) #es un vector de m valores donde se cargarán los m número de cupones a pagar para cada contrato\n",
        "for (j in (1:m))\n",
        "{\n",
        "  N[j]=as.integer(plazos_sw[j]/plazocupon_sw[j])+1 #número de cupones a pagar\n",
        "}\n",
        "VTplazos_sw=matrix(0,1,sum(N)) #vector de todos los plazos_sw de todos los contratos_sw\n",
        "contratos_swT=matrix(0,1,sum(N)) #vector de todos los contratos_sw de todos los flujos de todos los contratos_sw\n",
        "nominal_swT=matrix(0,1,sum(N)) #vector de todos los nominal_swes de todos los flujos de todos los contratos_sw\n",
        "por_swT=matrix(0,1,sum(N)) #vector de todos los dummy si paga o recibe de todos los flujos de todos los contratos_sw\n",
        "plazocupon_swT=matrix(0,1,sum(N)) #vector de todos los plazos_swcupon de todos los flujos de todos los contratos_sw\n",
        "tasafija_swT=matrix(0,1,sum(N)) #vector de tasas fijas de todos los flujos de todos los contratos_sw\n",
        "VTplazos_swc=matrix(0,1,sum(N)) #vector de todos los plazos_sw cortos de todos los contratos_sw\n",
        "\n",
        "\n",
        "plazini=plazos_sw-plazocupon_sw*(N-1) #vector de plazos_sw iniciales\n",
        "\n",
        "for (j in (1:m))\n",
        "{\n",
        "  if (j==1)\n",
        "  {\n",
        "    VTplazos_sw[,1:sum(N[1:j])]=seq(plazini[j],plazos_sw[j], by=plazocupon_sw[j])\n",
        "    VTplazos_swc[,1:sum(N[1:j])]=c(0,VTplazos_sw[,1:(sum(N[1:j])-1)])\n",
        "    contratos_swT[,1:sum(N[1:j])]=seq(contratos_sw[j],contratos_sw[j])\n",
        "    nominal_swT[,1:sum(N[1:j])]=seq(nominal_sw[j],nominal_sw[j])\n",
        "    por_swT[,1:sum(N[1:j])]=seq(por_sw[j],por_sw[j])\n",
        "    plazocupon_swT[,1:sum(N[1:j])]=seq(plazocupon_sw[j],plazocupon_sw[j])\n",
        "    tasafija_swT[,1:sum(N[1:j])]=seq(tasafija_sw[j],tasafija_sw[j])\n",
        "  }\n",
        "  else\n",
        "  {\n",
        "    VTplazos_sw[,(sum(N[1:j-1])+1):sum(N[1:j])]=seq(plazini[j],plazos_sw[j], by=plazocupon_sw[j])\n",
        "    VTplazos_swc[,(sum(N[1:j-1])+1):sum(N[1:j])]=c(0,VTplazos_sw[,(sum(N[1:j-1])+1):(sum(N[1:j])-1)])\n",
        "    contratos_swT[,(sum(N[1:j-1])+1):sum(N[1:j])]=seq(contratos_sw[j],contratos_sw[j])\t\t\t\t\t\n",
        "    nominal_swT[,(sum(N[1:j-1])+1):sum(N[1:j])]=seq(nominal_sw[j],nominal_sw[j])\n",
        "    por_swT[,(sum(N[1:j-1])+1):sum(N[1:j])]=seq(por_sw[j],por_sw[j])\n",
        "    plazocupon_swT[,(sum(N[1:j-1])+1):sum(N[1:j])]=seq(plazocupon_sw[j],plazocupon_sw[j])\n",
        "    tasafija_swT[,(sum(N[1:j-1])+1):sum(N[1:j])]=seq(tasafija_sw[j],tasafija_sw[j])\n",
        "  }\n",
        "}\n",
        "\n",
        "\n",
        "Xvp=matrix(0,n,ncol(VTplazos_sw))\n",
        "Xtc=matrix(0,n,ncol(VTplazos_sw))\n",
        "Xtcc=matrix(0,n,ncol(VTplazos_sw))\n",
        "XtfwdT=matrix(0,n,ncol(VTplazos_sw))\n",
        "\n",
        "for (i in (1:n))\n",
        "{\n",
        "  Xvp[i,]=if(itpl==0){approx(nodosvp,curvavp[i,],VTplazos_sw,rule=2)$y}else{talamb(nodosvp,curvavp[i,],VTplazos_sw)}\n",
        "  Xtc[i,]=if(itpl==0){approx(nodostc,curvatc[i,],VTplazos_sw,rule=2)$y}else{talamb(nodostc,curvatc[i,],VTplazos_sw)}\n",
        "  Xtcc[i,]=if(itpl==0){approx(nodostc,curvatc[i,],VTplazos_swc, rule=2)$y}else{talamb(nodostc,curvatc[i,],VTplazos_swc)}\n",
        "  \n",
        "  XtfwdT[i,]=((1+Xtc[i,]*VTplazos_sw/360)/(1+Xtcc[i,]*VTplazos_swc/360)-1)*360/plazocupon_swT \n",
        "  for (j in (1:ncol(VTplazos_sw)))\n",
        "  {\n",
        "    if (VTplazos_sw[j]<= plazocupon_swT[j])\n",
        "    {\n",
        "      XtfwdT[i,j]=Xtc[i,j]\n",
        "    }\n",
        "    else\n",
        "    {\n",
        "      j=sum(N[1:j])\n",
        "    }\n",
        "  }\n",
        "}\n",
        "\n",
        "\n",
        "swap=function(por_swT, contratos_swT, nominal_swT, XtfwdT, tasafija_swT, plazocupon_swT, VTplazos_sw, Xvp, N)\n",
        "{\n",
        "  V0=matrix(0,1,ncol(N))\n",
        "  V0f=(((contratos_swT*(XtfwdT-tasafija_swT)*(plazocupon_swT/360)))/(1+Xvp*VTplazos_sw/360))*nominal_swT*(-1)^por_swT\n",
        "  for (j in (1:ncol(N)))\n",
        "  {\n",
        "    if(j==1)\n",
        "    {\n",
        "      V0[j]=sum(V0f[j:N[j]])\n",
        "    }\n",
        "    else\n",
        "    {\n",
        "      V0[j]=sum(V0f[(sum(N[1:j-1])+1):(sum(N[1:j]))])\n",
        "    }\n",
        "  }\n",
        "  V0\n",
        "}\n",
        "\n",
        "V0_sw=swap(por_swT, contratos_swT, nominal_swT, XtfwdT[1,], tasafija_swT, plazocupon_swT, VTplazos_sw, Xvp[1,], N)\n",
        "\n",
        "\n",
        "#derivada del swap con respecto aL tiempo\n",
        "dswap_dtt=function(por_swT, contratos_swT, nominal_swT, XtfwdT, tasafija_swT, plazocupon_swT, VTplazos_sw, Xvp)\n",
        "{\n",
        "  -1*(((contratos_swT*(XtfwdT-tasafija_swT)*(plazocupon_swT*Xvp/360^2)))/(1+Xvp*VTplazos_sw/360)^(2))*nominal_swT*(-1)^por_swT\n",
        "}\n",
        "\n",
        "#derivada del swap con respecto a la tasa cupón variable\n",
        "dswap_dtc=function(por_swT, contratos_swT, nominal_swT, XtfwdT, tasafija_swT, plazocupon_swT, VTplazos_sw, Xvp)\n",
        "{\n",
        "  (((contratos_swT*plazocupon_swT)/360)/(1+Xvp*VTplazos_sw/360))*nominal_swT*(-1)^por_swT\n",
        "}\n",
        "\n",
        "#derivada del swap con respecto al valor presente\n",
        "dswap_dvp=function(por_swT, contratos_swT, nominal_swT, XtfwdT, tasafija_swT, plazocupon_swT, VTplazos_sw, Xvp)\n",
        "{\n",
        "  -1*(((contratos_swT*(XtfwdT-tasafija_swT)*(plazocupon_swT*VTplazos_sw/360^2)))/(1+Xvp*VTplazos_sw/360)^(2))*nominal_swT*(-1)^por_swT\n",
        "}\n",
        "\n",
        "mgamma_swap=function(por_swT, contratos_swT, nominal_swT, XtfwdT, tasafija_swT, plazocupon_swT, VTplazos_sw, Xvp)\t#matriz de segundas derivadas parciales de la tasa valor presente y pago de flujos\n",
        "{\n",
        "  c11=matrix(0,1,ncol(contratos_swT))\n",
        "  c21=-1*(((contratos_swT*(plazocupon_swT*VTplazos_sw/360^2)))/(1+Xvp*VTplazos_sw/360)^(2))*nominal_swT*(-1)^por_swT\n",
        "  c12=-1*(((contratos_swT*plazocupon_swT*VTplazos_sw)/360^2)/(1+Xvp*VTplazos_sw/360)^2)*nominal_swT*(-1)^por_swT\n",
        "  c22=2*(((contratos_swT*(XtfwdT-tasafija_swT)*(plazocupon_swT*VTplazos_sw^2/360^3)))/(1+Xvp*VTplazos_sw/360)^(3))*nominal_swT*(-1)^por_swT\n",
        "  rbind(cbind(diagv(c11),diagv(c12)),cbind(diagv(c21),diagv(c22)))\n",
        "}\n",
        "\n",
        "X_sw=cbind( XtfwdT,Xvp)\n",
        "\n",
        "mu_sw=sum(dswap_dtt(por_swT, contratos_swT, nominal_swT, XtfwdT[1,], tasafija_swT, plazocupon_swT, VTplazos_sw, Xvp[1,]))\n",
        "g_sw=cbind(dswap_dtc(por_swT, contratos_swT, nominal_swT, XtfwdT[1,], tasafija_swT, plazocupon_swT, VTplazos_sw, Xvp[1,]),dswap_dvp(por_swT, contratos_swT, nominal_swT, XtfwdT[1,], tasafija_swT, plazocupon_swT, VTplazos_sw, Xvp[1,]))\n",
        "\n",
        "#Multiplicación de la derivada por el punto x0\n",
        "gt_sw=c( XtfwdT[1,],Xvp[1,])*g_sw\n",
        "\n",
        "gamma_sw=mgamma_swap(por_swT, contratos_swT, nominal_swT, XtfwdT[1,], tasafija_swT, plazocupon_swT, VTplazos_sw, Xvp[1,])\n",
        "tgamma_sw=c( XtfwdT[1,],Xvp[1,])%*%t(c( XtfwdT[1,],Xvp[1,]))*gamma_sw \n",
        "\n",
        "print(\"Valor por contrato\")\n",
        "print(V0_sw)\n",
        "print(\"Valor de los swaps\")\n",
        "print(sum(V0_sw))\n"
      ],
      "execution_count": null,
      "outputs": [
        {
          "output_type": "stream",
          "name": "stdout",
          "text": [
            "[1] \"Valor por contrato\"\n",
            "         [,1]     [,2]\n",
            "[1,] -20224.6 80734.57\n",
            "[1] \"Valor de los swaps\"\n",
            "[1] 60509.98\n"
          ]
        }
      ]
    },
    {
      "cell_type": "markdown",
      "metadata": {
        "id": "Vfd5d0bk7ZH0"
      },
      "source": [
        "### Caps / Floors"
      ]
    },
    {
      "cell_type": "code",
      "metadata": {
        "id": "Fc_Q95Xe7c4D",
        "colab": {
          "base_uri": "https://localhost:8080/"
        },
        "outputId": "f0894bd6-ee21-42fb-8fb3-3e5ea8a3379c"
      },
      "source": [
        "%%R\n",
        "\n",
        "\n",
        "##opciones de tasa de interés, con inicio el día de la valuación CÁLCULO\n",
        "#Posición inicial\n",
        "\n",
        "#interpolación de tasas y volatilidades\n",
        "m=ncol(plazos_oir)\n",
        "x1=matrix(0,n,m)\n",
        "x2tc=matrix(0,n,m)\n",
        "x2tl=matrix(0,n,m)\n",
        "x2=matrix(0,n,m)\n",
        "x3=matrix(0,n,m)\n",
        "for (i in 1:(n))\n",
        "{\n",
        "  x1[i,]=if(itpl==0){approx(nodos1_oir,x1_orig_oir[i,],plazos_oir,rule=2)$y}else{talamb(nodos1_oir,x1_orig_oir[i,],plazos_oir)}\n",
        "  x2tc[i,]=if(itpl==0){approx(nodos2_oir,x2_orig_oir[i,],plazos_oir,rule=2)$y}else{talamb(nodos2_oir,x2_orig_oir[i,],plazos_oir)}\n",
        "  x2tl[i,]=if(itpl==0){approx(nodos2_oir,x2_orig_oir[i,],(plazos_oir+pr_oir),rule=2)$y}else{talamb(nodos2_oir,x2_orig_oir[i,],(plazos_oir+pr_oir))}\n",
        "  x3[i,]=if(itpl==0){approx(nodos3_oir,x3_orig_oir[i,],plazos_oir,rule=2)$y}else{talamb(nodos3_oir,x3_orig_oir[i,],plazos_oir)}\n",
        "  x2[i,]=((1+x2tl[i,]*(plazos_oir+pr_oir)/360)/(1+x2tc[i,]*(plazos_oir)/360)-1)*360/pr_oir\n",
        "}\n",
        "\n",
        "\n",
        "x01=x1[1,] #tasas de descuento\n",
        "x02=x2[1,] #tasas spot\n",
        "x03=x3[1,] #volatilidades\n",
        "\n",
        "\n",
        "\n",
        "opctint = function(d,S,K_oir,vol,t,cp_oir,cs_oir,pr_oir,dct_oir)\t#función de una opción europea\n",
        "{\n",
        "  d1=if(cs_oir==1){(log(S/K_oir)+vol^2*t/(365*2))*(1/(vol*sqrt(t/365)))}else{(log(S/K_oir)+vol^2*t/(360*2))*(1/(vol*sqrt(t/360)))}\n",
        "  d2=if(cs_oir==1){(log(S/K_oir)-vol^2*t/(365*2))*(1/(vol*sqrt(t/365)))}else{(log(S/K_oir)-vol^2*t/(360*2))*(1/(vol*sqrt(t/360)))}\n",
        "  vp=if(cs_oir==1){log(1+d*t/360)*365/t}else{d}  \n",
        "  (if(cs_oir==1){(S*pnorm(d1*(-1)^cp_oir)-K_oir*pnorm(d2*(-1)^cp_oir))*(exp(-vp*t/365))*(-1)^cp_oir}else{(S*pnorm(d1*(-1)^cp_oir)-K_oir*pnorm(d2*(-1)^cp_oir))*(1/(1+vp*t/360))*(-1)^cp_oir})*(pr_oir/dct_oir)/(1+S*pr_oir/dct_oir)\n",
        "}\n",
        "\n",
        "\n",
        "V0_oir=opctint(x01,x02,K_oir,x03,plazos_oir,cp_oir,cs_oir,pr_oir,dct_oir)*contratos_oir*nominal_oir #Valor del portafolio\n",
        "\n",
        "\n",
        "#pr_oirPRIMERA DERIVADA\n",
        "\n",
        "dopctintt = function(d,S,K_oir,vol,t,cp_oir,cs_oir,pr_oir,dct_oir)\t#derivada parcial europea y TIEMPO\n",
        "{\n",
        "  d1=if(cs_oir==1){(log(S/K_oir)+vol^2*t/(365*2))*(1/(vol*sqrt(t/365)))}else{(log(S/K_oir)+vol^2*t/(360*2))*(1/(vol*sqrt(t/360)))}\n",
        "  d2=if(cs_oir==1){(log(S/K_oir)-vol^2*t/(365*2))*(1/(vol*sqrt(t/365)))}else{(log(S/K_oir)-vol^2*t/(360*2))*(1/(vol*sqrt(t/360)))}\n",
        "  vp=if(cs_oir==1){log(1+d*t/360)*365/t}else{d}  \n",
        "  (if(cs_oir==1){(( -(S*dnorm(d1)*vol)/(2*sqrt(t/365))+(S*pnorm(d1*(-1)^cp_oir)-K_oir*pnorm(d2*(-1)^cp_oir))*(t/365)*(-1)^cp_oir)*(exp(-vp*t/365)))}else{(( -(S*dnorm(d1)*vol)/(2*sqrt(t/360))+(S*pnorm(d1*(-1)^cp_oir)-K_oir*pnorm(d2*(-1)^cp_oir))*(t/360)*(-1)^cp_oir)*(1/(1+vp*t/360)^2))})*(pr_oir/dct_oir)/(1+S*pr_oir/dct_oir)\n",
        "}\n",
        "\n",
        "#dopctintt(x01,x02,K_oir,x03,plazos_oir,cp_oir,cs_oir,pr_oir,dct_oir)\n",
        "\n",
        "\n",
        "dopctintS = function(d,S,K_oir,vol,t,cp_oir,cs_oir,pr_oir,dct_oir)\t#derivada parcial call europea y spot\n",
        "{\n",
        "  d1=if(cs_oir==1){(log(S/K_oir)+vol^2*t/(365*2))*(1/(vol*sqrt(t/365)))}else{(log(S/K_oir)+vol^2*t/(360*2))*(1/(vol*sqrt(t/360)))}\n",
        "  d2=if(cs_oir==1){(log(S/K_oir)-vol^2*t/(365*2))*(1/(vol*sqrt(t/365)))}else{(log(S/K_oir)-vol^2*t/(360*2))*(1/(vol*sqrt(t/360)))}\n",
        "  vp=if(cs_oir==1){log(1+d*t/360)*365/t}else{d}  \n",
        "  (if(cs_oir==1){((pnorm(d1*(-1)^cp_oir))*(exp(-vp*t/365)))}else{(pnorm(d1*(-1)^cp_oir)*(1/(1+vp*t/360)))})*(pr_oir/dct_oir)/(1+S*pr_oir/dct_oir)- (if(cs_oir==1){(S*pnorm(d1*(-1)^cp_oir)-K_oir*pnorm(d2*(-1)^cp_oir))*(exp(-vp*t/365))*(-1)^cp_oir}else{(S*pnorm(d1*(-1)^cp_oir)-K_oir*pnorm(d2*(-1)^cp_oir))*(1/(1+vp*t/360))*(-1)^cp_oir})*(pr_oir/dct_oir)^2/(1+S*pr_oir/dct_oir)^2\n",
        "}\n",
        "\n",
        "#dopctintS(x01,x02,K_oir,x03,plazos_oir,cp_oir,cs_oir,pr_oir,dct_oir)\n",
        "\n",
        "dopctintvol = function(d,S,K_oir,vol,t,cp_oir,cs_oir,pr_oir,dct_oir)\t#derivada parcial call europea y spot\n",
        "{\n",
        "  d1=if(cs_oir==1){(log(S/K_oir)+vol^2*t/(365*2))*(1/(vol*sqrt(t/365)))}else{(log(S/K_oir)+vol^2*t/(360*2))*(1/(vol*sqrt(t/360)))}\n",
        "  d2=if(cs_oir==1){(log(S/K_oir)-vol^2*t/(365*2))*(1/(vol*sqrt(t/365)))}else{(log(S/K_oir)-vol^2*t/(360*2))*(1/(vol*sqrt(t/360)))}\n",
        "  vp=if(cs_oir==1){log(1+d*t/360)*365/t}else{d}    \n",
        "  (if(cs_oir==1){(S*dnorm(d1)*(sqrt(t/365)))*(exp(-vp*t/365))}else{(S*dnorm(d1)*(sqrt(t/360)))*(1/(1+vp*t/360))})*(pr_oir/dct_oir)/(1+S*pr_oir/dct_oir)\n",
        "}\n",
        "\n",
        "#dopctintvol(x01,x02,K_oir,x03,plazos_oir,cp_oir,cs_oir,pr_oir,dct_oir)\n",
        "\n",
        "dopctintrho = function(d,S,K_oir,vol,t,cp_oir,cs_oir,pr_oir,dct_oir)\t#derivada parcial call europea y rho\n",
        "{\n",
        "  d1=if(cs_oir==1){(log(S/K_oir)+vol^2*t/(365*2))*(1/(vol*sqrt(t/365)))}else{(log(S/K_oir)+vol^2*t/(360*2))*(1/(vol*sqrt(t/360)))}\n",
        "  d2=if(cs_oir==1){(log(S/K_oir)-vol^2*t/(365*2))*(1/(vol*sqrt(t/365)))}else{(log(S/K_oir)-vol^2*t/(360*2))*(1/(vol*sqrt(t/360)))}\n",
        "  vp=if(cs_oir==1){log(1+d*t/360)*365/t}else{d}    \n",
        "  (if(cs_oir==1){-(S*pnorm(d1*(-1)^cp_oir)-K_oir*pnorm(d2*(-1)^cp_oir))*(exp(-vp*t/365))*(-1)^cp_oir*(t/365)}else{-(S*pnorm(d1*(-1)^cp_oir)-K_oir*pnorm(d2*(-1)^cp_oir))*(1/(1+vp*t/360)^2)*(-1)^cp_oir*(t/360)})*(pr_oir/dct_oir)/(1+S*pr_oir/dct_oir)\n",
        "}\n",
        "\n",
        "#dopctintrho(x01,x02,K_oir,x03,plazos_oir,cp_oir,cs_oir,pr_oir,dct_oir)\n",
        "\n",
        "\n",
        "mgammaopc=function(d,S,K_oir,vol,t,cp_oir,cs_oir,pr_oir,dct_oir,contratos_oir,nominal_oir)\t#matriz de segundas derivadas parciales de la call: rho, spot y vol de spot\n",
        "{\n",
        "  d1=if(cs_oir==1){(log(S/K_oir)+vol^2*t/(365*2))*(1/(vol*sqrt(t/365)))}else{(log(S/K_oir)+vol^2*t/(360*2))*(1/(vol*sqrt(t/360)))}\n",
        "  d2=if(cs_oir==1){(log(S/K_oir)-vol^2*t/(365*2))*(1/(vol*sqrt(t/365)))}else{(log(S/K_oir)-vol^2*t/(360*2))*(1/(vol*sqrt(t/360)))}\n",
        "  vp=if(cs_oir==1){log(1+d*t/360)*365/t}else{d}    \n",
        "  c11=(if(cs_oir==1){(S*pnorm(d1*(-1)^cp_oir)-K_oir*pnorm(d2*(-1)^cp_oir))*(exp(-vp*t/365))*(-1)^cp_oir*(t/365)^2}else{2*(S*pnorm(d1*(-1)^cp_oir)-K_oir*pnorm(d2*(-1)^cp_oir))*(1/(1+vp*t/360)^3)*(-1)^cp_oir*(t/360)^2})*(pr_oir/dct_oir)/(1+S*pr_oir/dct_oir)*contratos_oir*nominal_oir #rho con respecto a rho\n",
        "  c21=(if(cs_oir==1){((pnorm(d1*(-1)^cp_oir))*(exp(-vp*t/365)))*(-t/365)}else{(pnorm(d1*(-1)^cp_oir)*(1/(1+vp*t/360)^2))*(-t/360)})*(pr_oir/dct_oir)/(1+S*pr_oir/dct_oir)- (if(cs_oir==1){(S*pnorm(d1*(-1)^cp_oir)-K_oir*pnorm(d2*(-1)^cp_oir))*(exp(-vp*t/365))*(-1)^cp_oir*(-t/365)}else{(S*pnorm(d1*(-1)^cp_oir)-K_oir*pnorm(d2*(-1)^cp_oir))*(1/(1+vp*t/360)^2)*(-1)^cp_oir*(-t/360)})*(pr_oir/dct_oir)^2/(1+S*pr_oir/dct_oir)^2*contratos_oir*nominal_oir #spot con respecto a rho\n",
        "  c31=(if(cs_oir==1){(S*dnorm(d1)*(sqrt(t/365)))*(exp(-vp*t/365))*(-t/365)}else{(S*dnorm(d1)*(sqrt(t/360)))*(1/(1+vp*t/360)^2)*(-t/360)})*(pr_oir/dct_oir)/(1+S*pr_oir/dct_oir)*contratos_oir*nominal_oir #vol con respecto a rho\n",
        "  c12=c21 #rho con respecto a spot\n",
        "  c22=(if(cs_oir==1){(dnorm(d1)/(S*vol*sqrt(t/365)))*(exp(-vp*t/365))}else{(dnorm(d1)/(S*vol*sqrt(t/360)))*(1/(1+vp*t/360))})*(pr_oir/dct_oir)/(1+S*pr_oir/dct_oir) -2*((if(cs_oir==1){(((pnorm(d1*(-1)^cp_oir))+( S*dnorm(d1*(-1)^cp_oir)-K_oir*dnorm(d2*(-1)^cp_oir)))*(exp(-vp*t/365)))*(-1)^cp_oir*(1/(S*vol*sqrt(t/365)))}else{(((pnorm(d1*(-1)^cp_oir))+( S*dnorm(d1*(-1)^cp_oir)-K_oir*dnorm(d2*(-1)^cp_oir)))*(1/(1+vp*t/360)))*(1/(S*vol*sqrt(t/360)))*(-1)^cp_oir})*(pr_oir/dct_oir)^2/(1+S*pr_oir/dct_oir)^2) +2*(if(cs_oir==1){(S*pnorm(d1*(-1)^cp_oir)-K_oir*pnorm(d2*(-1)^cp_oir))*(exp(-vp*t/365))*(-1)^cp_oir}else{(S*pnorm(d1*(-1)^cp_oir)-K_oir*pnorm(d2*(-1)^cp_oir))*(1/(1+vp*t/360))*(-1)^cp_oir})*(pr_oir/dct_oir)^3/(1+S*pr_oir/dct_oir)^3*contratos_oir*nominal_oir #spot spot \n",
        "  c32=(if(cs_oir==1){dnorm(d1)*d2/vol*(exp(-vp*t/365))}else{dnorm(d1)*d2/vol*(1/(1+vp*t/360))})*(pr_oir/dct_oir)/(1+S*pr_oir/dct_oir) +   (if(cs_oir==1){(S*dnorm(d1)*(sqrt(t/365)))*(exp(-vp*t/365))}else{(S*dnorm(d1)*(sqrt(t/360)))*(1/(1+vp*t/360))})*(pr_oir/dct_oir)^2/(1+S*pr_oir/dct_oir)^2*contratos_oir*nominal_oir # vol spot\n",
        "  c13=(if(cs_oir==1){(S*dnorm(d1)*(sqrt(t/365)))*(exp(-vp*t/365))*(-t/365)}else{(S*dnorm(d1)*(sqrt(t/360)))*(1/(1+vp*t/360)^2)*(-t/360)})*(pr_oir/dct_oir)/(1+S*pr_oir/dct_oir)*contratos_oir*nominal_oir #rho vol\n",
        "  c23=c32 #spot vol\n",
        "  c33=(if(cs_oir==1){(dnorm(d1)*(S*sqrt(t/365)))*((d1*d2)/vol)*exp(-vp*t/365)}else{(dnorm(d1)*(S*sqrt(t/360)))*((d1*d2)/vol)*(1/(1+vp*t/360))})*(pr_oir/dct_oir)/(1+S*pr_oir/dct_oir)*contratos_oir*nominal_oir #vol vol\n",
        "  # outm=matrix(0,3,length(plazos_oir)*3)\n",
        "  m=length(t)\n",
        " rbind(cbind(diagv(c11),diagv(c12),diagv(c13)),cbind(diagv(c21),diagv(c22),diagv(c23)),cbind(diagv(c31),diagv(c32),diagv(c33)))\n",
        "}\n",
        "\n",
        "#mgammaopc(x01,x02,K_oir,x03,plazos_oir,cp_oir,cs_oir,pr_oir,dct_oir,contratos_oir,nominal_oir)\n",
        "X_oir=cbind(x1,x2,x3)\n",
        "xp_oir=cbind(t(x01),t(x02),t(x03))\n",
        "mu_oir=dopctintt(x01,x02,K_oir,x03,plazos_oir,cp_oir,cs_oir,pr_oir,dct_oir)*contratos_oir*nominal_oir \n",
        "delta_oir_T=cbind(dopctintrho(x01,x02,K_oir,x03,plazos_oir,cp_oir,cs_oir,pr_oir,dct_oir)*contratos_oir*nominal_oir, dopctintS(x01,x02,K_oir,x03,plazos_oir,cp_oir,cs_oir,pr_oir,dct_oir)*contratos_oir*nominal_oir,dopctintvol(x01,x02,K_oir,x03,plazos_oir,cp_oir,cs_oir,pr_oir,dct_oir)*contratos_oir*nominal_oir)\n",
        "deltaT_oir_T=xp_oir*delta_oir_T\n",
        "gammaT_oir=mgammaopc(x01,x02,K_oir,x03,plazos_oir,cp_oir,cs_oir,pr_oir,dct_oir,contratos_oir,nominal_oir)\n",
        "gammaT_oirT2=gammaT_oir*(t(xp_oir)%*%xp_oir)\n",
        "\n",
        "print(V0_oir)\n",
        "\n"
      ],
      "execution_count": null,
      "outputs": [
        {
          "output_type": "stream",
          "name": "stdout",
          "text": [
            "         [,1]      [,2]\n",
            "[1,] 1.002318 0.2479957\n"
          ]
        }
      ]
    },
    {
      "cell_type": "markdown",
      "metadata": {
        "id": "fBXCMgmD7LW0"
      },
      "source": [
        "### Portafolio"
      ]
    },
    {
      "cell_type": "code",
      "metadata": {
        "id": "L4PDEFyv7OYT"
      },
      "source": [
        "%%R\n",
        "n_if=matrix(0,8,1)\n",
        "n_if[1]=ncol(stock_prices_EQFX) #acciones y divisas\n",
        "n_if[2]=ncol(x_bcc) #cetes\n",
        "n_if[3]=ncol(X_bm) #bonos m\n",
        "n_if[4]=ncol(X_bd_ext) #bonde\n",
        "n_if[5]=ncol(X_ftdc) #fut tdc\n",
        "n_if[6]=ncol(X_find) #fut ind\n",
        "n_if[7]=ncol(X_sw) #swaps\n",
        "n_if[8]=ncol(X_oir) #opciones tasa de interés\n",
        "\n",
        "#valor del portafolios\n",
        "\n",
        "V0_port=cbind(V0_bcc, V0_bm, V0_bdm, V0_fwtdc, V0_fwind, V0_sw, V0_oir)\n",
        "V0T_port=sum(V0_port)\n",
        "\n",
        "\n",
        "\n",
        "#INTEGRACIÓN DE TODOS LOS FACTORES DE RIESGO EN UNA MATRIZ\n",
        "X_port=cbind(stock_prices_EQFX,x_bcc,X_bm,X_bd_ext,X_ftdc,X_find,X_sw,X_oir) #Factores de riesgo del portafolios de 8(9) instrumentos financieros\n",
        "\n",
        "#Cálculo de variaciones Delta_X DEL PORTAFOLIOS\n",
        "DeltaX_port=as.matrix(log(X_port[1:(n-1)]/X_port[2:(n)]))\n",
        "DeltaX_port[is.nan(DeltaX_port)] <- 0 #quitamos NaN\n",
        "DeltaX_port[is.na(DeltaX_port)] <- 0 #quitamos Na\n",
        "DeltaX_port[is.infinite(DeltaX_port)] <- 0 #quitamos Na"
      ],
      "execution_count": null,
      "outputs": []
    },
    {
      "cell_type": "markdown",
      "metadata": {
        "id": "KpIAfrrZ04Zb"
      },
      "source": [
        "## Delta-Gamma"
      ]
    },
    {
      "cell_type": "markdown",
      "metadata": {
        "id": "WAjO190tDRdZ"
      },
      "source": [
        "#### Acciones y divisas"
      ]
    },
    {
      "cell_type": "markdown",
      "metadata": {
        "id": "YWtvQhgoAxkp"
      },
      "source": [
        "##### Por factor de riesgo"
      ]
    },
    {
      "cell_type": "code",
      "metadata": {
        "id": "rzOWKThlDU2J",
        "colab": {
          "base_uri": "https://localhost:8080/"
        },
        "outputId": "104dc031-47f6-462d-9331-fe448de33e47"
      },
      "source": [
        "%%R\n",
        "Delta_acc = DeltaX_acc_div[,c(4,5,6)]\n",
        "Delta_div = DeltaX_acc_div[,c(1,2,3)]\n",
        "\n",
        "mu_acc = 0\n",
        "mu_div = 0\n",
        "\n",
        "desvest_acc = apply(Delta_acc, 2, sd)\n",
        "desvest_div = apply(Delta_div, 2, sd)\n",
        "\n",
        "g_acct = g_acc_divt[,c(4,5,6)]\n",
        "g_divt = g_acc_divt[,c(1,2,3)]\n",
        "\n",
        "VarCovX_acc = cov(Delta_acc)\n",
        "VarCovX_div = cov(Delta_div)\n",
        "\n",
        "ajuste_cornish_acc_div = qnorm(alpha)\n",
        "\n",
        "VaRfrDGN_acc = qnorm(1-alpha)*sqrt(g_acct*g_acct*desvest_acc*desvest_acc)\n",
        "VaRfrDGN_div = qnorm(1-alpha)*sqrt(g_divt*g_divt*desvest_div*desvest_div)\n",
        "\n",
        "CVaRfrDGN_acc = (dnorm(qnorm(1-alpha))/(1-alpha))*sqrt(g_acct*g_acct*desvest_acc*desvest_acc)*-1\n",
        "CVaRfrDGN_div = (dnorm(qnorm(1-alpha))/(1-alpha))*sqrt(g_divt*g_divt*desvest_div*desvest_div)*-1\n",
        "\n",
        "VaRfrCF_acc = ajuste_cornish_acc_div*sqrt(g_acct*g_acct*desvest_acc*desvest_acc)*-1\n",
        "VaRfrCF_div = ajuste_cornish_acc_div*sqrt(g_divt*g_divt*desvest_div*desvest_div)*-1\n",
        "\n",
        "CVaRfrCF_acc = (dnorm(qnorm(alpha))/(1-alpha))*sqrt(g_acct*g_acct*desvest_acc*desvest_acc)*-1\n",
        "CVaRfrCF_div = (dnorm(qnorm(alpha))/(1-alpha))*sqrt(g_divt*g_divt*desvest_div*desvest_div)*-1\n",
        "\n",
        "print('VaR por factor de riesgo Delta Gamma Normal acciones')\n",
        "print(VaRfrDGN_acc)\n",
        "print('CVaR por factor de riesgo Delta Gamma Normal acciones')\n",
        "print(CVaRfrDGN_acc)\n",
        "print('VaR por factor de riesgo Delta Gamma Normal divisas')\n",
        "print(VaRfrDGN_div)\n",
        "print('CVaR por factor de riesgo Delta Gamma Normal divisas')\n",
        "print(CVaRfrDGN_div)\n",
        "\n",
        "print('VaR por factor de riesgo Delta Gamma Normal CF acciones')\n",
        "print(VaRfrCF_acc)\n",
        "print('CVaR por factor de riesgo Delta Gamma Normal CF acciones')\n",
        "print(CVaRfrCF_acc)\n",
        "print('VaR por factor de riesgo Delta Gamma Normal CF divisas')\n",
        "print(VaRfrCF_div)\n",
        "print('CVaR por factor de riesgo Delta Gamma Normal CF divisas')\n",
        "print(CVaRfrCF_div)"
      ],
      "execution_count": null,
      "outputs": [
        {
          "output_type": "stream",
          "name": "stdout",
          "text": [
            "[1] \"VaR por factor de riesgo Delta Gamma Normal acciones\"\n",
            "     AMXL.MX GCARSOA1.MX WALMEX.MX\n",
            "1: -2864.347   -3468.902 -2978.942\n",
            "[1] \"CVaR por factor de riesgo Delta Gamma Normal acciones\"\n",
            "     AMXL.MX GCARSOA1.MX WALMEX.MX\n",
            "1: -3376.419   -4089.053 -3511.501\n",
            "[1] \"VaR por factor de riesgo Delta Gamma Normal divisas\"\n",
            "    EURUSD.X  GBPUSD.X  USDMXN.X\n",
            "1: -157.1863 -159.9017 -357.3584\n",
            "[1] \"CVaR por factor de riesgo Delta Gamma Normal divisas\"\n",
            "    EURUSD.X GBPUSD.X  USDMXN.X\n",
            "1: -185.2872 -188.488 -421.2449\n",
            "[1] \"VaR por factor de riesgo Delta Gamma Normal CF acciones\"\n",
            "     AMXL.MX GCARSOA1.MX WALMEX.MX\n",
            "1: -2864.347   -3468.902 -2978.942\n",
            "[1] \"CVaR por factor de riesgo Delta Gamma Normal CF acciones\"\n",
            "     AMXL.MX GCARSOA1.MX WALMEX.MX\n",
            "1: -3376.419   -4089.053 -3511.501\n",
            "[1] \"VaR por factor de riesgo Delta Gamma Normal CF divisas\"\n",
            "    EURUSD.X  GBPUSD.X  USDMXN.X\n",
            "1: -157.1863 -159.9017 -357.3584\n",
            "[1] \"CVaR por factor de riesgo Delta Gamma Normal CF divisas\"\n",
            "    EURUSD.X GBPUSD.X  USDMXN.X\n",
            "1: -185.2872 -188.488 -421.2449\n"
          ]
        }
      ]
    },
    {
      "cell_type": "markdown",
      "metadata": {
        "id": "Hr3Bl0PpA7co"
      },
      "source": [
        "##### Total"
      ]
    },
    {
      "cell_type": "code",
      "metadata": {
        "id": "fzaVSL44A9rX",
        "colab": {
          "base_uri": "https://localhost:8080/"
        },
        "outputId": "25bb7fe9-5858-4a8c-b742-429ce5e17199"
      },
      "source": [
        "%%R\n",
        "\n",
        "VaRTotalDGN_acc = sqrt(as.matrix(g_acct)%*%VarCovX_acc%*%t(as.matrix(g_acct)))*qnorm(1-alpha)\n",
        "VaRTotalDGN_div = sqrt(as.matrix(g_divt)%*%VarCovX_div%*%t(as.matrix(g_divt)))*qnorm(1-alpha)\n",
        "\n",
        "CVaRTotalDGN_acc = sqrt(as.matrix(g_acct)%*%VarCovX_acc%*%t(as.matrix(g_acct)))*dnorm(qnorm(1-alpha))/(1-alpha)*-1\n",
        "CVaRTotalDGN_div = sqrt(as.matrix(g_divt)%*%VarCovX_div%*%t(as.matrix(g_divt)))*dnorm(qnorm(1-alpha))/(1-alpha)*-1\n",
        "\n",
        "VaRTotalCF_acc = ajuste_cornish_acc_div*sqrt(as.matrix(g_acct)%*%VarCovX_acc%*%t(as.matrix(g_acct)))*-1\n",
        "VaRTotalCF_div = ajuste_cornish_acc_div*sqrt(as.matrix(g_divt)%*%VarCovX_div%*%t(as.matrix(g_divt)))*-1\n",
        "\n",
        "CVaRTotalCF_acc = (dnorm(qnorm(alpha))/(1-alpha))*sqrt(as.matrix(g_acct)%*%VarCovX_acc%*%t(as.matrix(g_acct)))*-1\n",
        "CVaRTotalCF_div = (dnorm(qnorm(alpha))/(1-alpha))*sqrt(as.matrix(g_divt)%*%VarCovX_div%*%t(as.matrix(g_divt)))*-1\n",
        "\n",
        "\n",
        "print('VaR total Delta Gamma Normal acciones')\n",
        "print(VaRTotalDGN_acc)\n",
        "print('CVaR total Delta Gamma Normal acciones')\n",
        "print(CVaRTotalDGN_acc)\n",
        "print('VaR total Delta Gamma Normal divisas')\n",
        "print(VaRTotalDGN_div)\n",
        "print('CVaR total Delta Gamma Normal divisas')\n",
        "print(CVaRTotalDGN_div)\n",
        "\n",
        "print('VaR total Delta Gamma Normal CF acciones')\n",
        "print(VaRTotalCF_acc)\n",
        "print('CVaR total Delta Gamma Normal CF acciones')\n",
        "print(CVaRTotalCF_acc)\n",
        "print('VaR total Delta Gamma Normal CF divisas')\n",
        "print(VaRTotalCF_div)\n",
        "print('CVaR total Delta Gamma Normal CF divisas')\n",
        "print(CVaRTotalCF_div)"
      ],
      "execution_count": null,
      "outputs": [
        {
          "output_type": "stream",
          "name": "stdout",
          "text": [
            "[1] \"VaR total Delta Gamma Normal acciones\"\n",
            "          [,1]\n",
            "[1,] -4824.416\n",
            "[1] \"CVaR total Delta Gamma Normal acciones\"\n",
            "          [,1]\n",
            "[1,] -5686.899\n",
            "[1] \"VaR total Delta Gamma Normal divisas\"\n",
            "          [,1]\n",
            "[1,] -376.8845\n",
            "[1] \"CVaR total Delta Gamma Normal divisas\"\n",
            "          [,1]\n",
            "[1,] -444.2619\n",
            "[1] \"VaR total Delta Gamma Normal CF acciones\"\n",
            "          [,1]\n",
            "[1,] -4824.416\n",
            "[1] \"CVaR total Delta Gamma Normal CF acciones\"\n",
            "          [,1]\n",
            "[1,] -5686.899\n",
            "[1] \"VaR total Delta Gamma Normal CF divisas\"\n",
            "          [,1]\n",
            "[1,] -376.8845\n",
            "[1] \"CVaR total Delta Gamma Normal CF divisas\"\n",
            "          [,1]\n",
            "[1,] -444.2619\n"
          ]
        }
      ]
    },
    {
      "cell_type": "markdown",
      "metadata": {
        "id": "KMZzVWJmzy6X"
      },
      "source": [
        "###CETES"
      ]
    },
    {
      "cell_type": "code",
      "metadata": {
        "id": "o5UZ0pq70Fey",
        "colab": {
          "base_uri": "https://localhost:8080/"
        },
        "outputId": "fc93ff3f-b5db-45c4-db7c-3f9dc790d2bc"
      },
      "source": [
        "%%R\n",
        "\n",
        "Delta_bcc = x_bcc[1:(n-1),1]/x_bcc[2:(n),1]-1\n",
        "\n",
        "desvest_bcc = sd(Delta_bcc)\n",
        "sigma_gamma_bcc = sqrt(0.5*(gamma_bcct2[1,1]*desvest_bcc^2)^2+g_bcct[1,1]*desvest_bcc^2*g_bcct[1,1])\n",
        "mu_3_bcc = (1/2 * (gamma_bcct2[1,1]*desvest_bcc^2)^3 + 3 * gamma_bcct2[1,1] * g_bcct[1,1] * desvest_bcc^2 * g_bcct[1,1])/sigma_gamma_bcc^3\n",
        "ajuste_cornish_bcc = qnorm(1-alpha) + 1/6 * (qnorm(1-alpha)^2-1)*mu_3_bcc\n",
        "aux_bcc = pnorm(-ajuste_cornish_bcc)\n",
        "\n",
        "#Calculamos el VaR y CVaR por Cornish Fisher\n",
        "VaRContCF_bcc = (mu_bcc[1,1] + sigma_gamma_bcc * ajuste_cornish_bcc * -1)\n",
        "print(\"VaR total Delta Gamma CF\")\n",
        "print(VaRContCF_bcc)\n",
        "CVaRContCF_bcc = (mu_bcc[1,1] + (dnorm(-ajuste_cornish_bcc)/aux_bcc)*sigma_gamma_bcc*-1)\n",
        "print(\"CVaR total Delta Gamma CF\")\n",
        "print(CVaRContCF_bcc)\n",
        "\n",
        "#Calculamos el VaR y CVaR por Delta Gamma Normal\n",
        "VaRContDGM_bcc = (mu_bcc[1,1] + sigma_gamma_bcc * qnorm(1-alpha))\n",
        "print(\"VaR total Delta Gamma Normal\")\n",
        "print(VaRContDGM_bcc)\n",
        "CVaRContDGM_bcc = (mu_bcc[1,1] + (dnorm(qnorm(alpha))/(1-alpha))*sigma_gamma_bcc*-1)\n",
        "print(\"CVaR total Delta Gamma Normal\")\n",
        "print(CVaRContDGM_bcc) "
      ],
      "execution_count": null,
      "outputs": [
        {
          "output_type": "stream",
          "name": "stdout",
          "text": [
            "[1] \"VaR total Delta Gamma CF\"\n",
            "[1] -63.71016\n",
            "[1] \"CVaR total Delta Gamma CF\"\n",
            "[1] -63.90746\n",
            "[1] \"VaR total Delta Gamma Normal\"\n",
            "[1] -10.18972\n",
            "[1] \"CVaR total Delta Gamma Normal\"\n",
            "[1] -11.4639\n"
          ]
        }
      ]
    },
    {
      "cell_type": "markdown",
      "metadata": {
        "id": "1ulgKZP0zsie"
      },
      "source": [
        "### Bonos M\n",
        "Observe que nuestra exposición al riesgo de mercado es nula, esto se debe al hecho de que la tasa bajo la cual está pactada el Bono M es fija, esto implica que no se verá afectada por las fluctuaciones de mercado. En efecto de lo anterior, el riesgo de mercado asumido presentado por el VaR y CVaR es cero. Sin embargo, no podemos afirmar en lo general que nuestra exposición al riesgo sea nula, dado que si bien el riesgo de mercado se nulifica al dejar la tasa fija, no podemos decir lo mismo del riesgo de crédito."
      ]
    },
    {
      "cell_type": "code",
      "metadata": {
        "id": "TDUI9icQL2vh",
        "colab": {
          "base_uri": "https://localhost:8080/"
        },
        "outputId": "f9ae44df-e4dc-4006-9830-05eeb5cf28d8"
      },
      "source": [
        "%%R\n",
        "gamma_bcct2"
      ],
      "execution_count": null,
      "outputs": [
        {
          "output_type": "stream",
          "name": "stdout",
          "text": [
            "         [,1]\n",
            "[1,] 42.12399\n"
          ]
        }
      ]
    },
    {
      "cell_type": "markdown",
      "metadata": {
        "id": "EPJiZS5SyZ-W"
      },
      "source": [
        "### Bondes D"
      ]
    },
    {
      "cell_type": "markdown",
      "metadata": {
        "id": "pDQFPCsTyl2E"
      },
      "source": [
        "#### Riesgo a nivel contrato y nivel contrato-factor de riesgo"
      ]
    },
    {
      "cell_type": "code",
      "metadata": {
        "id": "7JcYwI4xy5pC",
        "colab": {
          "base_uri": "https://localhost:8080/"
        },
        "outputId": "0ef51a17-1a76-4346-85f3-579ed7fe401b"
      },
      "source": [
        "%%R\n",
        "\n",
        "Delta_X_bd_ext=X_bd_ext[1:(n-1),]/X_bd_ext[2:(n),]-1\n",
        "\n",
        "##POR INSTRUMENTO\n",
        "\n",
        "#Para obtener el VaR por contrato\n",
        "VaRContDGM_bd=matrix(0,1,count(N_bd))\n",
        "CVaRContDGM_bd=matrix(0,1,count(N_bd))\n",
        "VaRContCF_bd=matrix(0,1,count(N_bd))\n",
        "CVaRContCF_bd=matrix(0,1,count(N_bd))\n",
        "#Para obtener el VaR por contrato por factor de riesgo\n",
        "VaRContDGM_bdf=matrix(0,3,count(N_bd))\n",
        "CVaRContDGM_bdf=matrix(0,3,count(N_bd))\n",
        "VaRContCF_bdf=matrix(0,3,count(N_bd))\n",
        "CVaRContCF_bdf=matrix(0,3,count(N_bd))\n",
        "\n",
        "#V0=swap(porT, contratosT, nominalT, XtfwdT[1,], tasafijaT, plazocuponT, VTplazos, Xvp[1,],N)\n",
        "\n",
        "\n",
        "#Valor de las derivadas evaluadas en el punto x0.\n",
        "V0f_dtc_bd=d_bondeD_tc(contratos_bdmT, nominal_bdm, tf_act, plazocupon_bdmT, VTplazos_bdm, Xvp_bd[1,], Xst_bd[1,], N_bd,ddv)\n",
        "V0f_dvp_bd=d_bondeD_x(contratos_bdmT, nominal_bdm, tf_act, plazocupon_bdmT, VTplazos_bdm, Xvp_bd[1,], Xst_bd[1,], N_bd,ddv)\n",
        "V0f_dst_bd=V0f_dvp_bd\n",
        "\n",
        "for (j in (1:count(N_bd)))\n",
        "{\n",
        "  if(j==1)\n",
        "  { \n",
        "    x0cont_bd=c(X_bd_tc[1,1:sum(N_bd[1:j])],Xvp_bd[1,1:sum(N_bd[1:j])],Xst_bd[1,1:sum(N_bd[1:j])])\n",
        "    #MATRIZ de factores de riesgo primera fila cupón, segunda valor presente, tercera sobretasa\n",
        "    x0cont_bdf=rbind(c(X_bd_tc[1,1:sum(N_bd[1:j])],Xvp_bd[1,1:sum(N_bd[1:j])]*0,Xst_bd[1,1:sum(N_bd[1:j])]*0),\n",
        "                     c(X_bd_tc[1,1:sum(N_bd[1:j])]*0,Xvp_bd[1,1:sum(N_bd[1:j])],Xst_bd[1,1:sum(N_bd[1:j])]*0),\n",
        "                     c(X_bd_tc[1,1:sum(N_bd[1:j])]*0,Xvp_bd[1,1:sum(N_bd[1:j])]*0,Xst_bd[1,1:sum(N_bd[1:j])]))\n",
        "    mucont_bd=sum(mu_bd[j])\n",
        "    gcont_bd=as.matrix(c(V0f_dtc_bd[1:sum(N_bd[1:j])],V0f_dvp_bd[1:sum(N_bd[1:j])],V0f_dst_bd[1:sum(N_bd[1:j])]))\n",
        "    gtcont_bd=t(as.matrix(gcont_bd*x0cont_bd))\n",
        "    VarCovXcont_bd=cov(cbind(X_bd_tc[,1:sum(N_bd[1:j])],Xvp_bd[,1:sum(N_bd[1:j])],Xst_bd[,1:sum(N_bd[1:j])]))*(n-1)/(n-2)\t\n",
        "    gamma_cont_bd=gamma_bd[1:(3*sum(N_bd[1:j])),1:(3*sum(N_bd[1:j]))]\n",
        "    tgamma_bd= x0cont_bd%*%t(x0cont_bd)*gamma_cont_bd #gamma tilde\n",
        "  }\n",
        "  else\n",
        "  {\n",
        "    x0cont_bd=c(X_bd_tc[1,sum(N_bd[1:j-1],1):sum(N_bd[1:j])],Xvp_bd[1,sum(N_bd[1:j-1],1):sum(N_bd[1:j])],Xst_bd[1,sum(N_bd[1:j-1],1):sum(N_bd[1:j])])\n",
        "    x0cont_bdf=rbind(c(X_bd_tc[1,sum(N_bd[1:j-1],1):sum(N_bd[1:j])],Xvp_bd[1,sum(N_bd[1:j-1],1):sum(N_bd[1:j])]*0,Xst_bd[1,sum(N_bd[1:j-1],1):sum(N_bd[1:j])]*0),\n",
        "                     c(X_bd_tc[1,sum(N_bd[1:j-1],1):sum(N_bd[1:j])]*0,Xvp_bd[1,sum(N_bd[1:j-1],1):sum(N_bd[1:j])],Xst_bd[1,sum(N_bd[1:j-1],1):sum(N_bd[1:j])]*0),\n",
        "                     c(X_bd_tc[1,sum(N_bd[1:j-1],1):sum(N_bd[1:j])]*0,Xvp_bd[1,sum(N_bd[1:j-1],1):sum(N_bd[1:j])]*0,Xst_bd[1,sum(N_bd[1:j-1],1):sum(N_bd[1:j])]))\n",
        "    mucont_bd=sum(mu_bd[j])\n",
        "    gcont_bd=as.matrix(c(V0f_dtc_bd[sum(N_bd[1:j-1],1):sum(N_bd[1:j])],V0f_dvp_bd[sum(N_bd[1:j-1],1):sum(N_bd[1:j])],V0f_dst_bd[sum(N_bd[1:j-1],1):sum(N_bd[1:j])]))\n",
        "    gtcont_bd=t(as.matrix(gcont_bd*x0cont_bd))\n",
        "    VarCovXcont_bd=cov(cbind(X_bd_tc[,sum(N_bd[1:j-1],1):sum(N_bd[1:j])],Xvp_bd[,sum(N_bd[1:j-1],1):sum(N_bd[1:j])],Xst_bd[,sum(N_bd[1:j-1],1):sum(N_bd[1:j])]))*(n-1)/(n-2)\n",
        "    gamma_cont_bd=gamma_bd[(3*sum(N_bd[1:j-1])+1):(3*sum(N_bd[1:j])),(3*sum(N_bd[1:j-1])+1):(3*sum(N_bd[1:j]))]\n",
        "    tgamma_bd= x0cont_bd%*%t(x0cont_bd)*gamma_cont_bd #gamma tilde\n",
        "  }\n",
        "  \n",
        "  \n",
        "  tgammavar_bd=(tgamma_bd%*%VarCovXcont_bd)\n",
        "  tgammavar2_bd=(tgamma_bd%*%VarCovXcont_bd)%*%(tgamma_bd%*%VarCovXcont_bd)\n",
        "  VaRContDGM_bd[j]=ifelse((sum(diag(tgammavar_bd))/2+mucont_bd)>0,0,(sum(diag(tgammavar_bd))/2+mucont_bd))+(sqrt(sum(diag(tgammavar2_bd))/2+gtcont_bd%*%VarCovXcont_bd%*%t(gtcont_bd)))*qnorm(1-alpha) #VaR Normal\n",
        "  CVaRContDGM_bd[j]=ifelse((sum(diag(tgammavar_bd))/2+mucont_bd)>0,0,(sum(diag(tgammavar_bd))/2+mucont_bd))-(sqrt(sum(diag(tgammavar_bd))/2+gtcont_bd%*%VarCovXcont_bd%*%t(gtcont_bd)))*dnorm(qnorm(alpha))/(1-alpha)\n",
        "  ###VaR Cornish Fisher\n",
        "  tgammavar3_bd=tgammavar2_bd%*%(tgamma_bd%*%VarCovXcont_bd)\n",
        "  asimPmargc_bd=sum(diag(tgammavar3_bd))+3*gtcont_bd%*%VarCovXcont_bd%*%tgamma_bd%*%VarCovXcont_bd%*%t(gtcont_bd) #gamma tercer momento\n",
        "  asimPmargc_bd=asimPmargc_bd/(sqrt(sum(diag(tgammavar2_bd))/2+gtcont_bd%*%VarCovXcont_bd%*%t(gtcont_bd)))^3  #coef de asimetría\n",
        "  VaRmargcstd_bd=qnorm(1-alpha)+((qnorm(1-alpha)^2-1)/6)*asimPmargc_bd  #VaR estandarizado\n",
        "  VaRContCF_bd[j]=ifelse((sum(diag(tgammavar_bd))/2+mucont_bd)>0,0,(sum(diag(tgammavar_bd))/2+mucont_bd))+(sqrt(sum(diag(tgammavar2_bd))/2+gtcont_bd%*%VarCovXcont_bd%*%t(gtcont_bd)))*VaRmargcstd_bd #VaR Normal\n",
        "  CVaRContCF_bd[j]=ifelse((sum(diag(tgammavar_bd))/2+mucont_bd)>0,0,(sum(diag(tgammavar_bd))/2+mucont_bd))-(sqrt(sum(diag(tgammavar2_bd))/2+gtcont_bd%*%VarCovXcont_bd%*%t(gtcont_bd)))*dnorm(VaRmargcstd_bd)/(pnorm(VaRmargcstd_bd))\n",
        "  for (k in (1:3))\n",
        "  {\n",
        "    gtcont_bd=t(as.matrix(gcont_bd*x0cont_bdf[k,]))\n",
        "    tgamma_bd= x0cont_bdf[k,]%*%t(x0cont_bdf[k,])*gamma_cont_bd #gamma tilde\n",
        "    tgammavar_bd=(tgamma_bd%*%VarCovXcont_bd)\n",
        "    tgammavar2_bd=(tgamma_bd%*%VarCovXcont_bd)%*%(tgamma_bd%*%VarCovXcont_bd)\n",
        "    VaRContDGM_bdf[k,j]=(sum(diag(tgammavar_bd))/2+mucont_bd)-(sqrt(sum(diag(tgammavar2_bd))/2+gtcont_bd%*%VarCovXcont_bd%*%t(gtcont_bd)))*qnorm(alpha) #VaR Normal\n",
        "    CVaRContDGM_bdf[k,j]=(sum(diag(tgammavar_bd))/2+mucont_bd)-(sqrt(sum(diag(tgammavar_bd))/2+gtcont_bd%*%VarCovXcont_bd%*%t(gtcont_bd)))*dnorm(qnorm(alpha))/(1-alpha)\n",
        "    ###VaR Cornish Fisher\n",
        "    tgammavar3_bd=tgammavar2_bd%*%(tgamma_bd%*%VarCovXcont_bd)\n",
        "    asimPmargc_bd=sum(diag(tgammavar3_bd))+3*gtcont_bd%*%VarCovXcont_bd%*%tgamma_bd%*%VarCovXcont_bd%*%t(gtcont_bd) #gamma tercer momento\n",
        "    asimPmargc_bd=asimPmargc_bd/(sqrt(sum(diag(tgammavar2_bd))/2+gtcont_bd%*%VarCovXcont_bd%*%t(gtcont_bd)))^3  #coef de asimetría\n",
        "    VaRmargcstd_bd=qnorm(1-alpha)+((qnorm(1-alpha)^2-1)/6)*asimPmargc_bd  #VaR estandarizado\n",
        "    VaRContCF_bdf[k,j]=(sqrt(sum(diag(tgammavar2_bd))/2+gtcont_bd%*%VarCovXcont_bd%*%t(gtcont_bd)))*VaRmargcstd_bd #VaR Normal\n",
        "    CVaRContCF_bdf[k,j]=-(sqrt(sum(diag(tgammavar2_bd))/2+gtcont_bd%*%VarCovXcont_bd%*%t(gtcont_bd)))*dnorm(VaRmargcstd_bd)/(pnorm(VaRmargcstd_bd))    \n",
        "  }\n",
        "  \n",
        "}\n",
        "print(\"VaR contrato Delta Gamma Normal:\")\n",
        "print(VaRContDGM_bd[1,1])\n",
        "print(\"CVaR contrato Delta Gamma Normal:\") \n",
        "print(CVaRContDGM_bd[1,1])\n",
        "print(\"VaR contrato Delta Gamma CF:\")\n",
        "print(VaRContCF_bd[1,1])\n",
        "print(\"CVaR contrato Delta Gamma CF:\")\n",
        "print(CVaRContCF_bd[1,1])\n",
        "print(\"VaR contrato-factor de riesgo Delta Gamma Normal:\")\n",
        "print(VaRContDGM_bdf[1,1])\n",
        "print(\"CVaR contrato-factor de riesgo Delta Gamma Normal:\")\n",
        "print(CVaRContDGM_bdf[1,1])\n",
        "print(\"VaR contrato-factor de riesgo Delta Gamma CF:\")\n",
        "print(VaRContCF_bdf[1,1])\n",
        "print(\"CVaR contrato-factor de riesgo Delta Gamma CF:\")\n",
        "print(CVaRContCF_bdf[1,1])"
      ],
      "execution_count": null,
      "outputs": [
        {
          "output_type": "stream",
          "name": "stdout",
          "text": [
            "[1] \"VaR contrato Delta Gamma Normal:\"\n",
            "[1] -175.5683\n",
            "[1] \"CVaR contrato Delta Gamma Normal:\"\n",
            "[1] -206.9554\n",
            "[1] \"VaR contrato Delta Gamma CF:\"\n",
            "[1] -175.5677\n",
            "[1] \"CVaR contrato Delta Gamma CF:\"\n",
            "[1] -206.9549\n",
            "[1] \"VaR contrato-factor de riesgo Delta Gamma Normal:\"\n",
            "[1] -144.5551\n",
            "[1] \"CVaR contrato-factor de riesgo Delta Gamma Normal:\"\n",
            "[1] -174.6483\n",
            "[1] \"VaR contrato-factor de riesgo Delta Gamma CF:\"\n",
            "[1] -168.3306\n",
            "[1] \"CVaR contrato-factor de riesgo Delta Gamma CF:\"\n",
            "[1] -198.4239\n"
          ]
        }
      ]
    },
    {
      "cell_type": "markdown",
      "metadata": {
        "id": "qxPS1Z1NzbU7"
      },
      "source": [
        "#### Riesgo a nivel total y total factor de riesgo"
      ]
    },
    {
      "cell_type": "code",
      "metadata": {
        "id": "62lw-H3izjH2",
        "colab": {
          "base_uri": "https://localhost:8080/"
        },
        "outputId": "953f3ea2-8953-4ae3-bab1-e7f3ab11964e"
      },
      "source": [
        "%%R\n",
        "\n",
        "VarCovX_bd_ext=cov(Delta_X_bd_ext)*(n-1)/(n-2)\n",
        "tgammavar_bdt=(gamma_bdt2%*%VarCovX_bd_ext)\n",
        "tgammavar2_bdt=(gamma_bdt2%*%VarCovX_bd_ext)%*%(gamma_bdt2%*%VarCovX_bd_ext) \n",
        "VaRTotalDGM=ifelse((sum(diag(tgammavar_bdt))/2+sum(mu_bd))>0,0,(sum(diag(tgammavar_bdt))/2+sum(mu_bd)))+(sqrt(sum(diag(tgammavar2_bdt))/2+g_bdt%*%VarCovX_bd_ext%*%t(g_bdt)))*qnorm(1-alpha) #VaR Normal\n",
        "CVaRTotalDGM=ifelse((sum(diag(tgammavar_bdt))/2+sum(mu_bd))>0,0,(sum(diag(tgammavar_bdt))/2+sum(mu_bd)))-(sqrt(sum(diag(tgammavar2_bdt))/2+g_bdt%*%VarCovX_bd_ext%*%t(g_bdt)))*dnorm(qnorm(alpha))/(1-alpha)\n",
        "\n",
        "# VaR Cornish Fisher\n",
        "tgammavar3_bdt=tgammavar2_bdt%*%(gamma_bdt2%*%VarCovX_bd_ext) \n",
        "asimPmargc_bdt=sum(diag(tgammavar3_bdt))+3*g_bdt%*%VarCovX_bd_ext%*%gamma_bdt2%*%VarCovX_bd_ext%*%t(g_bdt) #gamma tercer momento\n",
        "asimPmargc_bdt=asimPmargc_bdt/(sqrt(sum(diag(tgammavar2_bdt))/2+g_bdt%*%VarCovX_bd_ext%*%t(g_bdt)))^3  #coef de asimetría\n",
        "VaRmargcstd_bdt=qnorm(1-alpha)+((qnorm(1-alpha)^2-1)/6)*asimPmargc_bdt  #VaR estandarizado\n",
        "VaRTotalCF=ifelse((sum(diag(tgammavar_bdt))/2+sum(mu_bd))>0,0,(sum(diag(tgammavar_bdt))/2+sum(mu_bd)))+(sqrt(sum(diag(tgammavar2_bdt))/2+g_bdt%*%VarCovX_bd_ext%*%t(g_bdt)))*VaRmargcstd_bdt #VaR Normal #VaR cf\n",
        "CVaRTotalCF=ifelse((sum(diag(tgammavar_bdt))/2+sum(mu_bd))>0,0,(sum(diag(tgammavar_bdt))/2+sum(mu_bd)))-(sqrt(sum(diag(tgammavar2_bdt))/2+g_bdt%*%VarCovX_bd_ext%*%t(g_bdt)))*dnorm(VaRmargcstd_bdt)/(pnorm(VaRmargcstd_bdt))\n",
        "\n",
        "# Por factor de riesgo\n",
        "VaRTotalDGMf=matrix(0,1,3)\n",
        "CVaRTotalDGMf=matrix(0,1,3)\n",
        "VaRTotalCFf=matrix(0,1,3)\n",
        "CVaRTotalCFf=matrix(0,1,3)\n",
        " #MATRIZ de factores de riesgo primera fila cupón, segunda valor presente, tercera sobretasa\n",
        "x0_bd_extf=rbind(cbind(matrix(tf_act,1,ncol(contratos_bdmT)),t(as.matrix(Xvp_bd[1,]))*0,t(as.matrix(Xst_bd[1,]))*0),\n",
        "                 cbind(matrix(tf_act,1,ncol(contratos_bdmT))*0,t(as.matrix(Xvp_bd[1,])),t(as.matrix(Xst_bd[1,]))*0),\n",
        "                 cbind(matrix(tf_act,1,ncol(contratos_bdmT))*0,t(as.matrix(Xvp_bd[1,]))*0,t(as.matrix(Xst_bd[1,]))))\n",
        "\n",
        "for (j in (1:3))\n",
        "{\n",
        "g_bdt=g_bd*x0_bd_extf[j,]\n",
        "gamma_bdt2=gamma_bd*((x0_bd_extf[j,])%*%t(x0_bd_extf[j,]))\n",
        "VarCovX_bd_ext=cov(Delta_X_bd_ext)*(n-1)/(n-2)\n",
        "tgammavar_bdt=(gamma_bdt2%*%VarCovX_bd_ext)\n",
        "tgammavar2_bdt=(gamma_bdt2%*%VarCovX_bd_ext)%*%(gamma_bdt2%*%VarCovX_bd_ext) \n",
        "VaRTotalDGMf[,j]=(sqrt(sum(diag(tgammavar2_bdt))/2+g_bdt%*%VarCovX_bd_ext%*%t(g_bdt)))*qnorm(1-alpha) #VaR Normal\n",
        "CVaRTotalDGMf[,j]=-(sqrt(sum(diag(tgammavar2_bdt))/2+g_bdt%*%VarCovX_bd_ext%*%t(g_bdt)))*dnorm(qnorm(alpha))/(1-alpha)\n",
        "###VaR Cornish Fisher\n",
        "tgammavar3_bdt=tgammavar2_bdt%*%(gamma_bdt2%*%VarCovX_bd_ext) \n",
        "asimPmargc_bdt=sum(diag(tgammavar3_bdt))+3*g_bdt%*%VarCovX_bd_ext%*%gamma_bdt2%*%VarCovX_bd_ext%*%t(g_bdt) #gamma tercer momento\n",
        "asimPmargc_bdt=asimPmargc_bdt/(sqrt(sum(diag(tgammavar2_bdt))/2+g_bdt%*%VarCovX_bd_ext%*%t(g_bdt)))^3  #coef de asimetría\n",
        "VaRmargcstd_bdt=qnorm(1-alpha)+((qnorm(1-alpha)^2-1)/6)*asimPmargc_bdt  #VaR estandarizado\n",
        "VaRTotalCFf[,j]=(sqrt(sum(diag(tgammavar2_bdt))/2+g_bdt%*%VarCovX_bd_ext%*%t(g_bdt)))*VaRmargcstd_bdt #VaR Normal #VaR cf\n",
        "CVaRTotalCFf[,j]=-(sqrt(sum(diag(tgammavar2_bdt))/2+g_bdt%*%VarCovX_bd_ext%*%t(g_bdt)))*dnorm(VaRmargcstd_bdt)/(pnorm(VaRmargcstd_bdt))\n",
        "}\n",
        "sum(V0_bdm)\n",
        "print(\"VaR total Delta Gamma Normal:\")\n",
        "print(VaRTotalDGM)\n",
        "print(\"CVaR total Delta Gamma Normal:\")\n",
        "print(CVaRTotalDGM)\n",
        "print(\"VaR total Delta Gamma CF:\")\n",
        "print(VaRTotalCF)\n",
        "print(\"CVaR total Delta Gamma CF:\")\n",
        "print(CVaRTotalCF)\n",
        "print(\"VaR total Delta Gamma Normal por Factor de Riesgo:\")\n",
        "print(VaRTotalDGMf)\n",
        "print(\"CVaR total Delta Gamma Normal por Factor de Riesgo:\")\n",
        "print(CVaRTotalDGMf)\n",
        "print(\"VaR total Delta Gamma CF por Factor de Riesgo:\")\n",
        "print(VaRTotalCFf)\n",
        "print(\"CVaR total Delta Gamma CF por Factor de Riesgo:\")\n",
        "print(CVaRTotalCFf)"
      ],
      "execution_count": null,
      "outputs": [
        {
          "output_type": "stream",
          "name": "stdout",
          "text": [
            "[1] \"VaR total Delta Gamma Normal:\"\n",
            "          [,1]\n",
            "[1,] -468.2529\n",
            "[1] \"CVaR total Delta Gamma Normal:\"\n",
            "          [,1]\n",
            "[1,] -551.9645\n",
            "[1] \"VaR total Delta Gamma CF:\"\n",
            "          [,1]\n",
            "[1,] -468.4329\n",
            "[1] \"CVaR total Delta Gamma CF:\"\n",
            "          [,1]\n",
            "[1,] -552.1246\n",
            "[1] \"VaR total Delta Gamma Normal por Factor de Riesgo:\"\n",
            "          [,1]      [,2]      [,3]\n",
            "[1,] -367.5774 -220.7697 -79.80457\n",
            "[1] \"CVaR total Delta Gamma Normal por Factor de Riesgo:\"\n",
            "          [,1]      [,2]      [,3]\n",
            "[1,] -433.2909 -260.2377 -94.07159\n",
            "[1] \"VaR total Delta Gamma CF por Factor de Riesgo:\"\n",
            "          [,1]     [,2]      [,3]\n",
            "[1,] -367.5774 -221.197 -79.86047\n",
            "[1] \"CVaR total Delta Gamma CF por Factor de Riesgo:\"\n",
            "          [,1]      [,2]      [,3]\n",
            "[1,] -433.2909 -260.6175 -94.12128\n"
          ]
        }
      ]
    },
    {
      "cell_type": "markdown",
      "metadata": {
        "id": "dGzJj5Nss9hS"
      },
      "source": [
        "###Forwards de Tipo de Cambio\n"
      ]
    },
    {
      "cell_type": "code",
      "metadata": {
        "id": "QYyEIp3u4gqk"
      },
      "source": [
        "%%R\n",
        "DeltaX_ftdc=DeltaX_port[,(sum(n_if[1:4],1)):(sum(n_if[1:5]))]\n"
      ],
      "execution_count": null,
      "outputs": []
    },
    {
      "cell_type": "markdown",
      "metadata": {
        "id": "ASn8PyA-tGbc"
      },
      "source": [
        "####Riesgo a Nivel Contrato y Nivel Contrato-Factor de Riesgo"
      ]
    },
    {
      "cell_type": "code",
      "metadata": {
        "id": "6oGaEAHCtfve",
        "colab": {
          "base_uri": "https://localhost:8080/"
        },
        "outputId": "090d8019-8938-4c91-e0e7-fb118c268f25"
      },
      "source": [
        "%%R\n",
        "\n",
        "\n",
        "#Cálculo de matriz de pérdidas y ganancias FUTUROS TDC\n",
        "\n",
        "#Cálculo de VaR por contrato\n",
        "#creación de matrices de VaR, gamma, VaRCF por contrato\n",
        "DeltaX_ftdc=DeltaX_port[,(sum(n_if[1:4],1)):(sum(n_if[1:5]))] \n",
        "m_ftdc=ncol(plazos_fwd)\n",
        "m=ncol(plazos_fwd)\n",
        "VaRmargc_ftdc=matrix(0,1,m) #Var por contrato Delta Normal\n",
        "VaRmargcstd_ftdc=matrix(0,1,m) #Var por contrato estandarizado \n",
        "VaRmargcCF_ftdc=matrix(0,1,m) #Var por contrato Cornish-Fisher\n",
        "CVaRmargc_ftdc=matrix(0,1,m) #CVar por contrato estandarizado\n",
        "CVaRmargcCF_ftdc=matrix(0,1,m) #CVar por contrato estandarizado\n",
        "\n",
        "##factores riesgo\n",
        "#Spot\n",
        "VaRmargc_fr_ftdc=matrix(0,3,m) #Var por contrato Delta Normal\n",
        "VaRmargcstd_fr_ftdc=matrix(0,3,m) #Var por contrato estandarizado \n",
        "VaRmargcCF_fr_ftdc=matrix(0,3,m) #Var por contrato Cornish-Fisher\n",
        "CVaRmargc_fr_ftdc=matrix(0,3,m) #CVar por contrato estandarizado\n",
        "CVaRmargcCF_fr_ftdc=matrix(0,3,m) #CVar por contrato estandarizado\n",
        "WFR=diagv(c(1,1,1))\n",
        "\n",
        "\n",
        "for (i in 1:(m))\n",
        "{\n",
        "  delta_ftdc=t(g_ftdc[seq(i,m*3,by=m)]) \n",
        "  tdelta_ftdc=t(g_ftdc[seq(i,m*3,by=m)])*xp_ftdc[seq(i,m*3,by=m)]   #delta tilde\n",
        "  gamma_ftdc=mgamma_futTC(plazos_fwd[i],X1_fwtdc[1,i],X2_fwtdc[1,i],X3_ftdc[1,],kst_fwd[i],contratos_fwd[i],nominal_fwd)  #paso clave\n",
        "  tgamma_ftdc=xp_ftdc[seq(i,m*3,by=m)]%*%t(xp_ftdc[seq(i,m*3,by=m)])*gamma_ftdc #gamma tilde\n",
        "  Varmargcaux_ftdc=cov(DeltaX_ftdc[,seq(i,m*3,by=m)])*((n)/(n-1)) #matriz varcov factores de riesgo de cada contrato\n",
        "  tgammavar_ftdc=(tgamma_ftdc%*%Varmargcaux_ftdc)\n",
        "  tgammavar2_ftdc=(tgamma_ftdc%*%Varmargcaux_ftdc)%*%(tgamma_ftdc%*%Varmargcaux_ftdc)  \n",
        "  mudg_ftdc=ifelse((sum(diag(tgammavar_ftdc))/2+mu_ftdc[i])>0,0,(sum(diag(tgammavar_ftdc))/2+mu_ftdc[i]))\n",
        "  desv_ftdc=sqrt(sum(diag(tgammavar2_ftdc))/2+tdelta_ftdc%*%Varmargcaux_ftdc%*%t(tdelta_ftdc))\n",
        "\n",
        "  VaRmargc_ftdc[i]=mudg_ftdc+desv_ftdc*qnorm(1-alpha) #VaR Normal por contrato\n",
        "  CVaRmargc_ftdc[i]=-mudg_ftdc-desv_ftdc*(dnorm(qnorm(1-alpha))/(1-alpha))\n",
        "  \n",
        "  tgammavar3_ftdc=tgammavar2_ftdc%*%(tgamma_ftdc%*%Varmargcaux_ftdc)\n",
        "  asimPmargc_ftdc=sum(diag(tgammavar3_ftdc))+3*tdelta_ftdc%*%Varmargcaux_ftdc%*%tgamma_ftdc%*%Varmargcaux_ftdc%*%t(tdelta_ftdc) #tercer momento\n",
        "  asimPmargc_ftdc=asimPmargc_ftdc/(desv_ftdc)^3  #coef de asimetría\n",
        "  VaRmargcstd_ftdc[i]=qnorm(1-alpha)+((qnorm(1-alpha)^2-1)/6)*asimPmargc_ftdc  #VaR estandarizado\n",
        "  VaRmargcCF_ftdc[i]=mudg_ftdc+desv_ftdc*VaRmargcstd_ftdc[i] \t    #VaR Cornish-Fisher\n",
        "  CVaRmargcCF_ftdc[i]=-mudg_ftdc-desv_ftdc*(dnorm(VaRmargcstd_ftdc[i])/(pnorm(VaRmargcstd_ftdc[i])))\n",
        "\n",
        "#Por factor de riesgo y por contrato\n",
        "#spot, tasa extranjera, tasa nacional\n",
        "  for (j in 1:3)\n",
        "  {\n",
        "    WFRM=matrix(0,3,3)  #PASO CLAVE\n",
        "    WFRM[j,j]=1  #PASO CLAVE\n",
        "    delta_ftdc=t(g_ftdc[seq(i,m*3,by=m)])*WFR[j,] #PASO CLAVE *(1,0,0), (0,1,0), (0,0,1)\n",
        "    #print(WFR[j,])\n",
        "    tdelta_ftdc=t(g_ftdc[seq(i,m*3,by=m)])*xp_ftdc[seq(i,m*3,by=m)]*WFR[j,]   #delta tilde #PASO CLAVE\n",
        "    gamma_ftdc=mgamma_futTC(plazos_fwd[i],X1_fwtdc[1,i],X2_fwtdc[1,i],X3_ftdc[1,],kst_fwd[i],contratos_fwd[i],nominal_fwd)*WFRM  #paso clave\n",
        "   #print(WFRM)\n",
        "    tgamma_ftdc=xp_ftdc[seq(i,m*3,by=m)]%*%t(xp_ftdc[seq(i,m*3,by=m)])*gamma_ftdc #gamma tilde\n",
        "    Varmargcaux_ftdc=cov(DeltaX_ftdc[,seq(i,m*3,by=m)])*((n)/(n-1)) #matriz varcov factores de riesgo de cada contrato\n",
        "    tgammavar_ftdc=(tgamma_ftdc%*%Varmargcaux_ftdc)\n",
        "    tgammavar2_ftdc=(tgamma_ftdc%*%Varmargcaux_ftdc)%*%(tgamma_ftdc%*%Varmargcaux_ftdc)  \n",
        "    #mudg_ftdc=sum(diag(tgammavar_ftdc))/2+mu_ftdc[i]\n",
        "    mudg_ftdc=0\n",
        "    desv_ftdc=sqrt(sum(diag(tgammavar2_ftdc))/2+tdelta_ftdc%*%Varmargcaux_ftdc%*%t(tdelta_ftdc))\n",
        "\n",
        "    VaRmargc_fr_ftdc[j,i]=mudg_ftdc+desv_ftdc*qnorm(1-alpha) #VaR Normal por contrato\n",
        "    CVaRmargc_fr_ftdc[j,i]=-mudg_ftdc-desv_ftdc*(dnorm(qnorm(1-alpha))/(1-alpha))\n",
        "    \n",
        "    tgammavar3_ftdc=tgammavar2_ftdc%*%(tgamma_ftdc%*%Varmargcaux_ftdc)\n",
        "    asimPmargc_ftdc=sum(diag(tgammavar3_ftdc))+3*tdelta_ftdc%*%Varmargcaux_ftdc%*%tgamma_ftdc%*%Varmargcaux_ftdc%*%t(tdelta_ftdc) #tercer momento\n",
        "    asimPmargc_ftdc=asimPmargc_ftdc/(desv_ftdc)^3  #coef de asimetría\n",
        "    VaRmargcstd_fr_ftdc[j,i]=qnorm(1-alpha)+((qnorm(1-alpha)^2-1)/6)*asimPmargc_ftdc  #VaR estandarizado\n",
        "    VaRmargcCF_fr_ftdc[j,i]=mudg_ftdc+desv_ftdc*VaRmargcstd_fr_ftdc[j,i] \t    #VaR Cornish-Fisher\n",
        "    CVaRmargcCF_fr_ftdc[j,i]=-mudg_ftdc-desv_ftdc*(dnorm(VaRmargcstd_fr_ftdc[j,i])/(pnorm(VaRmargcstd_fr_ftdc[j,i])))\n",
        "  }\n",
        "\n",
        "\n",
        "\n",
        "}\n",
        "\n",
        "print(\"Valor a nivel contrato\")\n",
        "print(V0_fwtdc)\n",
        "print(\"VaR a nivel contrato\")\n",
        "print(VaRmargc_ftdc)\n",
        "print(\"VaR a nivel contrato CF\")\n",
        "print(VaRmargcCF_ftdc)\n",
        "print(\"CVaR a nivel contrato\")\n",
        "print(CVaRmargc_ftdc)\n",
        "print(\"CVaR a nivel contrato CF\")\n",
        "print(CVaRmargcCF_ftdc)\n",
        "\n",
        "\n",
        "print(\"VaR a nivel contrato\")\n",
        "print(VaRmargc_fr_ftdc)\n",
        "print(\"VaR a nivel contrato CF\")\n",
        "print(VaRmargcCF_fr_ftdc)\n",
        "print(\"CVaR a nivel contrato\")\n",
        "print(CVaRmargc_fr_ftdc)\n",
        "print(\"CVaR a nivel contrato CF\")\n",
        "print(CVaRmargcCF_fr_ftdc)"
      ],
      "execution_count": null,
      "outputs": [
        {
          "output_type": "stream",
          "name": "stdout",
          "text": [
            "[1] \"Valor a nivel contrato\"\n",
            "          [,1]\n",
            "[1,] -85.61414\n",
            "[1] \"VaR a nivel contrato\"\n",
            "          [,1]\n",
            "[1,] -23.85918\n",
            "[1] \"VaR a nivel contrato CF\"\n",
            "          [,1]\n",
            "[1,] -23.85918\n",
            "[1] \"CVaR a nivel contrato\"\n",
            "          [,1]\n",
            "[1,] -28.12459\n",
            "[1] \"CVaR a nivel contrato CF\"\n",
            "          [,1]\n",
            "[1,] -28.12459\n",
            "[1] \"VaR a nivel contrato\"\n",
            "              [,1]\n",
            "[1,] -23.858347703\n",
            "[2,]  -0.008996254\n",
            "[3,]  -0.039089948\n",
            "[1] \"VaR a nivel contrato CF\"\n",
            "              [,1]\n",
            "[1,] -23.858347703\n",
            "[2,]  -0.008996254\n",
            "[3,]  -0.039089971\n",
            "[1] \"CVaR a nivel contrato\"\n",
            "             [,1]\n",
            "[1,] -28.12361129\n",
            "[2,]  -0.01060455\n",
            "[3,]  -0.04607823\n",
            "[1] \"CVaR a nivel contrato CF\"\n",
            "             [,1]\n",
            "[1,] -28.12361129\n",
            "[2,]  -0.01060455\n",
            "[3,]  -0.04607825\n"
          ]
        }
      ]
    },
    {
      "cell_type": "markdown",
      "metadata": {
        "id": "2VXqKIAEtF5B"
      },
      "source": [
        "####Riesgo a Nivel Total y Total Factor de Riesgo"
      ]
    },
    {
      "cell_type": "code",
      "metadata": {
        "id": "1EqSwEYNtinP",
        "colab": {
          "base_uri": "https://localhost:8080/"
        },
        "outputId": "dec33b2a-1c8e-4599-99ff-36d4d87d5cb2"
      },
      "source": [
        "%%R\n",
        "\n",
        "\n",
        "#RIESGO TOTAL FORWARDS DE TIPO DE CAMBIO\n",
        "\n",
        "VarDeltaX_ftdc=cov(DeltaX_ftdc)*(n/(n-1))\n",
        "\n",
        "tgammavar_ftdc=(gamma_ftdctT2%*%VarDeltaX_ftdc)\n",
        "tgammavar2_ftdc=(tgammavar_ftdc)%*%(tgammavar_ftdc) \n",
        "mudg_ftdc=ifelse((sum(diag(tgammavar_ftdc))/2+sum(mu_ftdc))>0,0,(sum(diag(tgammavar_ftdc))/2+sum(mu_ftdc)))\n",
        "desv_ftdc=sqrt(sum(diag(tgammavar2_ftdc))/2+g_ftdctT%*%VarDeltaX_ftdc%*%t(g_ftdctT))\n",
        "\n",
        "VaRT_ftdc_DGM=(mudg_ftdc)+(desv_ftdc)*qnorm(1-alpha)  #VaR Normal\n",
        "CVaRT_ftdc_DGM=-(mudg_ftdc)-(desv_ftdc)*dnorm(qnorm(alpha))/(1-alpha)\n",
        "\n",
        "\n",
        "###VaR Cornish Fisher\n",
        "tgammavar3_ftdc=tgammavar2_ftdc%*%(tgammavar_ftdc)\n",
        "asimP_ftdc=sum(diag(tgammavar3_ftdc))+3*g_ftdctT%*%VarDeltaX_ftdc%*%gamma_ftdctT2%*%VarDeltaX_ftdc%*%t(g_ftdctT) #gamma tercer momento\n",
        "asimP_ftdc=asimP_ftdc/(desv_ftdc)^3  #coef de asimetría\n",
        "VaRstd_ftdc=qnorm(1-alpha)+((qnorm(1-alpha)^2-1)/6)*asimP_ftdc  #VaR estandarizado\n",
        "VaRT_ftdc_DGM_CF=(mudg_ftdc)+(desv_ftdc)*VaRstd_ftdc #VaR cf\n",
        "CVaRT_ftdc_DGM_CF=-(mudg_ftdc)-(desv_ftdc)*dnorm(VaRstd_ftdc)/(pnorm(VaRstd_ftdc))\n",
        "\n",
        "\n",
        "\n",
        "VaRT_fr_ftdc_DGM=matrix(0,1,3)\n",
        "CVaRT_fr_ftdc_DGM=matrix(0,1,3)\n",
        "VaRT_fr_ftdc_DGM_CF=matrix(0,1,3)\n",
        "CVaRT_fr_ftdc_DGM_CF=matrix(0,1,3)\n",
        "\n",
        "WFRT=matrix(0,3,(m*3))\n",
        "\n",
        "\n",
        "#RIESGO TOTAL POR FACTOR DE RIESGO DE FORWARDS DE TIPO DE CAMBIO\n",
        "\n",
        "for (j in (1:3))\n",
        "{\n",
        "WFRT[j,((j-1)*m+1):(j*m)]=matrix(1,1,m)    #Matriz de diseño para \n",
        "WFRM=matrix(0,(m*3),(m*3))  #PASO CLAVE\n",
        "WFRM[((j-1)*m+1):(m*j),((j-1)*m+1):(m*j)]=matrix(1,m,m)  #PASO CLAVE    \n",
        "gamma_ftdctT2_fr=gamma_ftdctT2*WFRM #evaluación de gamma multiplicado por x^{2}\n",
        "g_ftdctT_fr=g_ftdctT*WFRT[j,]\n",
        "# print(WFRM)\n",
        "# print(g_ftdctT_fr)\n",
        "# print(gamma_ftdctT2_fr)\n",
        "# print(WFRT)\n",
        "tgammavar_ftdc=(gamma_ftdctT2_fr%*%VarDeltaX_ftdc)\n",
        "tgammavar2_ftdc=(tgammavar_ftdc)%*%(tgammavar_ftdc) \n",
        "#mudg_ftdc=sum(diag(tgammavar_ftdc))/2+sum(mu_ftdc)\n",
        "mudg_ftdc=0\n",
        "desv_ftdc=sqrt(sum(diag(tgammavar2_ftdc))/2+g_ftdctT_fr%*%VarDeltaX_ftdc%*%t(g_ftdctT_fr))\n",
        "VaRT_fr_ftdc_DGM[j]=(mudg_ftdc)+(desv_ftdc)*qnorm(1-alpha) #VaR Normal\n",
        "CVaRT_fr_ftdc_DGM[j]=-(mudg_ftdc)-(desv_ftdc)*dnorm(qnorm(alpha))/(1-alpha)\n",
        "\n",
        "\n",
        "###VaR Cornish Fisher\n",
        "tgammavar3_ftdc=tgammavar2_ftdc%*%(tgammavar_ftdc)\n",
        "asimP_ftdc=sum(diag(tgammavar3_ftdc))+3*g_ftdctT_fr%*%VarDeltaX_ftdc%*%gamma_ftdctT2_fr%*%VarDeltaX_ftdc%*%t(g_ftdctT_fr) #gamma tercer momento\n",
        " #print(asimP_ftdc)\n",
        "asimP_ftdc=asimP_ftdc/(desv_ftdc)^3  #coef de asimetría\n",
        " \n",
        "VaRstd_ftdc=qnorm(1-alpha)+((qnorm(1-alpha)^2-1)/6)*asimP_ftdc  #VaR estandarizado\n",
        "#print(VaRstd_ftdc)\n",
        "VaRT_fr_ftdc_DGM_CF[j]=(mudg_ftdc)+(desv_ftdc)*VaRstd_ftdc #VaR cf\n",
        "CVaRT_fr_ftdc_DGM_CF[j]=-(mudg_ftdc)-(desv_ftdc)*dnorm(VaRstd_ftdc)/(pnorm(VaRstd_ftdc))\n",
        "\n",
        "\n",
        "}\n",
        "print(\"VaR Total Delta Gamma Normal\")\n",
        "print(VaRT_ftdc_DGM)\n",
        "print(\"CVaR Total Delta Gamma Normal\")\n",
        "print(CVaRT_ftdc_DGM)\n",
        "print(\"VaR Total Delta Gamma Normal CF\")\n",
        "print(VaRT_ftdc_DGM_CF)\n",
        "print(\"CVaR Total Delta Gamma Normal CF\")\n",
        "print(CVaRT_ftdc_DGM_CF)\n",
        "\n",
        "print(\"VaR Total Delta Gamma Normal por factor de riesgo\")\n",
        "print(VaRT_fr_ftdc_DGM)\n",
        "print(\"CVaR Total Delta Gamma Normal por factor de riesgo\")\n",
        "print(CVaRT_fr_ftdc_DGM)\n",
        "print(\"VaR Total Delta Gamma Normal CF por factor de riesgo\")\n",
        "print(VaRT_fr_ftdc_DGM_CF)\n",
        "print(\"CVaR Total Delta Gamma Normal CF por factor de riesgo\")\n",
        "print(CVaRT_fr_ftdc_DGM_CF)"
      ],
      "execution_count": null,
      "outputs": [
        {
          "output_type": "stream",
          "name": "stdout",
          "text": [
            "[1] \"VaR Total Delta Gamma Normal\"\n",
            "          [,1]\n",
            "[1,] -23.85918\n",
            "[1] \"CVaR Total Delta Gamma Normal\"\n",
            "          [,1]\n",
            "[1,] -28.12459\n",
            "[1] \"VaR Total Delta Gamma Normal CF\"\n",
            "          [,1]\n",
            "[1,] -23.85918\n",
            "[1] \"CVaR Total Delta Gamma Normal CF\"\n",
            "          [,1]\n",
            "[1,] -28.12459\n",
            "[1] \"VaR Total Delta Gamma Normal por factor de riesgo\"\n",
            "          [,1]         [,2]        [,3]\n",
            "[1,] -23.85835 -0.008996254 -0.03908995\n",
            "[1] \"CVaR Total Delta Gamma Normal por factor de riesgo\"\n",
            "          [,1]        [,2]        [,3]\n",
            "[1,] -28.12361 -0.01060455 -0.04607823\n",
            "[1] \"VaR Total Delta Gamma Normal CF por factor de riesgo\"\n",
            "          [,1]         [,2]        [,3]\n",
            "[1,] -23.85835 -0.008996254 -0.03908997\n",
            "[1] \"CVaR Total Delta Gamma Normal CF por factor de riesgo\"\n",
            "          [,1]        [,2]        [,3]\n",
            "[1,] -28.12361 -0.01060455 -0.04607825\n"
          ]
        }
      ]
    },
    {
      "cell_type": "markdown",
      "metadata": {
        "id": "jDVqGmkSuPKK"
      },
      "source": [
        "###Forwards IPC"
      ]
    },
    {
      "cell_type": "markdown",
      "metadata": {
        "id": "LOqZ8711uZ02"
      },
      "source": [
        "####Riesgo a nivel contrato y nivel contrato-factor de riesgo"
      ]
    },
    {
      "cell_type": "code",
      "metadata": {
        "id": "RnAm3ORFuoAl",
        "colab": {
          "base_uri": "https://localhost:8080/"
        },
        "outputId": "38c88279-d489-4ea6-a328-e58757a73bb8"
      },
      "source": [
        "%%R\n",
        "\n",
        "DeltaX_find=DeltaX_port[,(sum(n_if[1:5],1)):(sum(n_if[1:6]))] \n",
        "m=ncol(plazos_fwd_ind)\n",
        "m_find=ncol(plazos_fwd_ind)\n",
        "VaRmargc_find=matrix(0,1,m) #Var por contrato Delta Normal\n",
        "VaRmargcstd_find=matrix(0,1,m) #Var por contrato estandarizado \n",
        "VaRmargcCF_find=matrix(0,1,m) #Var por contrato Cornish-Fisher\n",
        "CVaRmargc_find=matrix(0,1,m) #CVar por contrato estandarizado\n",
        "CVaRmargcCF_find=matrix(0,1,m) #CVar por contrato estandarizado\n",
        "\n",
        "##factores riesgo\n",
        "#Spot\n",
        "VaRmargc_fr_find=matrix(0,3,m) #Var por contrato Delta Normal\n",
        "VaRmargcstd_fr_find=matrix(0,3,m) #Var por contrato estandarizado \n",
        "VaRmargcCF_fr_find=matrix(0,3,m) #Var por contrato Cornish-Fisher\n",
        "CVaRmargc_fr_find=matrix(0,3,m) #CVar por contrato estandarizado\n",
        "CVaRmargcCF_fr_find=matrix(0,3,m) #CVar por contrato estandarizado\n",
        "WFR=diagv(c(1,1,1))\n",
        "\n",
        "\n",
        "for (i in 1:(m))\n",
        "{\n",
        "  delta_find=t(g_find[seq(i,m*3,by=m)]) \n",
        "  tdelta_find=t(g_find[seq(i,m*3,by=m)])*xp_find[seq(i,m*3,by=m)]   #delta tilde\n",
        "  gamma_find=mgamma_futTC(plazos_fwd_ind[i],X1_fwind[1,i],X2_fwind[1,i],X3_find[1,],kst_fwd_ind[i],contratos_fwd_ind[i],nominal_fwd_ind)  #paso clave\n",
        "  tgamma_find=xp_find[seq(i,m*3,by=m)]%*%t(xp_find[seq(i,m*3,by=m)])*gamma_find #gamma tilde\n",
        "  Varmargcaux_find=cov(DeltaX_find[,seq(i,m*3,by=m)])*((n)/(n-1)) #matriz varcov factores de riesgo de cada contrato\n",
        "  tgammavar_find=(tgamma_find%*%Varmargcaux_find)\n",
        "  tgammavar2_find=(tgamma_find%*%Varmargcaux_find)%*%(tgamma_find%*%Varmargcaux_find)  \n",
        "  mudg_find=ifelse((sum(diag(tgammavar_find))/2+mu_find[i])>0,0,(sum(diag(tgammavar_find))/2+mu_find[i]))\n",
        "  #mudg_find=0\n",
        "  desv_find=sqrt(sum(diag(tgammavar2_find))/2+tdelta_find%*%Varmargcaux_find%*%t(tdelta_find))\n",
        "\n",
        "  VaRmargc_find[i]=mudg_find+desv_find*qnorm(1-alpha) #VaR Normal por contrato\n",
        "  CVaRmargc_find[i]=-mudg_find-desv_find*(dnorm(qnorm(1-alpha))/(1-alpha))\n",
        "  \n",
        "  tgammavar3_find=tgammavar2_find%*%(tgamma_find%*%Varmargcaux_find)\n",
        "  asimPmargc_find=sum(diag(tgammavar3_find))+3*tdelta_find%*%Varmargcaux_find%*%tgamma_find%*%Varmargcaux_find%*%t(tdelta_find) #tercer momento\n",
        "  asimPmargc_find=asimPmargc_find/(desv_find)^3  #coef de asimetría\n",
        "  VaRmargcstd_find[i]=qnorm(1-alpha)+((qnorm(1-alpha)^2-1)/6)*asimPmargc_find  #VaR estandarizado\n",
        "  VaRmargcCF_find[i]=mudg_find+desv_find*VaRmargcstd_find[i] \t    #VaR Cornish-Fisher\n",
        "  CVaRmargcCF_find[i]=-mudg_find-desv_find*(dnorm(VaRmargcstd_find[i])/(pnorm(VaRmargcstd_find[i])))\n",
        "\n",
        "#Por factor de riesgo y por contrato\n",
        "\n",
        "  for (j in 1:3)\n",
        "  {\n",
        "    WFRM=matrix(0,3,3)  #PASO CLAVE\n",
        "    WFRM[j,j]=1  #PASO CLAVE\n",
        "    delta_find=t(g_find[seq(i,m*3,by=m)])*WFR[j,] #PASO CLAVE\n",
        "    tdelta_find=t(g_find[seq(i,m*3,by=m)])*xp_find[seq(i,m*3,by=m)]*WFR[j,]   #delta tilde #PASO CLAVE\n",
        "  \tgamma_find=mgamma_futTC(plazos_fwd_ind[i],X1_fwind[1,i],X2_fwind[1,i],X3_find[1,],kst_fwd_ind[i],contratos_fwd_ind[i],nominal_fwd_ind)  #paso clave\n",
        "    tgamma_find=xp_find[seq(i,m*3,by=m)]%*%t(xp_find[seq(i,m*3,by=m)])*gamma_find #gamma tilde\n",
        "    Varmargcaux_find=cov(DeltaX_find[,seq(i,m*3,by=m)])*((n)/(n-1)) #matriz varcov factores de riesgo de cada contrato\n",
        "    tgammavar_find=(tgamma_find%*%Varmargcaux_find)\n",
        "    tgammavar2_find=(tgamma_find%*%Varmargcaux_find)%*%(tgamma_find%*%Varmargcaux_find)  \n",
        "    #mudg_find=sum(diag(tgammavar_find))/2+mu_find[i]\n",
        "   mudg_find=0\n",
        "    desv_find=sqrt(sum(diag(tgammavar2_find))/2+tdelta_find%*%Varmargcaux_find%*%t(tdelta_find))\n",
        "\n",
        "    VaRmargc_fr_find[j,i]=mudg_find+desv_find*qnorm(1-alpha) #VaR Normal por contrato\n",
        "    CVaRmargc_fr_find[j,i]=-mudg_find-desv_find*(dnorm(qnorm(1-alpha))/(1-alpha))\n",
        "    \n",
        "    tgammavar3_find=tgammavar2_find%*%(tgamma_find%*%Varmargcaux_find)\n",
        "    asimPmargc_find=sum(diag(tgammavar3_find))+3*tdelta_find%*%Varmargcaux_find%*%tgamma_find%*%Varmargcaux_find%*%t(tdelta_find) #tercer momento\n",
        "    asimPmargc_find=asimPmargc_find/(desv_find)^3  #coef de asimetría\n",
        "    VaRmargcstd_fr_find[j,i]=qnorm(1-alpha)+((qnorm(1-alpha)^2-1)/6)*asimPmargc_find  #VaR estandarizado\n",
        "    VaRmargcCF_fr_find[j,i]=mudg_find+desv_find*VaRmargcstd_fr_find[j,i] \t    #VaR Cornish-Fisher\n",
        "    CVaRmargcCF_fr_find[j,i]=-mudg_find-desv_find*(dnorm(VaRmargcstd_fr_find[j,i])/(pnorm(VaRmargcstd_fr_find[j,i])))\n",
        "  }\n",
        "\n",
        "\n",
        "\n",
        "}\n",
        "\n",
        "\n",
        "print(\"Valor a nivel contrato\")\n",
        "print(V0_fwind)\n",
        "print(\"VaR a nivel contrato\")\n",
        "print(VaRmargc_find)\n",
        "print(\"VaR a nivel contrato CF\")\n",
        "print(VaRmargcCF_find)\n",
        "print(\"CVaR a nivel contrato\")\n",
        "print(CVaRmargc_find)\n",
        "print(\"CVaR a nivel contrato CF\")\n",
        "print(CVaRmargcCF_find)\n",
        "\n",
        "\n",
        "print(\"VaR a nivel contrato\")\n",
        "print(VaRmargc_fr_find)\n",
        "print(\"VaR a nivel contrato CF\")\n",
        "print(VaRmargcCF_fr_find)\n",
        "print(\"CVaR a nivel contrato\")\n",
        "print(CVaRmargc_fr_find)\n",
        "print(\"CVaR a nivel contrato CF\")\n",
        "print(CVaRmargcCF_fr_find)"
      ],
      "execution_count": null,
      "outputs": [
        {
          "output_type": "stream",
          "name": "stdout",
          "text": [
            "[1] \"Valor a nivel contrato\"\n",
            "         [,1]\n",
            "[1,] 342308.9\n",
            "[1] \"VaR a nivel contrato\"\n",
            "          [,1]\n",
            "[1,] -51116.04\n",
            "[1] \"VaR a nivel contrato CF\"\n",
            "          [,1]\n",
            "[1,] -51116.04\n",
            "[1] \"CVaR a nivel contrato\"\n",
            "          [,1]\n",
            "[1,] -60110.45\n",
            "[1] \"CVaR a nivel contrato CF\"\n",
            "          [,1]\n",
            "[1,] -60110.45\n",
            "[1] \"VaR a nivel contrato\"\n",
            "              [,1]\n",
            "[1,] -5.101370e+04\n",
            "[2,] -9.430151e-03\n",
            "[3,] -4.897291e+02\n",
            "[1] \"VaR a nivel contrato CF\"\n",
            "              [,1]\n",
            "[1,] -5.101370e+04\n",
            "[2,] -2.464920e-03\n",
            "[3,] -4.897187e+02\n",
            "[1] \"CVaR a nivel contrato\"\n",
            "              [,1]\n",
            "[1,] -6.013364e+04\n",
            "[2,] -1.111602e-02\n",
            "[3,] -5.772802e+02\n",
            "[1] \"CVaR a nivel contrato CF\"\n",
            "              [,1]\n",
            "[1,] -6.013364e+04\n",
            "[2,] -5.363649e-03\n",
            "[3,] -5.772709e+02\n"
          ]
        }
      ]
    },
    {
      "cell_type": "markdown",
      "metadata": {
        "id": "KiDxf5KUuZgS"
      },
      "source": [
        "####Riesgo a nivel total y total factor de riesgo"
      ]
    },
    {
      "cell_type": "code",
      "metadata": {
        "id": "t55IEIYKuz2n",
        "colab": {
          "base_uri": "https://localhost:8080/"
        },
        "outputId": "5e1f0c10-2315-4a73-9817-7dab49f4e1ee"
      },
      "source": [
        "%%R\n",
        "\n",
        "\n",
        "#RIESGO TOTAL FORWARDS DE TIPO DE CAMBIO\n",
        "\n",
        "VarDeltaX_find=cov(DeltaX_find)*(n/(n-1))\n",
        "\n",
        "tgammavar_find=(gamma_findtT2%*%VarDeltaX_find)\n",
        "tgammavar2_find=(tgammavar_find)%*%(tgammavar_find) \n",
        "#media\n",
        "mudg_find=ifelse((sum(diag(tgammavar_find))/2+sum(mu_find))>0,0,(sum(diag(tgammavar_find))/2+mu_find[i]))\n",
        "#desviación estándar\n",
        "desv_find=sqrt(sum(diag(tgammavar2_find))/2+g_findtT%*%VarDeltaX_find%*%t(g_findtT))\n",
        "\n",
        "VaRT_find_DGM=(mudg_find)+(desv_find)*qnorm(1-alpha)  #VaR Normal\n",
        "CVaRT_find_DGM=-(mudg_find)-(desv_find)*dnorm(qnorm(alpha))/(1-alpha)\n",
        "\n",
        "\n",
        "###VaR Cornish Fisher\n",
        "tgammavar3_find=tgammavar2_find%*%(tgammavar_find)\n",
        "asimP_find=sum(diag(tgammavar3_find))+3*g_findtT%*%VarDeltaX_find%*%gamma_findtT2%*%VarDeltaX_find%*%t(g_findtT) #gamma tercer momento\n",
        "asimP_find=asimP_find/(desv_find)^3  #coef de asimetría\n",
        "VaRstd_find=qnorm(1-alpha)+((qnorm(1-alpha)^2-1)/6)*asimP_find  #VaR estandarizado\n",
        "VaRT_find_DGM_CF=(mudg_find)+(desv_find)*VaRstd_find #VaR cf\n",
        "CVaRT_find_DGM_CF=-(mudg_find)-(desv_find)*dnorm(VaRstd_find)/(pnorm(VaRstd_find))\n",
        "\n",
        "\n",
        "\n",
        "VaRT_fr_find_DGM=matrix(0,1,3)\n",
        "CVaRT_fr_find_DGM=matrix(0,1,3)\n",
        "VaRT_fr_find_DGM_CF=matrix(0,1,3)\n",
        "CVaRT_fr_find_DGM_CF=matrix(0,1,3)\n",
        "\n",
        "WFRT=matrix(0,3,(m*3))\n",
        "\n",
        "#RIESGO TOTAL POR FACTOR DE RIESGO DE FORWARDS DE TIPO DE CAMBIO\n",
        "\n",
        "for (j in (1:3))\n",
        "{\n",
        "WFRT[j,((j-1)*m+1):(j*m)]=matrix(1,1,m)    #Matriz de diseño para \n",
        "WFRM=matrix(0,(m*3),(m*3))  #PASO CLAVE\n",
        "WFRM[((j-1)*m+1):(m*j),((j-1)*m+1):(m*j)]=matrix(1,m,m)  #PASO CLAVE    \n",
        "gamma_findtT2_fr=gamma_findtT2*WFRM #evaluación de gamma multiplicado por x^{2}\n",
        "g_findtT_fr=g_findtT*WFRT[j,]\n",
        "tgammavar_find=(gamma_findtT2_fr%*%VarDeltaX_find)\n",
        "tgammavar2_find=(tgammavar_find)%*%(tgammavar_find) \n",
        "#mudg_find=sum(diag(tgammavar_find))/2+sum(mu_find)\n",
        "mudg_find=0\n",
        "desv_find=sqrt(sum(diag(tgammavar2_find))/2+g_findtT_fr%*%VarDeltaX_find%*%t(g_findtT_fr))\n",
        "VaRT_fr_find_DGM[j]=(mudg_find)+(desv_find)*qnorm(1-alpha) #VaR Normal\n",
        "CVaRT_fr_find_DGM[j]=-(mudg_find)-(desv_find)*dnorm(qnorm(alpha))/(1-alpha)\n",
        "\n",
        "\n",
        "###VaR Cornish Fisher\n",
        "tgammavar3_find=tgammavar2_find%*%(tgammavar_find)\n",
        "asimP_find=sum(diag(tgammavar3_find))+3*g_findtT_fr%*%VarDeltaX_find%*%gamma_findtT2_fr%*%VarDeltaX_find%*%t(g_findtT_fr) #gamma tercer momento\n",
        "asimP_find=asimP_find/(desv_find)^3  #coef de asimetría\n",
        " \n",
        "VaRstd_find=qnorm(1-alpha)+((qnorm(1-alpha)^2-1)/6)*asimP_find  #VaR estandarizado\n",
        "VaRT_fr_find_DGM_CF[j]=(mudg_find)+(desv_find)*VaRstd_find #VaR cf\n",
        "CVaRT_fr_find_DGM_CF[j]=-(mudg_find)-(desv_find)*dnorm(VaRstd_find)/(pnorm(VaRstd_find))\n",
        "    \n",
        "}\n",
        "print(\"VaR Total Delta Gamma Normal\")\n",
        "print(VaRT_find_DGM)\n",
        "print(\"CVaR Total Delta Gamma Normal\")\n",
        "print(CVaRT_find_DGM)\n",
        "print(\"VaR Total Delta Gamma Normal CF\")\n",
        "print(VaRT_find_DGM_CF)\n",
        "print(\"CVaR Total Delta Gamma Normal CF\")\n",
        "print(CVaRT_find_DGM_CF)\n",
        "\n",
        "print(\"VaR Total Delta Gamma Normal por factor de riesgo\")\n",
        "print(VaRT_fr_find_DGM)\n",
        "print(\"CVaR Total Delta Gamma Normal por factor de riesgo\")\n",
        "print(CVaRT_fr_find_DGM)\n",
        "print(\"VaR Total Delta Gamma Normal CF por factor de riesgo\")\n",
        "print(VaRT_fr_find_DGM_CF)\n",
        "print(\"CVaR Total Delta Gamma Normal CF por factor de riesgo\")\n",
        "print(CVaRT_fr_find_DGM_CF)\n"
      ],
      "execution_count": null,
      "outputs": [
        {
          "output_type": "stream",
          "name": "stdout",
          "text": [
            "[1] \"VaR Total Delta Gamma Normal\"\n",
            "          [,1]\n",
            "[1,] -51116.04\n",
            "[1] \"CVaR Total Delta Gamma Normal\"\n",
            "          [,1]\n",
            "[1,] -60110.45\n",
            "[1] \"VaR Total Delta Gamma Normal CF\"\n",
            "          [,1]\n",
            "[1,] -51116.04\n",
            "[1] \"CVaR Total Delta Gamma Normal CF\"\n",
            "          [,1]\n",
            "[1,] -60110.45\n",
            "[1] \"VaR Total Delta Gamma Normal por factor de riesgo\"\n",
            "         [,1] [,2]      [,3]\n",
            "[1,] -51013.7    0 -489.7291\n",
            "[1] \"CVaR Total Delta Gamma Normal por factor de riesgo\"\n",
            "          [,1] [,2]      [,3]\n",
            "[1,] -60133.64    0 -577.2802\n",
            "[1] \"VaR Total Delta Gamma Normal CF por factor de riesgo\"\n",
            "         [,1] [,2]      [,3]\n",
            "[1,] -51013.7  NaN -489.7187\n",
            "[1] \"CVaR Total Delta Gamma Normal CF por factor de riesgo\"\n",
            "          [,1] [,2]      [,3]\n",
            "[1,] -60133.64  NaN -577.2709\n"
          ]
        }
      ]
    },
    {
      "cell_type": "markdown",
      "metadata": {
        "id": "vZr6Jlxvc6AG"
      },
      "source": [
        "####Total futuros"
      ]
    },
    {
      "cell_type": "code",
      "metadata": {
        "colab": {
          "base_uri": "https://localhost:8080/"
        },
        "id": "XoSBP0mcc12v",
        "outputId": "2235eeba-97e9-426d-936d-ba971c511bae"
      },
      "source": [
        "%%R\n",
        "\n",
        "#Cálculo de matriz de varianza covarianza de todos los factores de riesgo del PORTAFOLIO\n",
        "DeltaX_fwdT = cbind(DeltaX_find,DeltaX_ftdc)\n",
        "VarDeltaX_fwdT=as.matrix(cov(DeltaX_fwdT)*(n-1)/(n-2))\n",
        "\n",
        "\n",
        "mu_fwdT=as.matrix(cbind(mu_ftdc,mu_find)) #derivada con respecto al tiempo\n",
        "#INTEGRACIÓN DE PRIMERAS DERIVADAS (GRADIENTE)\n",
        "gt_fwdT=as.matrix(cbind(g_ftdctT,g_findtT)) #derivada con respecto las X's\n",
        "\n",
        "#validar que ncol(X_port)=ncol(gt_port)\n",
        "\n",
        "\n",
        "#INTEGRACIÓN DE MATRIZ HESSIANA\n",
        "\n",
        "gammat_fwdT=matrix(0,6,6)\n",
        "\n",
        "gammat_fwdT[1:3,1:3]=gamma_ftdctT2\n",
        "gammat_fwdT[4:6,4:6]=gamma_findtT2\n",
        "\n",
        "\n",
        "\n",
        "\n",
        "#CÁLCULO DE VAR Y CVAR A NIVEL PORTAFOLIO\n",
        "tgammavar_fwdT=(gammat_fwdT%*%VarDeltaX_fwdT)\n",
        "tgammavar2_fwdT=(tgammavar_fwdT)%*%(tgammavar_fwdT) \n",
        "mu_fwdTT=ifelse((sum(diag(tgammavar_fwdT))/2+sum(mu_fwdT))>0,0,(sum(diag(tgammavar_fwdT))/2+sum(mu_fwdT)))\n",
        "desv_fwdTT=(sqrt(sum(diag(tgammavar2_fwdT))/2+gt_fwdT%*%VarDeltaX_fwdT%*%t(gt_fwdT)))\n",
        "VaRT_fwdT_DGM=mu_fwdTT+desv_fwdTT*qnorm(1-alpha) #VaR Normal\n",
        "CVaRT_fwdT_DGM=mu_fwdTT-desv_fwdTT*dnorm(qnorm(alpha))/(1-alpha)\n",
        "\n",
        "\n",
        "###VaR Cornish Fisher\n",
        "tgammavar3_fwdT=tgammavar2_fwdT%*%(tgammavar_fwdT)\n",
        "asimP_fwdT=sum(diag(tgammavar3_fwdT))+3*gt_fwdT%*%VarDeltaX_fwdT%*%gammat_fwdT%*%VarDeltaX_fwdT%*%t(gt_fwdT) #gamma tercer momento\n",
        "asimP_fwdT=asimP_fwdT/(sqrt(sum(diag(tgammavar2_fwdT))/2+gt_fwdT%*%VarDeltaX_fwdT%*%t(gt_fwdT)))^3  #coef de asimetría\n",
        "VaRstd_fwdT=qnorm(1-alpha)+((qnorm(1-alpha)^2-1)/6)*asimP_fwdT  #VaR estandarizado\n",
        "VaRT_fwdT_DGM_CF=mu_fwdTT+desv_fwdTT*VaRstd_fwdT #VaR cf\n",
        "CVaRT_fwdT_DGM_CF=mu_fwdTT-desv_fwdTT*dnorm(VaRstd_fwdT)/(pnorm(VaRstd_fwdT))\n",
        "\n",
        "\n",
        "print(\"VaR forwards Total Delta Gamma Normal\")\n",
        "print(VaRT_fwdT_DGM)\n",
        "print(\"CVaR forwards Total Delta Gamma Normal\")\n",
        "print(CVaRT_fwdT_DGM)\n",
        "print(\"VaR forwards Total Delta Gamma CF\")\n",
        "print(VaRT_fwdT_DGM_CF)\n",
        "print(\"CVaR forwards Total Delta Gamma CF\")\n",
        "print(CVaRT_fwdT_DGM_CF)"
      ],
      "execution_count": null,
      "outputs": [
        {
          "output_type": "stream",
          "name": "stdout",
          "text": [
            "[1] \"VaR forwards Total Delta Gamma Normal\"\n",
            "          [,1]\n",
            "[1,] -33442.04\n",
            "[1] \"CVaR forwards Total Delta Gamma Normal\"\n",
            "          [,1]\n",
            "[1,] -39408.82\n",
            "[1] \"VaR forwards Total Delta Gamma CF\"\n",
            "          [,1]\n",
            "[1,] -33442.04\n",
            "[1] \"CVaR forwards Total Delta Gamma CF\"\n",
            "          [,1]\n",
            "[1,] -39408.82\n"
          ]
        }
      ]
    },
    {
      "cell_type": "markdown",
      "metadata": {
        "id": "WCLi9tbT07KC"
      },
      "source": [
        "### Swaps"
      ]
    },
    {
      "cell_type": "markdown",
      "metadata": {
        "id": "kOgMzOlWKVPc"
      },
      "source": [
        "#### Contrato y contrato factor de riesgo"
      ]
    },
    {
      "cell_type": "code",
      "metadata": {
        "id": "oqSoNWttKemL",
        "colab": {
          "base_uri": "https://localhost:8080/"
        },
        "outputId": "95034f0e-7c5f-49ae-8407-589de130d671"
      },
      "source": [
        "%%R\n",
        "\n",
        "DeltaX_sw=DeltaX_port[,(sum(n_if[1:6],1)):(sum(n_if[1:7]))] \n",
        "m=ncol(plazos_sw)\n",
        "m_sw=ncol(plazos_sw)\n",
        "VaRmargc_sw=matrix(0,1,m) #Var por contrato Delta Normal\n",
        "VaRmargcstd_sw=matrix(0,1,m) #Var por contrato estandarizado \n",
        "VaRmargcCF_sw=matrix(0,1,m) #Var por contrato Cornish-Fisher\n",
        "CVaRmargc_sw=matrix(0,1,m) #CVar por contrato estandarizado\n",
        "CVaRmargcCF_sw=matrix(0,1,m) #CVar por contrato estandarizado\n",
        "\n",
        "##factores riesgo\n",
        "#tasa cupón y tasa de valor presente\n",
        "VaRmargc_fr_sw=matrix(0,2,m) #Var por contrato Delta Normal\n",
        "VaRmargcstd_fr_sw=matrix(0,2,m) #Var por contrato estandarizado \n",
        "VaRmargcCF_fr_sw=matrix(0,2,m) #Var por contrato Cornish-Fisher\n",
        "CVaRmargc_fr_sw=matrix(0,2,m) #CVar por contrato estandarizado\n",
        "CVaRmargcCF_fr_sw=matrix(0,2,m) #CVar por contrato estandarizado\n",
        "\n",
        "WMC=matrix(0,m,sum(N)) #variable auxiliar para construir los dummys de flujos por contrato\n",
        "Nsw=c(0,cumsum(N)) #variable auxiliar para construir los dummys de flujos por contrato\n",
        "\n",
        "\n",
        "for (i in 1:(m))\n",
        "{\n",
        "  WMC[i,(Nsw[i]+1):Nsw[i+1]]=seq(1,1) #marginalización exclusiva por los flujos del swap i\n",
        "  dummy_sw=c(WMC[i,],WMC[i,]) #marginalización exclusiva por los flujos del swap i (para las dos curvas)\n",
        "  tdelta_sw=gt_sw*dummy_sw   #delta tilde\n",
        "  tgamma_sw=dummy_sw%*%t(dummy_sw)*tgamma_sw #gamma tilde\n",
        "  Varmargcaux_sw=cov(DeltaX_sw)*((n)/(n-1)) #matriz varcov factores de riesgo de cada contrato\n",
        "  tgammavar_sw=(tgamma_sw%*%Varmargcaux_sw)\n",
        "  tgammavar2_sw=(tgamma_sw%*%Varmargcaux_sw)%*%(tgamma_sw%*%Varmargcaux_sw)  \n",
        "  mudg_sw=ifelse((sum(diag(tgammavar_sw))/2+sum(mu_sw*WMC[i,]))>0,0,(sum(diag(tgammavar_sw))/2+sum(mu_sw*WMC[i,])))\n",
        "  #mudg_sw=0\n",
        "  desv_sw=sqrt(sum(diag(tgammavar2_sw))/2+tdelta_sw%*%Varmargcaux_sw%*%t(tdelta_sw))\n",
        "\n",
        "  VaRmargc_sw[i]=mudg_sw+desv_sw*qnorm(1-alpha) #VaR Normal por contrato\n",
        "  CVaRmargc_sw[i]=-mudg_sw-desv_sw*(dnorm(qnorm(1-alpha))/(1-alpha))\n",
        "  \n",
        "  tgammavar3_sw=tgammavar2_sw%*%(tgamma_sw%*%Varmargcaux_sw)\n",
        "  asimPmargc_sw=sum(diag(tgammavar3_sw))+3*tdelta_sw%*%Varmargcaux_sw%*%tgamma_sw%*%Varmargcaux_sw%*%t(tdelta_sw) #tercer momento\n",
        "  asimPmargc_sw=asimPmargc_sw/(desv_sw)^3  #coef de asimetría\n",
        "  VaRmargcstd_sw[i]=qnorm(1-alpha)+((qnorm(1-alpha)^2-1)/6)*asimPmargc_sw  #VaR estandarizado\n",
        "  VaRmargcCF_sw[i]=mudg_sw+desv_sw*VaRmargcstd_sw[i] \t    #VaR Cornish-Fisher\n",
        "  CVaRmargcCF_sw[i]=-mudg_sw-desv_sw*(dnorm(VaRmargcstd_sw[i])/(pnorm(VaRmargcstd_sw[i])))\n",
        "\n",
        "#Por factor de riesgo y por contrato\n",
        "\n",
        "  for (j in 1:2)\n",
        "  {\n",
        "    WFRMdum=matrix(0,2,sum(N)*2)  #PASO CLAVE\n",
        "    WFRMdum[1,1:(sum(N))]=1  #PASO CLAVE\n",
        "    WFRMdum[2,(sum(N)+1):(sum(N)*2)]=1  #PASO CLAVE\n",
        "    WFRM=WFRMdum\n",
        "    tdelta_fr_sw=tdelta_sw*WFRM[j,]   #delta tilde #PASO CLAVE\n",
        "    tgamma_fr_sw=tgamma_sw*WFRM[j,]%*%t(WFRM[j,]) #gamma tilde\n",
        "    Varmargcaux_fr_sw=Varmargcaux_sw*WFRM[j,]%*%t(WFRM[j,]) #matriz varcov factores de riesgo de cada contrato\n",
        "    tgammavar_sw=(tgamma_fr_sw%*%Varmargcaux_fr_sw)\n",
        "    tgammavar2_sw=(tgamma_fr_sw%*%Varmargcaux_fr_sw)%*%(tgamma_fr_sw%*%Varmargcaux_fr_sw)  \n",
        "    #mudg_sw=sum(diag(tgammavar_sw))/2+mu_sw[i]\n",
        "    mudg_sw=0\n",
        "    desv_sw=sqrt(sum(diag(tgammavar2_sw))/2+tdelta_fr_sw%*%Varmargcaux_fr_sw%*%t(tdelta_sw))\n",
        "\n",
        "    VaRmargc_fr_sw[j,i]=mudg_sw+desv_sw*qnorm(1-alpha) #VaR Normal por contrato\n",
        "    CVaRmargc_fr_sw[j,i]=-mudg_sw-desv_sw*(dnorm(qnorm(1-alpha))/(1-alpha))\n",
        "    \n",
        "    tgammavar3_sw=tgammavar2_sw%*%(tgamma_fr_sw%*%Varmargcaux_fr_sw)\n",
        "    asimPmargc_sw=sum(diag(tgammavar3_sw))+3*tdelta_fr_sw%*%Varmargcaux_fr_sw%*%tgamma_fr_sw%*%Varmargcaux_fr_sw%*%t(tdelta_fr_sw) #tercer momento\n",
        "    asimPmargc_sw=asimPmargc_sw/(desv_sw)^3  #coef de asimetría\n",
        "    VaRmargcstd_fr_sw[j,i]=qnorm(1-alpha)+((qnorm(1-alpha)^2-1)/6)*asimPmargc_sw  #VaR estandarizado\n",
        "    VaRmargcCF_fr_sw[j,i]=mudg_sw+desv_sw*VaRmargcstd_fr_sw[j,i] \t    #VaR Cornish-Fisher\n",
        "    CVaRmargcCF_fr_sw[j,i]=-mudg_sw-desv_sw*(dnorm(VaRmargcstd_fr_sw[j,i])/(pnorm(VaRmargcstd_fr_sw[j,i])))\n",
        "  }\n",
        "\n",
        "\n",
        "\n",
        "}\n",
        "\n",
        "\n",
        "print(\"Valor a nivel contrato\")\n",
        "print(V0_sw)\n",
        "print(\"VaR a nivel contrato\")\n",
        "print(VaRmargc_sw)\n",
        "print(\"VaR a nivel contrato CF\")\n",
        "print(VaRmargcCF_sw)\n",
        "print(\"CVaR a nivel contrato\")\n",
        "print(CVaRmargc_sw)\n",
        "print(\"CVaR a nivel contrato CF\")\n",
        "print(CVaRmargcCF_sw)\n",
        "\n",
        "\n",
        "print(\"VaR a nivel contrato\")\n",
        "print(VaRmargc_fr_sw)\n",
        "print(\"VaR a nivel contrato CF\")\n",
        "print(VaRmargcCF_fr_sw)\n",
        "print(\"CVaR a nivel contrato\")\n",
        "print(CVaRmargc_fr_sw)\n",
        "print(\"CVaR a nivel contrato CF\")\n",
        "print(CVaRmargcCF_fr_sw)"
      ],
      "execution_count": null,
      "outputs": [
        {
          "output_type": "stream",
          "name": "stdout",
          "text": [
            "[1] \"Valor a nivel contrato\"\n",
            "         [,1]     [,2]\n",
            "[1,] -20224.6 80734.57\n",
            "[1] \"VaR a nivel contrato\"\n",
            "          [,1]      [,2]\n",
            "[1,] -41952.79 -14800.33\n",
            "[1] \"VaR a nivel contrato CF\"\n",
            "          [,1]      [,2]\n",
            "[1,] -41987.28 -14800.33\n",
            "[1] \"CVaR a nivel contrato\"\n",
            "          [,1]     [,2]\n",
            "[1,] -48872.72 -17192.6\n",
            "[1] \"CVaR a nivel contrato CF\"\n",
            "          [,1]     [,2]\n",
            "[1,] -48903.38 -17192.6\n",
            "[1] \"VaR a nivel contrato\"\n",
            "             [,1]         [,2]\n",
            "[1,] -41620.24402 -14727.24312\n",
            "[2,]    -90.32768    -50.11239\n",
            "[1] \"VaR a nivel contrato CF\"\n",
            "            [,1]         [,2]\n",
            "[1,] -41620.2440 -14727.24312\n",
            "[2,]    -90.5101    -50.11239\n",
            "[1] \"CVaR a nivel contrato\"\n",
            "           [,1]        [,2]\n",
            "[1,] -49060.881 -17360.0983\n",
            "[2,]   -106.476    -59.0712\n",
            "[1] \"CVaR a nivel contrato CF\"\n",
            "            [,1]        [,2]\n",
            "[1,] -49060.8813 -17360.0983\n",
            "[2,]   -106.6381    -59.0712\n"
          ]
        }
      ]
    },
    {
      "cell_type": "markdown",
      "metadata": {
        "id": "i3QjcFf6LBHN"
      },
      "source": [
        "#### Total y total factor de riesgo"
      ]
    },
    {
      "cell_type": "code",
      "metadata": {
        "id": "JJ7AHx6mLFaU",
        "colab": {
          "base_uri": "https://localhost:8080/"
        },
        "outputId": "7bebb7b8-819f-45af-c862-a28f969dcfaf"
      },
      "source": [
        "%%R\n",
        "\n",
        "\n",
        "#RIESGO TOTAL FORWARDS DE TIPO DE CAMBIO\n",
        "\n",
        "VarDeltaX_sw=cov(DeltaX_sw)*(n/(n-1))\n",
        "\n",
        "tgammavar_sw=(tgamma_sw%*%VarDeltaX_sw)\n",
        "tgammavar2_sw=(tgammavar_sw)%*%(tgammavar_sw) \n",
        "#media\n",
        "mudg_sw=ifelse((sum(diag(tgammavar_sw))/2+sum(mu_sw))>0,0,(sum(diag(tgammavar_sw))/2+sum(mu_sw)))\n",
        "#desviación estándar\n",
        "desv_sw=sqrt(sum(diag(tgammavar2_sw))/2+gt_sw%*%VarDeltaX_sw%*%t(gt_sw))\n",
        "\n",
        "VaRT_sw_DGM=(mudg_sw)+(desv_sw)*qnorm(1-alpha)  #VaR Normal\n",
        "CVaRT_sw_DGM=-(mudg_sw)-(desv_sw)*dnorm(qnorm(alpha))/(1-alpha)\n",
        "\n",
        "\n",
        "###VaR Cornish Fisher\n",
        "tgammavar3_sw=tgammavar2_sw%*%(tgammavar_sw)\n",
        "asimP_sw=sum(diag(tgammavar3_sw))+3*gt_sw%*%VarDeltaX_sw%*%tgamma_sw%*%VarDeltaX_sw%*%t(gt_sw) #gamma tercer momento\n",
        "asimP_sw=asimP_sw/(desv_sw)^3  #coef de asimetría\n",
        "VaRstd_sw=qnorm(1-alpha)+((qnorm(1-alpha)^2-1)/6)*asimP_sw  #VaR estandarizado\n",
        "VaRT_sw_DGM_CF=(mudg_sw)+(desv_sw)*VaRstd_sw #VaR cf\n",
        "CVaRT_sw_DGM_CF=-(mudg_sw)-(desv_sw)*dnorm(VaRstd_sw)/(pnorm(VaRstd_sw))\n",
        "\n",
        "\n",
        "print(\"Valor en riesgo a nivel Total DGM\")\n",
        "print(VaRT_sw_DGM)\n",
        "print(\"Valor en riesgo Condicional a nivel Total DGM\")\n",
        "print(CVaRT_sw_DGM)\n",
        "print(\"Valor en riesgo a nivel Total CF\")\n",
        "print(VaRT_sw_DGM_CF)\n",
        "print(\"Valor en riesgo Condicional a nivel Total CF\")\n",
        "print(CVaRT_sw_DGM_CF)\n",
        "\n",
        "VaRT_fr_sw_DGM=matrix(0,1,2)\n",
        "CVaRT_fr_sw_DGM=matrix(0,1,2)\n",
        "VaRT_fr_sw_DGM_CF=matrix(0,1,2)\n",
        "CVaRT_fr_sw_DGM_CF=matrix(0,1,2)\n",
        "\n",
        "\n",
        "\n",
        "#RIESGO TOTAL POR FACTOR DE RIESGO DE FORWARDS DE TIPO DE CAMBIO\n",
        "\n",
        "for (j in (1:2))\n",
        "{\n",
        "\n",
        "    WFRMdum=matrix(0,2,sum(N)*2)  #PASO CLAVE\n",
        "    WFRMdum[1,1:(sum(N))]=1  #PASO CLAVE\n",
        "    WFRMdum[2,(sum(N)+1):(sum(N)*2)]=1  #PASO CLAVE\n",
        "    WFRM=WFRMdum    \n",
        "gamma_swtT2_fr=tgamma_sw*WFRM[j,]%*%t(WFRM[j,]) #evaluación de gamma multiplicado por x^{2}\n",
        "g_swtT_fr=gt_sw*WFRM[j,]\n",
        "tgammavar_sw=(gamma_swtT2_fr%*%VarDeltaX_sw)\n",
        "tgammavar2_sw=(tgammavar_sw)%*%(tgammavar_sw) \n",
        "#mudg_sw=sum(diag(tgammavar_sw))/2+sum(mu_sw)\n",
        "mudg_sw=0\n",
        "desv_sw=sqrt(sum(diag(tgammavar2_sw))/2+g_swtT_fr%*%VarDeltaX_sw%*%t(g_swtT_fr))\n",
        "VaRT_fr_sw_DGM[j]=(mudg_sw)+(desv_sw)*qnorm(1-alpha) #VaR Normal\n",
        "CVaRT_fr_sw_DGM[j]=-(mudg_sw)-(desv_sw)*dnorm(qnorm(alpha))/(1-alpha)\n",
        "\n",
        "\n",
        "###VaR Cornish Fisher\n",
        "tgammavar3_sw=tgammavar2_sw%*%(tgammavar_sw)\n",
        "asimP_sw=sum(diag(tgammavar3_sw))+3*g_swtT_fr%*%VarDeltaX_sw%*%gamma_swtT2_fr%*%VarDeltaX_sw%*%t(g_swtT_fr) #gamma tercer momento\n",
        "asimP_sw=asimP_sw/(desv_sw)^3  #coef de asimetría\n",
        " \n",
        "VaRstd_sw=qnorm(1-alpha)+((qnorm(1-alpha)^2-1)/6)*asimP_sw  #VaR estandarizado\n",
        "VaRT_fr_sw_DGM_CF[j]=(mudg_sw)+(desv_sw)*VaRstd_sw #VaR cf\n",
        "CVaRT_fr_sw_DGM_CF[j]=-(mudg_sw)-(desv_sw)*dnorm(VaRstd_sw)/(pnorm(VaRstd_sw))\n",
        "    \n",
        "}\n",
        "\n",
        "print(\"Valor en riesgo a nivel factor riesgo Delta Gamma Normal\")\n",
        "print(VaRT_fr_sw_DGM)\n",
        "print(\"Valor en riesgo condicional a nivel factor riesgo Delta Gamma Normal\")\n",
        "print(CVaRT_fr_sw_DGM)\n",
        "print(\"Valor en riesgo a nivel factor riesgo Delta Gamma Normal CF\")\n",
        "print(VaRT_fr_sw_DGM_CF)\n",
        "print(\"Valor en riesgo condicional a nivel factor riesgo Delta Gamma Normal CF\")\n",
        "print(CVaRT_fr_sw_DGM_CF)\n"
      ],
      "execution_count": null,
      "outputs": [
        {
          "output_type": "stream",
          "name": "stdout",
          "text": [
            "[1] \"Valor en riesgo a nivel Total DGM\"\n",
            "          [,1]\n",
            "[1,] -55864.55\n",
            "[1] \"Valor en riesgo Condicional a nivel Total DGM\"\n",
            "          [,1]\n",
            "[1,] -65826.34\n",
            "[1] \"Valor en riesgo a nivel Total CF\"\n",
            "          [,1]\n",
            "[1,] -55864.55\n",
            "[1] \"Valor en riesgo Condicional a nivel Total CF\"\n",
            "          [,1]\n",
            "[1,] -65826.34\n",
            "[1] \"Valor en riesgo a nivel factor riesgo Delta Gamma Normal\"\n",
            "          [,1]     [,2]\n",
            "[1,] -55827.97 -45.7393\n",
            "[1] \"Valor en riesgo condicional a nivel factor riesgo Delta Gamma Normal\"\n",
            "          [,1]      [,2]\n",
            "[1,] -65808.59 -53.91632\n",
            "[1] \"Valor en riesgo a nivel factor riesgo Delta Gamma Normal CF\"\n",
            "          [,1]     [,2]\n",
            "[1,] -55827.97 -45.7393\n",
            "[1] \"Valor en riesgo condicional a nivel factor riesgo Delta Gamma Normal CF\"\n",
            "          [,1]      [,2]\n",
            "[1,] -65808.59 -53.91632\n"
          ]
        }
      ]
    },
    {
      "cell_type": "markdown",
      "metadata": {
        "id": "9soIgUmSMh3n"
      },
      "source": [
        "###Opciones"
      ]
    },
    {
      "cell_type": "markdown",
      "metadata": {
        "id": "TJGU6e34z-j3"
      },
      "source": [
        "####Riesgo a nivel contrato y nivel contrato-factor de riesgo"
      ]
    },
    {
      "cell_type": "code",
      "metadata": {
        "id": "jmITDvZLMg9k",
        "colab": {
          "base_uri": "https://localhost:8080/"
        },
        "outputId": "a4941da8-ce4d-481c-8641-3dbf134be834"
      },
      "source": [
        "%%R\n",
        "#Cálculo de matriz de pérdidas y ganancias FUTUROS TDC\n",
        "\n",
        "#Cálculo de VaR por contrato\n",
        "#creación de matrices de VaR, gamma, VaRCF por contrato\n",
        "DeltaX_oir=DeltaX_port[,(sum(n_if[1:7],1)):(sum(n_if[1:8]))] \n",
        "m_oir=ncol(plazos_oir)\n",
        "m=ncol(plazos_oir)\n",
        "\n",
        "VaRmargc_oir=matrix(0,1,m) #Var por contrato Delta Normal\n",
        "VaRmargcDN_oir=matrix(0,1,m) #Var por contrato Delta Normal \n",
        "VaRmargcstd_oir=matrix(0,1,m) #Var por contrato estandarizado \n",
        "VaRmargcCF_oir=matrix(0,1,m) #Var por contrato Cornish-Fisher\n",
        "CVaRmargc_oir=matrix(0,1,m) #CVar por contrato estandarizado\n",
        "CVaRmargcDN_oir=matrix(0,1,m) #Var por contrato Delta Normal \n",
        "CVaRmargcCF_oir=matrix(0,1,m) #CVar por contrato estandarizado\n",
        "\n",
        "##factores riesgo\n",
        "#Spot\n",
        "VaRmargcDN_fr_oir=matrix(0,3,m) #Var por contrato Delta Normal\n",
        "VaRmargc_fr_oir=matrix(0,3,m) #Var por contrato Delta Normal\n",
        "VaRmargcDN_fr_oir=matrix(0,3,m) #Var por contrato Delta Normal\n",
        "VaRmargcstd_fr_oir=matrix(0,3,m) #Var por contrato estandarizado \n",
        "VaRmargcCF_fr_oir=matrix(0,3,m) #Var por contrato Cornish-Fisher\n",
        "CVaRmargcDN_fr_oir=matrix(0,3,m) #CVar por contrato estandarizado\n",
        "CVaRmargc_fr_oir=matrix(0,3,m) #CVar por contrato estandarizado\n",
        "CVaRmargcDN_fr_oir=matrix(0,3,m) #Var por contrato Delta Normal\n",
        "CVaRmargcCF_fr_oir=matrix(0,3,m) #CVar por contrato estandarizado\n",
        "WFR=diagv(c(1,1,1))\n",
        "WFR=diagv(c(1,1,1))\n",
        "\n",
        "\n",
        "for (i in 1:(m))\n",
        "{\n",
        "  delta_oir=t(delta_oir_T[seq(i,m*3,by=m)]) \n",
        "  tdelta_oir=t(delta_oir_T[seq(i,m*3,by=m)])*xp_oir[seq(i,m*3,by=m)]   #delta tilde\n",
        "  gamma_oir=mgammaopc(x01[i],x02[i],K_oir[i],x03[i],plazos_oir[i],cp_oir[i],cs_oir,pr_oir,dct_oir,contratos_oir[i],nominal_oir)  #paso clave\n",
        "  tgamma_oir=xp_oir[seq(i,m*3,by=m)]%*%t(xp_oir[seq(i,m*3,by=m)])*gamma_oir #gamma tilde\n",
        "  Varmargcaux_oir=cov(DeltaX_oir[,seq(i,m*3,by=m)])*((n)/(n-1)) #matriz varcov factores de riesgo de cada contrato\n",
        "  tgammavar_oir=(tgamma_oir%*%Varmargcaux_oir)\n",
        "  tgammavar2_oir=(tgamma_oir%*%Varmargcaux_oir)%*%(tgamma_oir%*%Varmargcaux_oir)  \n",
        "  mudg_oir=ifelse(sum(diag(tgammavar_oir))/2+mu_oir[i]>0,0,sum(diag(tgammavar_oir))/2+mu_oir[i])\n",
        "  desv_oir=sqrt(sum(diag(tgammavar2_oir))/2+tdelta_oir%*%Varmargcaux_oir%*%t(tdelta_oir))\n",
        "\n",
        "  mudn_oir=ifelse(mu_oir[i]>0,0,mu_oir[i])\n",
        "  desvdn_oir=sqrt(tdelta_oir%*%Varmargcaux_oir%*%t(tdelta_oir))\n",
        "\n",
        "  VaRmargcDN_oir[i]=mudn_oir+desvdn_oir*qnorm(1-alpha) #VaR Normal por contrato Delta Normal\n",
        "  CVaRmargcDN_oir[i]=mudn_oir-desvdn_oir*(dnorm(qnorm(1-alpha))/(1-alpha))  #CVaR Normal por contrato Delta Normal\n",
        "\n",
        "  VaRmargc_oir[i]=mudg_oir+desv_oir*qnorm(1-alpha) #VaR Normal por contrato\n",
        "  CVaRmargc_oir[i]=mudg_oir-desv_oir*(dnorm(qnorm(1-alpha))/(1-alpha))\n",
        "  \n",
        "  tgammavar3_oir=tgammavar2_oir%*%(tgamma_oir%*%Varmargcaux_oir)\n",
        "  asimPmargc_oir=sum(diag(tgammavar3_oir))+3*tdelta_oir%*%Varmargcaux_oir%*%tgamma_oir%*%Varmargcaux_oir%*%t(tdelta_oir) #tercer momento\n",
        "  asimPmargc_oir=asimPmargc_oir/(desv_oir)^3  #coef de asimetría\n",
        "  VaRmargcstd_oir[i]=qnorm(1-alpha)+((qnorm(1-alpha)^2-1)/6)*asimPmargc_oir  #VaR estandarizado\n",
        "  VaRmargcCF_oir[i]=mudg_oir+desv_oir*VaRmargcstd_oir[i] \t    #VaR Cornish-Fisher\n",
        "  CVaRmargcCF_oir[i]=mudg_oir-desv_oir*(dnorm(VaRmargcstd_oir[i])/(pnorm(VaRmargcstd_oir[i])))\n",
        "\n",
        "#Por factor de riesgo y por contrato\n",
        "#spot, tasa extranjera, tasa nacional\n",
        "  for (j in 1:3)\n",
        "  {\n",
        "    WFRM=matrix(0,3,3)  #PASO CLAVE\n",
        "    WFRM[j,j]=1  #PASO CLAVE\n",
        "    delta_oir=t(delta_oir_T[seq(i,m*3,by=m)])*WFR[j,]\n",
        "    tdelta_oir=t(delta_oir_T[seq(i,m*3,by=m)])*xp_oir[seq(i,m*3,by=m)]*WFR[j,]   #delta tilde\n",
        "    gamma_oir=mgammaopc(x01[i],x02[i],K_oir[i],x03[i],plazos_oir[i],cp_oir[i],cs_oir,pr_oir,dct_oir,contratos_oir[i],nominal_oir)*WFRM #paso clave\n",
        "   #print(WFRM)\n",
        "    tgamma_oir=xp_oir[seq(i,m*3,by=m)]%*%t(xp_oir[seq(i,m*3,by=m)])*gamma_oir #gamma tilde\n",
        "    Varmargcaux_oir=cov(DeltaX_oir[,seq(i,m*3,by=m)])*((n)/(n-1)) #matriz varcov factores de riesgo de cada contrato\n",
        "    tgammavar_oir=(tgamma_oir%*%Varmargcaux_oir)\n",
        "    tgammavar2_oir=(tgamma_oir%*%Varmargcaux_oir)%*%(tgamma_oir%*%Varmargcaux_oir)  \n",
        "    #mudg_oir=sum(diag(tgammavar_oir))/2+mu_oir[i]\n",
        "    mudg_oir=0\n",
        "    desv_oir=sqrt(sum(diag(tgammavar2_oir))/2+tdelta_oir%*%Varmargcaux_oir%*%t(tdelta_oir))\n",
        "\n",
        "    mudn_oir=0\n",
        "    desvdn_oir=sqrt(tdelta_oir%*%Varmargcaux_oir%*%t(tdelta_oir))\n",
        "\n",
        "    VaRmargcDN_fr_oir[j,i]=mudn_oir+desvdn_oir*qnorm(1-alpha) #VaR Normal por contrato Delta Normal\n",
        "    CVaRmargcDN_fr_oir[j,i]=mudn_oir-desvdn_oir*(dnorm(qnorm(1-alpha))/(1-alpha))  #CVaR Normal por contrato Delta Normal\n",
        "\n",
        "    VaRmargc_fr_oir[j,i]=mudg_oir+desv_oir*qnorm(1-alpha) #VaR Normal por contrato\n",
        "    CVaRmargc_fr_oir[j,i]=mudg_oir-desv_oir*(dnorm(qnorm(1-alpha))/(1-alpha))\n",
        "    \n",
        "    tgammavar3_oir=tgammavar2_oir%*%(tgamma_oir%*%Varmargcaux_oir)\n",
        "    asimPmargc_oir=sum(diag(tgammavar3_oir))+3*tdelta_oir%*%Varmargcaux_oir%*%tgamma_oir%*%Varmargcaux_oir%*%t(tdelta_oir) #tercer momento\n",
        "    asimPmargc_oir=asimPmargc_oir/(desv_oir)^3  #coef de asimetría\n",
        "    VaRmargcstd_fr_oir[j,i]=qnorm(1-alpha)+((qnorm(1-alpha)^2-1)/6)*asimPmargc_oir  #VaR estandarizado\n",
        "    VaRmargcCF_fr_oir[j,i]=mudg_oir+desv_oir*VaRmargcstd_fr_oir[j,i] \t    #VaR Cornish-Fisher\n",
        "    CVaRmargcCF_fr_oir[j,i]=mudg_oir-desv_oir*(dnorm(VaRmargcstd_fr_oir[j,i])/(pnorm(VaRmargcstd_fr_oir[j,i])))\n",
        "  }\n",
        "\n",
        "\n",
        "\n",
        "}\n",
        "\n",
        "print(\"VaR a nivel contrato Delta normal\")\n",
        "print(VaRmargcDN_oir)\n",
        "print(\"CVaR a nivel contrato Delta normal\")\n",
        "print(CVaRmargcDN_oir)\n",
        "print(\"VaR a nivel contrato Delta Gamma Normal\")\n",
        "print(VaRmargc_oir)\n",
        "print(\"CVaR a nivel contrato Delta Gamma Normal\")\n",
        "print(CVaRmargc_oir)\n",
        "print(\"VaR a nivel contrato CF\")\n",
        "print(VaRmargcCF_oir)\n",
        "print(\"CVaR a nivel contrato CF\")\n",
        "print(CVaRmargcCF_oir)\n",
        "\n",
        "print(\"VaR a nivel contrato factor de riesgo delta normal\")\n",
        "print(VaRmargcDN_fr_oir)\n",
        "print(\"CVaR a nivel contrato factor de riesgo delta normal\")\n",
        "print(CVaRmargcDN_fr_oir)\n",
        "print(\"VaR a nivel contrato factor de riesgo Delta Gamma Normal\")\n",
        "print(VaRmargc_fr_oir)\n",
        "print(\"CVaR a nivel contrato factor de riesgo Delta Gamma Normal\")\n",
        "print(CVaRmargc_fr_oir)\n",
        "print(\"VaR a nivel contrato factor de riesgo CF\")\n",
        "print(VaRmargcCF_fr_oir)\n",
        "print(\"CVaR a nivel contrato factor de riesgo CF\")\n",
        "print(CVaRmargcCF_fr_oir)"
      ],
      "execution_count": null,
      "outputs": [
        {
          "output_type": "stream",
          "name": "stdout",
          "text": [
            "[1] \"VaR a nivel contrato Delta normal\"\n",
            "            [,1]        [,2]\n",
            "[1,] -0.08757515 -0.04730174\n",
            "[1] \"CVaR a nivel contrato Delta normal\"\n",
            "           [,1]        [,2]\n",
            "[1,] -0.1032314 -0.05575808\n",
            "[1] \"VaR a nivel contrato Delta Gamma Normal\"\n",
            "            [,1]        [,2]\n",
            "[1,] -0.08757567 -0.04730179\n",
            "[1] \"CVaR a nivel contrato Delta Gamma Normal\"\n",
            "          [,1]        [,2]\n",
            "[1,] -0.103232 -0.05575814\n",
            "[1] \"VaR a nivel contrato CF\"\n",
            "            [,1]        [,2]\n",
            "[1,] -0.08758235 -0.04733113\n",
            "[1] \"CVaR a nivel contrato CF\"\n",
            "           [,1]        [,2]\n",
            "[1,] -0.1032379 -0.05578423\n",
            "[1] \"VaR a nivel contrato factor de riesgo delta normal\"\n",
            "            [,1]          [,2]\n",
            "[1,] -0.01154790 -0.0009612335\n",
            "[2,] -0.06765790 -0.0365505436\n",
            "[3,] -0.05238478 -0.0327790004\n",
            "[1] \"CVaR a nivel contrato factor de riesgo delta normal\"\n",
            "            [,1]         [,2]\n",
            "[1,] -0.01361237 -0.001133077\n",
            "[2,] -0.07975340 -0.043084848\n",
            "[3,] -0.06174984 -0.038639049\n",
            "[1] \"VaR a nivel contrato factor de riesgo Delta Gamma Normal\"\n",
            "            [,1]          [,2]\n",
            "[1,] -0.01154799 -0.0009612343\n",
            "[2,] -0.06765790 -0.0365505436\n",
            "[3,] -0.05238481 -0.0327790120\n",
            "[1] \"CVaR a nivel contrato factor de riesgo Delta Gamma Normal\"\n",
            "            [,1]         [,2]\n",
            "[1,] -0.01361248 -0.001133078\n",
            "[2,] -0.07975340 -0.043084848\n",
            "[3,] -0.06174988 -0.038639063\n",
            "[1] \"VaR a nivel contrato factor de riesgo CF\"\n",
            "            [,1]          [,2]\n",
            "[1,] -0.01149724 -0.0009598131\n",
            "[2,] -0.06765575 -0.0365489009\n",
            "[3,] -0.05245282 -0.0328095636\n",
            "[1] \"CVaR a nivel contrato factor de riesgo CF\"\n",
            "            [,1]         [,2]\n",
            "[1,] -0.01356738 -0.001131815\n",
            "[2,] -0.07975149 -0.043083388\n",
            "[3,] -0.06181034 -0.038666220\n"
          ]
        }
      ]
    },
    {
      "cell_type": "markdown",
      "metadata": {
        "id": "tQFm1a3Q0ArK"
      },
      "source": [
        "####Riesgo a nivel total y total factor de riesgo"
      ]
    },
    {
      "cell_type": "code",
      "metadata": {
        "id": "2H7tbCsQ0Hw_",
        "colab": {
          "base_uri": "https://localhost:8080/"
        },
        "outputId": "9d11935e-9de0-43b3-d56c-ca7ce3ddb46c"
      },
      "source": [
        "%%R\n",
        "#RIESGO TOTAL FORWARDS DE TIPO DE CAMBIO\n",
        "\n",
        "VarDeltaX_oir=cov(DeltaX_oir)*(n/(n-1))\n",
        "\n",
        "tgammavar_oir=(gammaT_oirT2%*%VarDeltaX_oir)\n",
        "tgammavar2_oir=(tgammavar_oir)%*%(tgammavar_oir) \n",
        "mudg_oir=ifelse(sum(diag(tgammavar_oir))/2+sum(mu_oir)>0,0,sum(diag(tgammavar_oir))/2+sum(mu_oir))\n",
        "desv_oir=sqrt(sum(diag(tgammavar2_oir))/2+deltaT_oir_T%*%VarDeltaX_oir%*%t(deltaT_oir_T))\n",
        "\n",
        "VaRT_oir_DGM=(mudg_oir)+(desv_oir)*qnorm(1-alpha)  #VaR Normal\n",
        "CVaRT_oir_DGM=(mudg_oir)-(desv_oir)*dnorm(qnorm(alpha))/(1-alpha)\n",
        "\n",
        "\n",
        "###VaR Cornish Fisher\n",
        "tgammavar3_oir=tgammavar2_oir%*%(tgammavar_oir)\n",
        "asimP_oir=sum(diag(tgammavar3_oir))+3*deltaT_oir_T%*%VarDeltaX_oir%*%gammaT_oirT2%*%VarDeltaX_oir%*%t(deltaT_oir_T) #gamma tercer momento\n",
        "asimP_oir=asimP_oir/(desv_oir)^3  #coef de asimetría\n",
        "VaRstd_oir=qnorm(1-alpha)+((qnorm(1-alpha)^2-1)/6)*asimP_oir  #VaR estandarizado\n",
        "VaRT_oir_DGM_CF=(mudg_oir)+(desv_oir)*VaRstd_oir #VaR cf\n",
        "CVaRT_oir_DGM_CF=(mudg_oir)-(desv_oir)*dnorm(VaRstd_oir)/(pnorm(VaRstd_oir))\n",
        "\n",
        "#print(VaRT_oir_DGM)\n",
        "#print(CVaRT_oir_DGM)\n",
        "#print(VaRT_oir_DGM_CF)\n",
        "#print(CVaRT_oir_DGM_CF)\n",
        "\n",
        "VaRT_fr_oir_DGM=matrix(0,1,3)\n",
        "CVaRT_fr_oir_DGM=matrix(0,1,3)\n",
        "VaRT_fr_oir_DGM_CF=matrix(0,1,3)\n",
        "CVaRT_fr_oir_DGM_CF=matrix(0,1,3)\n",
        "\n",
        "WFRT=matrix(0,3,(m*3))\n",
        "# WFRT[1,1:m]=matrix(1,1,m)\n",
        "# WFRT[2,(m+1):(2*m)]=matrix(1,1,m)\n",
        "# WFRT[3,(2*m+1):(3*m)]=matrix(1,1,m)\n",
        "#print(WFRT)\n",
        "\n",
        "#RIESGO TOTAL POR FACTOR DE RIESGO DE FORWARDS DE TIPO DE CAMBIO\n",
        "\n",
        "for (j in (1:3))\n",
        "{\n",
        "WFRT[j,((j-1)*m+1):(j*m)]=matrix(1,1,m)    #Matriz de diseño para \n",
        "WFRM=matrix(0,(m*3),(m*3))  #PASO CLAVE\n",
        "WFRM[((j-1)*m+1):(m*j),((j-1)*m+1):(m*j)]=matrix(1,m,m)  #PASO CLAVE    \n",
        "gamma_oirtT2_fr=gammaT_oirT2*WFRM #evaluación de gamma multiplicado por x^{2}\n",
        "g_oirtT_fr=deltaT_oir_T*WFRT[j,]\n",
        "# print(WFRM)\n",
        "# print(g_oirtT_fr)\n",
        "# print(gamma_oirtT2_fr)\n",
        "# print(WFRT)\n",
        "tgammavar_oir=(gamma_oirtT2_fr%*%VarDeltaX_oir)\n",
        "tgammavar2_oir=(tgammavar_oir)%*%(tgammavar_oir) \n",
        "#mudg_oir=sum(diag(tgammavar_oir))/2+sum(mu_oir)\n",
        "mudg_oir=0\n",
        "desv_oir=sqrt(sum(diag(tgammavar2_oir))/2+g_oirtT_fr%*%VarDeltaX_oir%*%t(g_oirtT_fr))\n",
        "VaRT_fr_oir_DGM[j]=(mudg_oir)+(desv_oir)*qnorm(1-alpha) #VaR Normal\n",
        "CVaRT_fr_oir_DGM[j]=(mudg_oir)-(desv_oir)*dnorm(qnorm(alpha))/(1-alpha)\n",
        "\n",
        "\n",
        "###VaR Cornish Fisher\n",
        "tgammavar3_oir=tgammavar2_oir%*%(tgammavar_oir)\n",
        "asimP_oir=sum(diag(tgammavar3_oir))+3*g_oirtT_fr%*%VarDeltaX_oir%*%gamma_oirtT2_fr%*%VarDeltaX_oir%*%t(g_oirtT_fr) #gamma tercer momento\n",
        " #print(asimP_oir)\n",
        "asimP_oir=asimP_oir/(desv_oir)^3  #coef de asimetría\n",
        " \n",
        "VaRstd_oir=qnorm(1-alpha)+((qnorm(1-alpha)^2-1)/6)*asimP_oir  #VaR estandarizado\n",
        "#print(VaRstd_oir)\n",
        "VaRT_fr_oir_DGM_CF[j]=(mudg_oir)+(desv_oir)*VaRstd_oir #VaR cf\n",
        "CVaRT_fr_oir_DGM_CF[j]=(mudg_oir)-(desv_oir)*dnorm(VaRstd_oir)/(pnorm(VaRstd_oir))\n",
        "\n",
        "\n",
        "}\n",
        "\n",
        "print(\"VaR total por factor de riesgo delta Gamma Normal\")\n",
        "print(VaRT_fr_oir_DGM)\n",
        "print(\"CVaR total por factor de riesgo delta Gamma Normal\")\n",
        "print(CVaRT_fr_oir_DGM)\n",
        "print(\"VaR total por factor de riesgo CF\")\n",
        "print(VaRT_fr_oir_DGM_CF)\n",
        "print(\"CVaR total por factor de riesgo CF\")\n",
        "print(CVaRT_fr_oir_DGM_CF)\n",
        "\n",
        "\n",
        "\n",
        "print(\"Valor en riesgo a nivel Total DGN\")\n",
        "print(VaRT_oir_DGM)\n",
        "print(\"Valor en riesgo Condicional a nivel Total DGN\")\n",
        "print(CVaRT_oir_DGM)\n",
        "print(\"Valor en riesgo a nivel Total CF\")\n",
        "print(VaRT_oir_DGM_CF)\n",
        "print(\"Valor en riesgo Condicional a nivel Total CF\")\n",
        "print(CVaRT_oir_DGM_CF)"
      ],
      "execution_count": null,
      "outputs": [
        {
          "output_type": "stream",
          "name": "stdout",
          "text": [
            "[1] \"VaR total por factor de riesgo delta normal\"\n",
            "            [,1]        [,2]        [,3]\n",
            "[1,] -0.01243336 -0.08778916 -0.07886968\n",
            "[1] \"CVaR total por factor de riesgo delta normal\"\n",
            "            [,1]       [,2]        [,3]\n",
            "[1,] -0.01465613 -0.1034836 -0.09296956\n",
            "[1] \"VaR total por factor de riesgo CF\"\n",
            "            [,1]        [,2]        [,3]\n",
            "[1,] -0.01238144 -0.08778654 -0.07895535\n",
            "[1] \"CVaR total por factor de riesgo CF\"\n",
            "            [,1]       [,2]        [,3]\n",
            "[1,] -0.01460999 -0.1034813 -0.09304572\n",
            "[1] \"Valor en riesgo a nivel Total DGM\"\n",
            "           [,1]\n",
            "[1,] -0.1182985\n",
            "[1] \"Valor en riesgo Condicional a nivel Total DGM\"\n",
            "           [,1]\n",
            "[1,] -0.1394473\n",
            "[1] \"Valor en riesgo a nivel Total CF\"\n",
            "           [,1]\n",
            "[1,] -0.1183589\n",
            "[1] \"Valor en riesgo Condicional a nivel Total CF\"\n",
            "           [,1]\n",
            "[1,] -0.1395009\n"
          ]
        }
      ]
    },
    {
      "cell_type": "markdown",
      "metadata": {
        "id": "JIquu9SW6C-b"
      },
      "source": [
        "### Riesgo Integral"
      ]
    },
    {
      "cell_type": "markdown",
      "metadata": {
        "id": "YP_oeJvgDJUz"
      },
      "source": [
        "##### Total"
      ]
    },
    {
      "cell_type": "code",
      "metadata": {
        "id": "H8VvVym96HFb",
        "colab": {
          "base_uri": "https://localhost:8080/"
        },
        "outputId": "24106688-3984-4203-be42-bad402677665"
      },
      "source": [
        "%%R\n",
        "#Cálculo de matriz de varianza covarianza de todos los factores de riesgo del PORTAFOLIO\n",
        "VarDeltaX_port=as.matrix(cov(DeltaX_port)*(n-1)/(n-2))\n",
        "\n",
        "mu_port=as.matrix(cbind(mu_acc_div,mu_bcc,mu_bm,mu_bd,mu_ftdc,mu_find,mu_sw,mu_oir)) #derivada con respecto al tiempo\n",
        "#INTEGRACIÓN DE PRIMERAS DERIVADAS (GRADIENTE)\n",
        "gt_port=as.matrix(cbind(g_acc_divt,g_bcct,g_bmt,g_bdt,g_ftdctT,g_findtT,gt_sw,deltaT_oir_T)) #derivada con respecto las X's\n",
        "#validar que ncol(X_port)=ncol(gt_port)\n",
        "\n",
        "\n",
        "#INTEGRACIÓN DE MATRIZ HESSIANA\n",
        "\n",
        "gammat_port=matrix(0,sum(n_if),sum(n_if))\n",
        "gammat_port[1:n_if[1],1:n_if[1]]=gamma_acc_divt\n",
        "gammat_port[(sum(n_if[1:1])+1):(sum(n_if[1:2])),(sum(n_if[1:1])+1):(sum(n_if[1:2]))]=gamma_bcct2\n",
        "gammat_port[(sum(n_if[1:2])+1):(sum(n_if[1:3])),(sum(n_if[1:2])+1):(sum(n_if[1:3]))]=gamma_bmt2\n",
        "gammat_port[(sum(n_if[1:3])+1):(sum(n_if[1:4])),(sum(n_if[1:3])+1):(sum(n_if[1:4]))]=gamma_bdt2\n",
        "gammat_port[(sum(n_if[1:4])+1):(sum(n_if[1:5])),(sum(n_if[1:4])+1):(sum(n_if[1:5]))]=gamma_ftdctT2\n",
        "gammat_port[(sum(n_if[1:5])+1):(sum(n_if[1:6])),(sum(n_if[1:5])+1):(sum(n_if[1:6]))]=gamma_findtT2\n",
        "gammat_port[(sum(n_if[1:6])+1):(sum(n_if[1:7])),(sum(n_if[1:6])+1):(sum(n_if[1:7]))]=tgamma_sw\n",
        "gammat_port[(sum(n_if[1:7])+1):(sum(n_if[1:8])),(sum(n_if[1:7])+1):(sum(n_if[1:8]))]=gammaT_oirT2\n",
        "\n",
        "\n",
        "\n",
        "#CÁLCULO DE VAR Y CVAR A NIVEL PORTAFOLIO\n",
        "tgammavar_port=(gammat_port%*%VarDeltaX_port)\n",
        "tgammavar2_port=(tgammavar_port)%*%(tgammavar_port) \n",
        "mu_portT=ifelse((sum(diag(tgammavar_port))/2+sum(mu_port))>0,0,(sum(diag(tgammavar_port))/2+sum(mu_port)))\n",
        "desv_portT=(sqrt(sum(diag(tgammavar2_port))/2+gt_port%*%VarDeltaX_port%*%t(gt_port)))\n",
        "VaRT_port_DGM=mu_portT+desv_portT*qnorm(1-alpha) #VaR Normal\n",
        "CVaRT_port_DGM=mu_portT-desv_portT*dnorm(qnorm(alpha))/(1-alpha)\n",
        "\n",
        "\n",
        "###VaR Cornish Fisher\n",
        "tgammavar3_port=tgammavar2_port%*%(tgammavar_port)\n",
        "asimP_port=sum(diag(tgammavar3_port))+3*gt_port%*%VarDeltaX_port%*%gammat_port%*%VarDeltaX_port%*%t(gt_port) #gamma tercer momento\n",
        "asimP_port=asimP_port/(sqrt(sum(diag(tgammavar2_port))/2+gt_port%*%VarDeltaX_port%*%t(gt_port)))^3  #coef de asimetría\n",
        "VaRstd_port=qnorm(1-alpha)+((qnorm(1-alpha)^2-1)/6)*asimP_port  #VaR estandarizado\n",
        "VaRT_port_DGM_CF=mu_portT+desv_portT*VaRstd_port #VaR cf\n",
        "CVaRT_port_DGM_CF=mu_portT-desv_portT*dnorm(VaRstd_port)/(pnorm(VaRstd_port))\n",
        "\n",
        "\n",
        "\n",
        "print(VaRT_port_DGM)\n",
        "print(CVaRT_port_DGM)\n",
        "\n",
        "print(VaRT_port_DGM_CF)\n",
        "print(CVaRT_port_DGM_CF)\n",
        "\n"
      ],
      "execution_count": null,
      "outputs": [
        {
          "output_type": "stream",
          "name": "stdout",
          "text": [
            "          [,1]\n",
            "[1,] -76468.43\n",
            "          [,1]\n",
            "[1,] -90130.61\n",
            "         [,1]\n",
            "[1,] -76468.4\n",
            "          [,1]\n",
            "[1,] -90130.59\n"
          ]
        }
      ]
    },
    {
      "cell_type": "code",
      "metadata": {
        "colab": {
          "base_uri": "https://localhost:8080/"
        },
        "id": "4Y0ODAb3A6G1",
        "outputId": "109500cc-88f2-4444-8995-1530731d46b5"
      },
      "source": [
        "%%R\n",
        "sum(n_if[1:5])"
      ],
      "execution_count": null,
      "outputs": [
        {
          "output_type": "stream",
          "name": "stdout",
          "text": [
            "[1] 167\n"
          ]
        }
      ]
    },
    {
      "cell_type": "markdown",
      "metadata": {
        "id": "w9aZ_QUUDSqh"
      },
      "source": [
        "#### Por acciones"
      ]
    },
    {
      "cell_type": "code",
      "metadata": {
        "id": "2SgoylpMDSEn",
        "colab": {
          "base_uri": "https://localhost:8080/"
        },
        "outputId": "135cf90b-bf84-4326-f93c-37101094aa34"
      },
      "source": [
        "%%R\n",
        "m = ncol(plazos_fwd_ind)\n",
        "WFRT_acc=matrix(0,3,(m*3))\n",
        "\n",
        "#RIESGO TOTAL POR FACTOR DE RIESGO DE FORWARDS DE TIPO DE CAMBIO\n",
        "\n",
        "for (j in (1:3))\n",
        "{\n",
        "WFRT_acc[j,((j-1)*m+1):(j*m)]=matrix(1,1,m)    #Matriz de diseño para \n",
        "WFRT_acc=matrix(0,(m*3),(m*3))  #PASO CLAVE\n",
        "WFRT_acc[((j-1)*m+1):(m*j),((j-1)*m+1):(m*j)]=matrix(1,m,m)}\n",
        "\n",
        "dummy_acc = matrix(0,1, ncol(gt_port))\n",
        "dummy_acc[(m_fx+1):(m_fx+m_acc)] = 1\n",
        "dummy_acc[c(168)] = 1 #Cambia dependiendo del factor de riesgo a tomar. Revisar los riesgos de las opciones IPC\n",
        "gt_port=as.matrix(cbind(g_acc_divt,g_bcct,g_bmt,g_bdt,g_ftdctT,g_findtT,gt_sw,deltaT_oir_T)) #derivada con respecto las X's\n",
        "\n",
        "gt_port = gt_port*dummy_acc\n",
        "gammat_port=matrix(0,sum(n_if),sum(n_if))\n",
        "gammat_port[1:n_if[1],1:n_if[1]]=gamma_acc_divt\n",
        "gammat_port[(sum(n_if[1:1])+1):(sum(n_if[1:2])),(sum(n_if[1:1])+1):(sum(n_if[1:2]))]=gamma_bcct2\n",
        "gammat_port[(sum(n_if[1:2])+1):(sum(n_if[1:3])),(sum(n_if[1:2])+1):(sum(n_if[1:3]))]=gamma_bmt2\n",
        "gammat_port[(sum(n_if[1:3])+1):(sum(n_if[1:4])),(sum(n_if[1:3])+1):(sum(n_if[1:4]))]=gamma_bdt2\n",
        "gammat_port[(sum(n_if[1:4])+1):(sum(n_if[1:5])),(sum(n_if[1:4])+1):(sum(n_if[1:5]))]=gamma_ftdctT2\n",
        "gammat_port[(sum(n_if[1:5])+1):(sum(n_if[1:6])),(sum(n_if[1:5])+1):(sum(n_if[1:6]))]=gamma_findtT2\n",
        "gammat_port[(sum(n_if[1:6])+1):(sum(n_if[1:7])),(sum(n_if[1:6])+1):(sum(n_if[1:7]))]=tgamma_sw\n",
        "gammat_port[(sum(n_if[1:7])+1):(sum(n_if[1:8])),(sum(n_if[1:7])+1):(sum(n_if[1:8]))]=gammaT_oirT2\n",
        "\n",
        "gammat_port = gammat_port * t(dummy_acc)%*%dummy_acc\n",
        "\n",
        "tgammavar_port=(gammat_port%*%VarDeltaX_port)\n",
        "tgammavar2_port=(tgammavar_port)%*%(tgammavar_port) \n",
        "mu_portT=ifelse((sum(diag(tgammavar_port))/2+sum(mu_port))>0,0,(sum(diag(tgammavar_port))/2+sum(mu_port)))\n",
        "desv_portT=(sqrt(sum(diag(tgammavar2_port))/2+gt_port%*%VarDeltaX_port%*%t(gt_port)))\n",
        "VaRT_port_acc_DGM=mu_portT+desv_portT*qnorm(1-alpha) #VaR Normal\n",
        "CVaRT_port_acc_DGM=mu_portT-desv_portT*dnorm(qnorm(alpha))/(1-alpha)\n",
        "\n",
        "\n",
        "###VaR Cornish Fisher\n",
        "tgammavar3_port=tgammavar2_port%*%(tgammavar_port)\n",
        "asimP_port=sum(diag(tgammavar3_port))+3*gt_port%*%VarDeltaX_port%*%gammat_port%*%VarDeltaX_port%*%t(gt_port) #gamma tercer momento\n",
        "asimP_port=asimP_port/(sqrt(sum(diag(tgammavar2_port))/2+gt_port%*%VarDeltaX_port%*%t(gt_port)))^3  #coef de asimetría\n",
        "VaRstd_port=qnorm(1-alpha)+((qnorm(1-alpha)^2-1)/6)*asimP_port  #VaR estandarizado\n",
        "VaRT_port_acc_DGM_CF=mu_portT+desv_portT*VaRstd_port #VaR cf\n",
        "CVaRT_port_acc_DGM_CF=mu_portT-desv_portT*dnorm(VaRstd_port)/(pnorm(VaRstd_port))\n",
        "\n",
        "\n",
        "\n",
        "print(VaRT_port_acc_DGM)\n",
        "print(CVaRT_port_acc_DGM)\n",
        "\n",
        "print(VaRT_port_acc_DGM_CF)\n",
        "print(CVaRT_port_acc_DGM_CF)"
      ],
      "execution_count": null,
      "outputs": [
        {
          "output_type": "stream",
          "name": "stdout",
          "text": [
            "          [,1]\n",
            "[1,] -52688.68\n",
            "          [,1]\n",
            "[1,] -62099.28\n",
            "          [,1]\n",
            "[1,] -52688.68\n",
            "          [,1]\n",
            "[1,] -62099.28\n"
          ]
        }
      ]
    },
    {
      "cell_type": "markdown",
      "metadata": {
        "id": "M13H9qHVi69e"
      },
      "source": [
        "#### Divisas"
      ]
    },
    {
      "cell_type": "code",
      "metadata": {
        "colab": {
          "base_uri": "https://localhost:8080/"
        },
        "id": "3lsyr_sHjAI2",
        "outputId": "941fce01-6ca8-4ccb-cb36-e549cf53fb26"
      },
      "source": [
        "%%R\n",
        "m = ncol(plazos_fwd)\n",
        "WFRT_div=matrix(0,3,(m*3))\n",
        "\n",
        "#RIESGO TOTAL POR FACTOR DE RIESGO DE FORWARDS DE TIPO DE CAMBIO\n",
        "\n",
        "for (j in (1:3))\n",
        "{\n",
        "WFRT_div[j,((j-1)*m+1):(j*m)]=matrix(1,1,m)    #Matriz de diseño para \n",
        "WFRT_div=matrix(0,(m*3),(m*3))  #PASO CLAVE\n",
        "WFRT_div[((j-1)*m+1):(m*j),((j-1)*m+1):(m*j)]=matrix(1,m,m)}\n",
        "\n",
        "dummy_div = matrix(0,1, ncol(gt_port))\n",
        "dummy_div[1:m_fx] = 1\n",
        "dummy_div[c(165, 166, 167)] = 1 #Cambia dependiendo del factor de riesgo a tomar.\n",
        "gt_port=as.matrix(cbind(g_acc_divt,g_bcct,g_bmt,g_bdt,g_ftdctT,g_findtT,gt_sw,deltaT_oir_T)) #derivada con respecto las X's\n",
        "\n",
        "gt_port = gt_port*dummy_div\n",
        "gammat_port=matrix(0,sum(n_if),sum(n_if))\n",
        "gammat_port[1:n_if[1],1:n_if[1]]=gamma_acc_divt\n",
        "gammat_port[(sum(n_if[1:1])+1):(sum(n_if[1:2])),(sum(n_if[1:1])+1):(sum(n_if[1:2]))]=gamma_bcct2\n",
        "gammat_port[(sum(n_if[1:2])+1):(sum(n_if[1:3])),(sum(n_if[1:2])+1):(sum(n_if[1:3]))]=gamma_bmt2\n",
        "gammat_port[(sum(n_if[1:3])+1):(sum(n_if[1:4])),(sum(n_if[1:3])+1):(sum(n_if[1:4]))]=gamma_bdt2\n",
        "gammat_port[(sum(n_if[1:4])+1):(sum(n_if[1:5])),(sum(n_if[1:4])+1):(sum(n_if[1:5]))]=gamma_ftdctT2\n",
        "gammat_port[(sum(n_if[1:5])+1):(sum(n_if[1:6])),(sum(n_if[1:5])+1):(sum(n_if[1:6]))]=gamma_findtT2\n",
        "gammat_port[(sum(n_if[1:6])+1):(sum(n_if[1:7])),(sum(n_if[1:6])+1):(sum(n_if[1:7]))]=tgamma_sw\n",
        "gammat_port[(sum(n_if[1:7])+1):(sum(n_if[1:8])),(sum(n_if[1:7])+1):(sum(n_if[1:8]))]=gammaT_oirT2\n",
        "\n",
        "gammat_port = gammat_port * t(dummy_div)%*%dummy_div\n",
        "\n",
        "tgammavar_port=(gammat_port%*%VarDeltaX_port)\n",
        "tgammavar2_port=(tgammavar_port)%*%(tgammavar_port) \n",
        "mu_portT=ifelse((sum(diag(tgammavar_port))/2+sum(mu_port))>0,0,(sum(diag(tgammavar_port))/2+sum(mu_port)))\n",
        "desv_portT=(sqrt(sum(diag(tgammavar2_port))/2+gt_port%*%VarDeltaX_port%*%t(gt_port)))\n",
        "VaRT_port_div_DGM=mu_portT+desv_portT*qnorm(1-alpha) #VaR Normal\n",
        "CVaRT_port_div_DGM=mu_portT-desv_portT*dnorm(qnorm(alpha))/(1-alpha)\n",
        "\n",
        "\n",
        "###VaR Cornish Fisher\n",
        "tgammavar3_port=tgammavar2_port%*%(tgammavar_port)\n",
        "asimP_port=sum(diag(tgammavar3_port))+3*gt_port%*%VarDeltaX_port%*%gammat_port%*%VarDeltaX_port%*%t(gt_port) #gamma tercer momento\n",
        "asimP_port=asimP_port/(sqrt(sum(diag(tgammavar2_port))/2+gt_port%*%VarDeltaX_port%*%t(gt_port)))^3  #coef de asimetría\n",
        "VaRstd_port=qnorm(1-alpha)+((qnorm(1-alpha)^2-1)/6)*asimP_port  #VaR estandarizado\n",
        "VaRT_port_div_DGM_CF=mu_portT+desv_portT*VaRstd_port #VaR cf\n",
        "CVaRT_port_div_DGM_CF=mu_portT-desv_portT*dnorm(VaRstd_port)/(pnorm(VaRstd_port))\n",
        "\n",
        "\n",
        "\n",
        "print(VaRT_port_div_DGM)\n",
        "print(CVaRT_port_div_DGM)\n",
        "\n",
        "print(VaRT_port_div_DGM_CF)\n",
        "print(CVaRT_port_div_DGM_CF)"
      ],
      "execution_count": null,
      "outputs": [
        {
          "output_type": "stream",
          "name": "stdout",
          "text": [
            "          [,1]\n",
            "[1,] -449.7078\n",
            "          [,1]\n",
            "[1,] -521.3069\n",
            "          [,1]\n",
            "[1,] -449.7078\n",
            "          [,1]\n",
            "[1,] -521.3069\n"
          ]
        }
      ]
    },
    {
      "cell_type": "markdown",
      "metadata": {
        "id": "6iQL1ik76c43"
      },
      "source": [
        "#### Tasa de interés"
      ]
    },
    {
      "cell_type": "code",
      "metadata": {
        "colab": {
          "base_uri": "https://localhost:8080/"
        },
        "id": "j-w-Omy4jSmO",
        "outputId": "24e6711b-aff8-4b0b-b483-c21c5399566c"
      },
      "source": [
        "%%R\n",
        "\n",
        "dummy_tint = matrix(0,1, ncol(gt_port))\n",
        "dummy_tint[7:sum(n_if[2:3], n_if[4])] = 1\n",
        "dummy_tint[c(169, 170)] = 1\n",
        "dummy_tint[sum(n_if[1:7],1):length(dummy_tint)] = 1 #Cambia dependiendo del factor de riesgo a tomar.\n",
        "gt_port=as.matrix(cbind(g_acc_divt,g_bcct,g_bmt,g_bdt,g_ftdctT,g_findtT,gt_sw,deltaT_oir_T)) #derivada con respecto las X's\n",
        "\n",
        "gt_port = gt_port*dummy_tint\n",
        "gammat_port=matrix(0,sum(n_if),sum(n_if))\n",
        "gammat_port[1:n_if[1],1:n_if[1]]=gamma_acc_divt\n",
        "gammat_port[(sum(n_if[1:1])+1):(sum(n_if[1:2])),(sum(n_if[1:1])+1):(sum(n_if[1:2]))]=gamma_bcct2\n",
        "gammat_port[(sum(n_if[1:2])+1):(sum(n_if[1:3])),(sum(n_if[1:2])+1):(sum(n_if[1:3]))]=gamma_bmt2\n",
        "gammat_port[(sum(n_if[1:3])+1):(sum(n_if[1:4])),(sum(n_if[1:3])+1):(sum(n_if[1:4]))]=gamma_bdt2\n",
        "gammat_port[(sum(n_if[1:4])+1):(sum(n_if[1:5])),(sum(n_if[1:4])+1):(sum(n_if[1:5]))]=gamma_ftdctT2\n",
        "gammat_port[(sum(n_if[1:5])+1):(sum(n_if[1:6])),(sum(n_if[1:5])+1):(sum(n_if[1:6]))]=gamma_findtT2\n",
        "gammat_port[(sum(n_if[1:6])+1):(sum(n_if[1:7])),(sum(n_if[1:6])+1):(sum(n_if[1:7]))]=tgamma_sw\n",
        "gammat_port[(sum(n_if[1:7])+1):(sum(n_if[1:8])),(sum(n_if[1:7])+1):(sum(n_if[1:8]))]=gammaT_oirT2\n",
        "\n",
        "gammat_port = gammat_port * t(dummy_tint)%*%dummy_tint\n",
        "\n",
        "tgammavar_port=(gammat_port%*%VarDeltaX_port)\n",
        "tgammavar2_port=(tgammavar_port)%*%(tgammavar_port) \n",
        "mu_portT=ifelse((sum(diag(tgammavar_port))/2+sum(mu_port))>0,0,(sum(diag(tgammavar_port))/2+sum(mu_port)))\n",
        "desv_portT=(sqrt(sum(diag(tgammavar2_port))/2+gt_port%*%VarDeltaX_port%*%t(gt_port)))\n",
        "VaRT_port_tint_DGM=mu_portT+desv_portT*qnorm(1-alpha) #VaR Normal\n",
        "CVaRT_port_tint_DGM=mu_portT-desv_portT*dnorm(qnorm(alpha))/(1-alpha)\n",
        "\n",
        "\n",
        "###VaR Cornish Fisher\n",
        "tgammavar3_port=tgammavar2_port%*%(tgammavar_port)\n",
        "asimP_port=sum(diag(tgammavar3_port))+3*gt_port%*%VarDeltaX_port%*%gammat_port%*%VarDeltaX_port%*%t(gt_port) #gamma tercer momento\n",
        "asimP_port=asimP_port/(sqrt(sum(diag(tgammavar2_port))/2+gt_port%*%VarDeltaX_port%*%t(gt_port)))^3  #coef de asimetría\n",
        "VaRstd_port=qnorm(1-alpha)+((qnorm(1-alpha)^2-1)/6)*asimP_port  #VaR estandarizado\n",
        "VaRT_port_tint_DGM_CF=mu_portT+desv_portT*VaRstd_port #VaR cf\n",
        "CVaRT_port_tint_DGM_CF=mu_portT-desv_portT*dnorm(VaRstd_port)/(pnorm(VaRstd_port))\n",
        "\n",
        "\n",
        "\n",
        "print(VaRT_port_tint_DGM)\n",
        "print(CVaRT_port_tint_DGM)\n",
        "\n",
        "print(VaRT_port_tint_DGM_CF)\n",
        "print(CVaRT_port_tint_DGM_CF)"
      ],
      "execution_count": null,
      "outputs": [
        {
          "output_type": "stream",
          "name": "stdout",
          "text": [
            "          [,1]\n",
            "[1,] -1347.566\n",
            "          [,1]\n",
            "[1,] -1580.049\n",
            "          [,1]\n",
            "[1,] -1341.849\n",
            "          [,1]\n",
            "[1,] -1574.969\n"
          ]
        }
      ]
    },
    {
      "cell_type": "markdown",
      "metadata": {
        "id": "m3dpWkMEWF58"
      },
      "source": [
        "## Delta-Normal"
      ]
    },
    {
      "cell_type": "markdown",
      "metadata": {
        "id": "LVqL_FOiTz8v"
      },
      "source": [
        "### Acciones y divisas"
      ]
    },
    {
      "cell_type": "markdown",
      "metadata": {
        "id": "bMUcBAp3T23d"
      },
      "source": [
        "#### Por factor de riesgo"
      ]
    },
    {
      "cell_type": "code",
      "metadata": {
        "id": "R6CufXvTT9m-",
        "colab": {
          "base_uri": "https://localhost:8080/"
        },
        "outputId": "f189b6ad-7e24-40ae-99e1-47f137bd6077"
      },
      "source": [
        "%%R\n",
        "VaRDNfr_acc = qnorm(1-alpha)*sqrt(g_acct*g_acct*desvest_acc*desvest_acc) \n",
        "VaRDNfr_div = qnorm(1-alpha)*sqrt(g_divt*g_divt*desvest_div*desvest_div) \n",
        "\n",
        "CVaRDNfr_acc = (dnorm(qnorm(1-alpha))/(1-alpha))*sqrt(g_acct*g_acct*desvest_acc*desvest_acc)*-1\n",
        "CVaRDNfr_div = (dnorm(qnorm(1-alpha))/(1-alpha))*sqrt(g_divt*g_divt*desvest_div*desvest_div)*-1\n",
        "\n",
        "print('VaR por factor de riesgo de acciones Delta Normal')\n",
        "print(VaRDNfr_acc)\n",
        "print('CVaR por factor de riesgo de acciones Delta Normal')\n",
        "print(CVaRDNfr_acc)\n",
        "print('VaR por factor de riesgo de divisas Delta Normal')\n",
        "print(VaRDNfr_div)\n",
        "print('CVaR por factor de riesgo de divisas Delta Normal')\n",
        "print(CVaRDNfr_div)"
      ],
      "execution_count": null,
      "outputs": [
        {
          "output_type": "stream",
          "name": "stdout",
          "text": [
            "[1] \"VaR por factor de riesgo de acciones Delta Normal\"\n",
            "     AMXL.MX GCARSOA1.MX WALMEX.MX\n",
            "1: -2864.347   -3468.902 -2978.942\n",
            "[1] \"CVaR por factor de riesgo de acciones Delta Normal\"\n",
            "     AMXL.MX GCARSOA1.MX WALMEX.MX\n",
            "1: -3376.419   -4089.053 -3511.501\n",
            "[1] \"VaR por factor de riesgo de divisas Delta Normal\"\n",
            "    EURUSD.X  GBPUSD.X  USDMXN.X\n",
            "1: -157.1863 -159.9017 -357.3584\n",
            "[1] \"CVaR por factor de riesgo de divisas Delta Normal\"\n",
            "    EURUSD.X GBPUSD.X  USDMXN.X\n",
            "1: -185.2872 -188.488 -421.2449\n"
          ]
        }
      ]
    },
    {
      "cell_type": "markdown",
      "metadata": {
        "id": "ehm9D7JET5ou"
      },
      "source": [
        "#### Total"
      ]
    },
    {
      "cell_type": "code",
      "metadata": {
        "id": "FJaLRGCDT_j-",
        "colab": {
          "base_uri": "https://localhost:8080/"
        },
        "outputId": "465767f4-d542-4057-db54-0080a1316437"
      },
      "source": [
        "%%R\n",
        "VaRDNTotal_acc = sqrt(as.matrix(g_acct)%*%VarCovX_acc%*%t(as.matrix(g_acct)))*qnorm(1-alpha)\n",
        "CVaRDNTotal_acc = sqrt(as.matrix(g_acct)%*%VarCovX_acc%*%t(as.matrix(g_acct)))*dnorm(qnorm(1-alpha))/(1-alpha)*-1\n",
        "\n",
        "VaRDNTotal_div = sqrt(as.matrix(g_divt)%*%VarCovX_div%*%t(as.matrix(g_divt)))*qnorm(1-alpha)\n",
        "CVaRDNTotal_div = sqrt(as.matrix(g_divt)%*%VarCovX_div%*%t(as.matrix(g_divt)))*dnorm(qnorm(1-alpha))/(1-alpha)*-1\n",
        "\n",
        "print('VaR Total de acciones Delta Normal')\n",
        "print(VaRDNTotal_acc)\n",
        "print('CVaR Total de acciones Delta Normal')\n",
        "print(CVaRDNTotal_acc)\n",
        "print('VaR Total de divisas Delta Normal')\n",
        "print(VaRDNTotal_div)\n",
        "print('CVaR Total de divisas Delta Normal')\n",
        "print(CVaRDNTotal_div)"
      ],
      "execution_count": null,
      "outputs": [
        {
          "output_type": "stream",
          "name": "stdout",
          "text": [
            "[1] \"VaR Total de acciones Delta Normal\"\n",
            "          [,1]\n",
            "[1,] -4824.416\n",
            "[1] \"CVaR Total de acciones Delta Normal\"\n",
            "          [,1]\n",
            "[1,] -5686.899\n",
            "[1] \"VaR Total de divisas Delta Normal\"\n",
            "          [,1]\n",
            "[1,] -376.8845\n",
            "[1] \"CVaR Total de divisas Delta Normal\"\n",
            "          [,1]\n",
            "[1,] -444.2619\n"
          ]
        }
      ]
    },
    {
      "cell_type": "markdown",
      "metadata": {
        "id": "Zdj2kU1ThS38"
      },
      "source": [
        "### CETES"
      ]
    },
    {
      "cell_type": "code",
      "metadata": {
        "id": "fc3Tl0AZhVqA",
        "colab": {
          "base_uri": "https://localhost:8080/"
        },
        "outputId": "c58338f8-0c08-4345-ddca-cc7c5c0615aa"
      },
      "source": [
        "%%R\n",
        "VaRDN_bcc = (mu_bcc[1,1] + qnorm(1-alpha)*sqrt(g_bcct[1,1]^2*desvest_bcc^2))\n",
        "print(VaRDN_bcc)\n",
        "CVaRDN_bcc = (mu_bcc[1,1] + dnorm(qnorm(1-alpha))/(1-alpha)*sqrt(g_bcct[1,1]^2*desvest_bcc^2)*-1)\n",
        "print(CVaRDN_bcc)"
      ],
      "execution_count": null,
      "outputs": [
        {
          "output_type": "stream",
          "name": "stdout",
          "text": [
            "[1] -10.18972\n",
            "[1] -11.4639\n"
          ]
        }
      ]
    },
    {
      "cell_type": "markdown",
      "metadata": {
        "id": "NQ_VI04qo54h"
      },
      "source": [
        "### Bondes D"
      ]
    },
    {
      "cell_type": "markdown",
      "metadata": {
        "id": "4zHwEPdho9Wg"
      },
      "source": [
        "#### Por contrato"
      ]
    },
    {
      "cell_type": "code",
      "metadata": {
        "id": "HnAYUFACpztX",
        "colab": {
          "base_uri": "https://localhost:8080/"
        },
        "outputId": "3a7d15d4-41c5-4a37-d9e0-04327e04849c"
      },
      "source": [
        "%%R\n",
        "DeltaX_bd_tc=X_bd_tc[1:(n-1),]/X_bd_tc[2:n,]-1\n",
        "DeltaXvp_bd=Xvp_bd[1:(n-1),]/Xvp_bd[2:n,]-1\n",
        "DeltaXst_bdt=Xst_bd[1:(n-1),]/Xst_bd[2:n,]-1\n",
        "\n",
        "VaRcontDN_bd=matrix(0,1,count(N_bd))\n",
        "CVaRcontDN_bd=matrix(0,1,count(N_bd))\n",
        "\n",
        "for (j in (1:count(N_bd)))\n",
        "{\n",
        "  if(j==1)\n",
        "  {\n",
        "    mucont_bd=sum(mu_bd[j])\n",
        "    gcont_bd=as.matrix(c(V0f_dtc_bd[1:sum(N_bd[1:j])],V0f_dvp_bd[1:sum(N_bd[1:j])],V0f_dst_bd[1:sum(N_bd[1:j])]))\n",
        "    gtcont_bd=t(as.matrix(gcont_bd*x0cont_bd))\n",
        "    VarCovXcont_bd=cov(cbind(DeltaX_bd_tc[,1:sum(N_bd[1:j])],DeltaXvp_bd[,1:sum(N_bd[1:j])],DeltaXst_bdt[,1:sum(N_bd[1:j])]))*(n-1)/(n-2)\t\n",
        "  }\n",
        "  else\n",
        "  {\n",
        "    mucont_bd=sum(mu_bd[j])\n",
        "    gcont_bd=as.matrix(c(V0f_dtc_bd[sum(N_bd[1:j-1],1):sum(N_bd[1:j])],V0f_dvp_bd[sum(N_bd[1:j-1],1):sum(N_bd[1:j])],V0f_dst_bd[sum(N_bd[1:j-1],1):sum(N_bd[1:j])]))\n",
        "    gtcont_bd=t(as.matrix(gcont_bd*x0cont_bd))\n",
        "    VarCovXcont_bd=cov(cbind(DeltaX_bd_tc[,sum(N_bd[1:j-1],1):sum(N_bd[1:j])],DeltaXvp_bd[,sum(N_bd[1:j-1],1):sum(N_bd[1:j])],DeltaXst_bdt[,sum(N_bd[1:j-1],1):sum(N_bd[1:j])]))*(n-1)/(n-2)\n",
        "  }\n",
        "  \n",
        "  \n",
        "  \n",
        "  #VaR Delta Normal\n",
        "  VaRcontDN_bd[j]=sum(mucont_bd)+sqrt(gtcont_bd%*%VarCovXcont_bd%*%t(gtcont_bd))*qnorm(1-alpha)\n",
        "  CVaRcontDN_bd[j]=sum(mucont_bd)+sqrt(gtcont_bd%*%VarCovXcont_bd%*%t(gtcont_bd))*dnorm(qnorm(1-alpha))/(1-alpha)*-1\n",
        "}\n",
        "\n",
        "print(\"VaR por contrato Delta Normal\")\n",
        "print(VaRcontDN_bd[1,1])\n",
        "print(\"CVaR por contrato Delta Normal\")\n",
        "print(CVaRcontDN_bd[1,1])"
      ],
      "execution_count": null,
      "outputs": [
        {
          "output_type": "stream",
          "name": "stdout",
          "text": [
            "[1] \"VaR por contrato Delta Normal\"\n",
            "[1] -442.7493\n",
            "[1] \"CVaR por contrato Delta Normal\"\n",
            "[1] -526.1521\n"
          ]
        }
      ]
    },
    {
      "cell_type": "markdown",
      "metadata": {
        "id": "o-S6N2u2xMNr"
      },
      "source": [
        "#### Por contrato factor de riesgo total"
      ]
    },
    {
      "cell_type": "code",
      "metadata": {
        "id": "RxVfBJIaxNbj",
        "colab": {
          "base_uri": "https://localhost:8080/"
        },
        "outputId": "30e0e8b8-ccc4-43d6-d905-d99f4f0cb722"
      },
      "source": [
        "%%R\n",
        "WFR_bd=rbind(c(X_bd_tc[1,],Xvp_bd[1,], Xst_bd[1,]*0),c( X_bd_tc[1,],Xvp_bd[1,]*0, Xst_bd[1,]), c( X_bd_tc[1,]*0,Xvp_bd[1,], Xst_bd[1,]))\n",
        "VaRFrDN_bd=matrix(0,1,3)\n",
        "CVaRFrDN_bd=matrix(0,1,3)\n",
        "\n",
        "for (j in (1:3))\n",
        "{ \n",
        "    g_bd=cbind(V0f_dtc_bd, V0f_dvp_bd, V0f_dst_bd)\n",
        "    \n",
        "    #Multiplicación de la derivada por el punto x0\n",
        "    gt_bd=WFR_bd[j,]*g_bd\n",
        "    VaRFrDN_bd[j]=sqrt(gt_bd%*%VarCovX_bd_ext%*%t(gt_bd))*qnorm(1-alpha)\n",
        "    CVaRFrDN_bd[j]=-sqrt(gt_bd%*%VarCovX_bd_ext%*%t(gt_bd))*dnorm(qnorm(1-alpha))/(1-alpha)\n",
        "}\n",
        "print(\"VaR por contrato fr total\")\n",
        "print(VaRFrDN_bd)\n",
        "print(\"CVaR por contrato fr total\")\n",
        "print(CVaRFrDN_bd)\n"
      ],
      "execution_count": null,
      "outputs": [
        {
          "output_type": "stream",
          "name": "stdout",
          "text": [
            "[1] \"VaR por contrato fr total\"\n",
            "          [,1]      [,2]      [,3]\n",
            "[1,] -421.5042 -371.7574 -300.5735\n",
            "[1] \"CVaR por contrato fr total\"\n",
            "          [,1]      [,2]      [,3]\n",
            "[1,] -496.8584 -438.2181 -354.3083\n"
          ]
        }
      ]
    },
    {
      "cell_type": "markdown",
      "metadata": {
        "id": "7VXVBVoh5DcU"
      },
      "source": [
        "#### Contrato Factor de riesgo marginal"
      ]
    },
    {
      "cell_type": "code",
      "metadata": {
        "id": "Tg3mA2LV5JJP",
        "colab": {
          "base_uri": "https://localhost:8080/"
        },
        "outputId": "2e528a70-71f7-43cd-97b6-f639b8ff530e"
      },
      "source": [
        "%%R\n",
        "VaRcontfrDN_bd=matrix(0,3,count(N_bd))\n",
        "CVaRcontfrDN_bd=matrix(0,3,count(N_bd))\n",
        "WFRcont_bd <- rbind(c(1,0,0), c(0,1,0), c(0,0,1))\n",
        "\n",
        "for (j in (1:count(N_bd)))\n",
        "{\n",
        "    for(k in (1:3)){\n",
        "        if(j==1)\n",
        "  {\n",
        "    mucont_bd=sum(mu_bd[j])\n",
        "    gcont_bd=as.matrix(c(V0f_dtc_bd[1:sum(N_bd[1:j])],V0f_dvp_bd[1:sum(N_bd[1:j])],V0f_dst_bd[1:sum(N_bd[1:j])]))\n",
        "    gtcont_bd=t(as.matrix(gcont_bd*c(X_bd_tc[1,1:sum(N_bd[1:j])]*WFRcont_bd[k,1],Xvp_bd[1,1:sum(N_bd[1:j])]*WFRcont_bd[k,2], Xst_bd[1,1:sum(N_bd[1:j])]*WFRcont_bd[k,3])))\n",
        "    VarCovXcont_bd=cov(cbind(DeltaX_bd_tc[,1:sum(N_bd[1:j])],DeltaXvp_bd[,1:sum(N_bd[1:j])],DeltaXst_bdt[,1:sum(N_bd[1:j])]))*(n-1)/(n-2)\t\n",
        "  }\n",
        "  else\n",
        "  {\n",
        "    mucont_bd=sum(mu_bd[j])\n",
        "    gcont_bd=as.matrix(c(V0f_dtc_bd[sum(N_bd[1:j-1],1):sum(N_bd[1:j])],V0f_dvp_bd[sum(N_bd[1:j-1],1):sum(N_bd[1:j])],V0f_dst_bd[sum(N_bd[1:j-1],1):sum(N_bd[1:j])]))\n",
        "    gtcont_bd=t(as.matrix(gcont_bd*c(X_bd_tc[1,sum(N_bd[1:j-1]+1):sum(N_bd[1:j])]*WFRcont_bd[k,1],Xvp_bd[1,sum(N_bd[1:j-1]+1):sum(N_bd[1:j])]*WFRcont_bd[k,2], Xst_bd[1,sum(N_bd[1:j-1]+1):sum(N_bd[1:j])]*WFRcont_bd[k,3])))\n",
        "    VarCovXcont_bd=cov(cbind(DeltaX_bd_tc[,sum(N_bd[1:j-1],1):sum(N_bd[1:j])],DeltaXvp_bd[,sum(N_bd[1:j-1],1):sum(N_bd[1:j])],DeltaXst_bdt[,sum(N_bd[1:j-1],1):sum(N_bd[1:j])]))*(n-1)/(n-2)\n",
        "  }\n",
        "\n",
        "  #VaR Delta Normal\n",
        "  VaRcontfrDN_bd[k,j]=sum(mucont_bd)+sqrt(gtcont_bd%*%VarCovXcont_bd%*%t(gtcont_bd))*qnorm(1-alpha)\n",
        "  CVaRcontfrDN_bd[k,j]=sum(mucont_bd)-sqrt(gtcont_bd%*%VarCovXcont_bd%*%t(gtcont_bd))*dnorm(qnorm(1-alpha))/(1-alpha)\n",
        "}\n",
        "}\n",
        "\n",
        "print(\"VaR por contrato fr Delta Normal\")\n",
        "print(VaRcontfrDN_bd[,1])\n",
        "print(\"CVaR por contrato fr Delta Normal\")\n",
        "print(CVaRcontfrDN_bd[,1])"
      ],
      "execution_count": null,
      "outputs": [
        {
          "output_type": "stream",
          "name": "stdout",
          "text": [
            "[1] \"VaR por contrato fr Delta Normal\"\n",
            "[1] -341.54676 -196.99378  -56.02897\n",
            "[1] \"CVaR por contrato fr Delta Normal\"\n",
            "[1] -406.85707 -236.46171  -70.29599\n"
          ]
        }
      ]
    },
    {
      "cell_type": "markdown",
      "metadata": {
        "id": "d3HpmeZF-Vvm"
      },
      "source": [
        "#### Total"
      ]
    },
    {
      "cell_type": "code",
      "metadata": {
        "id": "gayj6B0T-YRo",
        "colab": {
          "base_uri": "https://localhost:8080/"
        },
        "outputId": "12b97531-6954-4a2f-c584-73a2a6abf811"
      },
      "source": [
        "%%R\n",
        "#Evalución de las derivada en el punto x0\n",
        "\n",
        "g_bd=cbind(V0f_dtc_bd, V0f_dvp_bd, V0f_dst_bd)\n",
        "\n",
        "#Multiplicación de la derivada por el punto x0\n",
        "gt_bd= c(X_bd_tc[1,],Xvp_bd[1,], Xst_bd[1,])*g_bd\n",
        "VaRTotalDN_bd=sqrt(gt_bd%*%VarCovX_bd_ext%*%t(gt_bd))*qnorm(1-alpha)+sum(d_bondeD_t(contratos_bdmT, nominal_bdm, tf_act, plazocupon_bdmT, VTplazos_bdm, Xvp_bd[1,], Xst_bd[1,], N_bd,ddv))\n",
        "CVaRTotalDN_bd = -sqrt(gt_bd%*%VarCovX_bd_ext%*%t(gt_bd))*dnorm(qnorm(1-alpha))/(1-alpha)+sum(d_bondeD_t(contratos_bdmT, nominal_bdm, tf_act, plazocupon_bdmT, VTplazos_bdm, Xvp_bd[1,], Xst_bd[1,], N_bd,ddv))\n",
        "\n",
        "\n",
        "print(\"VaR Total Delta Normal\")\n",
        "print(VaRTotalDN_bd)\n",
        "print(\"CVaR Total Delta Normal\")\n",
        "print(CVaRTotalDN_bd)"
      ],
      "execution_count": null,
      "outputs": [
        {
          "output_type": "stream",
          "name": "stdout",
          "text": [
            "[1] \"VaR Total Delta Normal\"\n",
            "          [,1]\n",
            "[1,] -442.7493\n",
            "[1] \"CVaR Total Delta Normal\"\n",
            "          [,1]\n",
            "[1,] -526.1521\n"
          ]
        }
      ]
    },
    {
      "cell_type": "markdown",
      "metadata": {
        "id": "WwsLEuQt-clm"
      },
      "source": [
        "###Forwards de tipo de cambio"
      ]
    },
    {
      "cell_type": "markdown",
      "metadata": {
        "id": "d3cLgVAAApC_"
      },
      "source": [
        "####Por contrato"
      ]
    },
    {
      "cell_type": "code",
      "metadata": {
        "id": "5E0HgTd5AgJK",
        "colab": {
          "base_uri": "https://localhost:8080/"
        },
        "outputId": "9588b19f-cb04-4900-bc2d-d63f6761b38f"
      },
      "source": [
        "%%R\n",
        "\n",
        "\n",
        "\n",
        "#Cálculo de matriz de pérdidas y ganancias FUTUROS TDC\n",
        "\n",
        "#Cálculo de VaR por contrato\n",
        "#creación de matrices de VaR, gamma, VaRCF por contrato\n",
        "DeltaX_ftdc=DeltaX_port[,(sum(n_if[1:4],1)):(sum(n_if[1:5]))] \n",
        "m_ftdc=ncol(plazos_fwd)\n",
        "m=ncol(plazos_fwd)\n",
        "VaRmargc_ftdc=matrix(0,1,m) #Var por contrato Delta Normal\n",
        "VaRmargcstd_ftdc=matrix(0,1,m) #Var por contrato estandarizado \n",
        "\n",
        "CVaRmargc_ftdc=matrix(0,1,m) #CVar por contrato estandarizado\n",
        "\n",
        "##factores riesgo\n",
        "#Spot\n",
        "VaRmargc_fr_ftdc=matrix(0,3,m) #Var por contrato Delta Normal\n",
        "VaRmargcstd_fr_ftdc=matrix(0,3,m) #Var por contrato estandarizado \n",
        "\n",
        "CVaRmargc_fr_ftdc=matrix(0,3,m) #CVar por contrato estandarizado\n",
        "\n",
        "WFR=diagv(c(1,1,1))\n",
        "\n",
        "\n",
        "for (i in 1:(m))\n",
        "{\n",
        "  delta_ftdc=t(g_ftdc[seq(i,m*3,by=m)]) \n",
        "  tdelta_ftdc=t(g_ftdc[seq(i,m*3,by=m)])*xp_ftdc[seq(i,m*3,by=m)]   #delta tilde\n",
        "  gamma_ftdc=mgamma_futTC(plazos_fwd[i],X1_fwtdc[1,i],X2_fwtdc[1,i],X3_ftdc[1,],kst_fwd[i],contratos_fwd[i],nominal_fwd)  #paso clave\n",
        "  tgamma_ftdc=xp_ftdc[seq(i,m*3,by=m)]%*%t(xp_ftdc[seq(i,m*3,by=m)])*gamma_ftdc #gamma tilde\n",
        "  Varmargcaux_ftdc=cov(DeltaX_ftdc[,seq(i,m*3,by=m)])*((n)/(n-1)) #matriz varcov factores de riesgo de cada contrato\n",
        "  tgammavar_ftdc=(tgamma_ftdc%*%Varmargcaux_ftdc)\n",
        "  tgammavar2_ftdc=(tgamma_ftdc%*%Varmargcaux_ftdc)%*%(tgamma_ftdc%*%Varmargcaux_ftdc)  \n",
        "  mudg_ftdc=ifelse((sum(diag(tgammavar_ftdc))/2+mu_ftdc[i])>0,0,(sum(diag(tgammavar_ftdc))/2+mu_ftdc[i]))\n",
        "  desv_ftdc=sqrt(tdelta_ftdc%*%Varmargcaux_ftdc%*%t(tdelta_ftdc))\n",
        "\n",
        "  VaRmargc_ftdc[i]=mudg_ftdc+desv_ftdc*qnorm(1-alpha) #VaR Normal por contrato\n",
        "  CVaRmargc_ftdc[i]=-mudg_ftdc-desv_ftdc*(dnorm(qnorm(1-alpha))/(1-alpha))\n",
        "  \n",
        "  tgammavar3_ftdc=tgammavar2_ftdc%*%(tgamma_ftdc%*%Varmargcaux_ftdc)\n",
        "  asimPmargc_ftdc=sum(diag(tgammavar3_ftdc))+3*tdelta_ftdc%*%Varmargcaux_ftdc%*%tgamma_ftdc%*%Varmargcaux_ftdc%*%t(tdelta_ftdc) #tercer momento\n",
        "  asimPmargc_ftdc=asimPmargc_ftdc/(desv_ftdc)^3  #coef de asimetría\n",
        "  VaRmargcstd_ftdc[i]=qnorm(1-alpha)+((qnorm(1-alpha)^2-1)/6)*asimPmargc_ftdc  #VaR estandarizado\n",
        "  \n",
        "\n",
        "#Por factor de riesgo y por contrato\n",
        "#spot, tasa extranjera, tasa nacional\n",
        "  for (j in 1:3)\n",
        "  {\n",
        "    WFRM=matrix(0,3,3)  #PASO CLAVE\n",
        "    WFRM[j,j]=1  #PASO CLAVE\n",
        "    delta_ftdc=t(g_ftdc[seq(i,m*3,by=m)])*WFR[j,] #PASO CLAVE *(1,0,0), (0,1,0), (0,0,1)\n",
        "    #print(WFR[j,])\n",
        "    tdelta_ftdc=t(g_ftdc[seq(i,m*3,by=m)])*xp_ftdc[seq(i,m*3,by=m)]*WFR[j,]   #delta tilde #PASO CLAVE\n",
        "    gamma_ftdc=mgamma_futTC(plazos_fwd[i],X1_fwtdc[1,i],X2_fwtdc[1,i],X3_ftdc[1,],kst_fwd[i],contratos_fwd[i],nominal_fwd)*WFRM  #paso clave\n",
        "   #print(WFRM)\n",
        "    tgamma_ftdc=xp_ftdc[seq(i,m*3,by=m)]%*%t(xp_ftdc[seq(i,m*3,by=m)])*gamma_ftdc #gamma tilde\n",
        "    Varmargcaux_ftdc=cov(DeltaX_ftdc[,seq(i,m*3,by=m)])*((n)/(n-1)) #matriz varcov factores de riesgo de cada contrato\n",
        "    tgammavar_ftdc=(tgamma_ftdc%*%Varmargcaux_ftdc)\n",
        "    tgammavar2_ftdc=(tgamma_ftdc%*%Varmargcaux_ftdc)%*%(tgamma_ftdc%*%Varmargcaux_ftdc)  \n",
        "    #mudg_ftdc=sum(diag(tgammavar_ftdc))/2+mu_ftdc[i]\n",
        "    mudg_ftdc=0\n",
        "    desv_ftdc=sqrt(tdelta_ftdc%*%Varmargcaux_ftdc%*%t(tdelta_ftdc))\n",
        "\n",
        "    VaRmargc_fr_ftdc[j,i]=mudg_ftdc+desv_ftdc*qnorm(1-alpha) #VaR Normal por contrato\n",
        "    CVaRmargc_fr_ftdc[j,i]=-mudg_ftdc-desv_ftdc*(dnorm(qnorm(1-alpha))/(1-alpha))\n",
        "    \n",
        "    tgammavar3_ftdc=tgammavar2_ftdc%*%(tgamma_ftdc%*%Varmargcaux_ftdc)\n",
        "    asimPmargc_ftdc=sum(diag(tgammavar3_ftdc))+3*tdelta_ftdc%*%Varmargcaux_ftdc%*%tgamma_ftdc%*%Varmargcaux_ftdc%*%t(tdelta_ftdc) #tercer momento\n",
        "    asimPmargc_ftdc=asimPmargc_ftdc/(desv_ftdc)^3  #coef de asimetría\n",
        "    VaRmargcstd_fr_ftdc[j,i]=qnorm(1-alpha)+((qnorm(1-alpha)^2-1)/6)*asimPmargc_ftdc  #VaR estandarizado\n",
        "    \n",
        "  }\n",
        "\n",
        "\n",
        "\n",
        "}\n",
        "print(\"Valor a nivel contrato\")\n",
        "print(V0_fwtdc)\n",
        "print(\"VaR a nivel contrato\")\n",
        "print(VaRmargc_ftdc)\n",
        "\n",
        "print(\"CVaR a nivel contrato\")\n",
        "print(CVaRmargc_ftdc)\n",
        "\n",
        "\n",
        "\n",
        "print(\"VaR a nivel contrato\")\n",
        "print(VaRmargc_fr_ftdc)\n",
        "\n",
        "print(\"CVaR a nivel contrato\")\n",
        "print(CVaRmargc_fr_ftdc)\n",
        "\n"
      ],
      "execution_count": null,
      "outputs": [
        {
          "output_type": "stream",
          "name": "stdout",
          "text": [
            "[1] \"Valor a nivel contrato\"\n",
            "          [,1]\n",
            "[1,] -85.61414\n",
            "[1] \"VaR a nivel contrato\"\n",
            "          [,1]\n",
            "[1,] -23.85918\n",
            "[1] \"CVaR a nivel contrato\"\n",
            "          [,1]\n",
            "[1,] -28.12459\n",
            "[1] \"VaR a nivel contrato\"\n",
            "              [,1]\n",
            "[1,] -23.858347703\n",
            "[2,]  -0.008996254\n",
            "[3,]  -0.039089948\n",
            "[1] \"CVaR a nivel contrato\"\n",
            "             [,1]\n",
            "[1,] -28.12361129\n",
            "[2,]  -0.01060455\n",
            "[3,]  -0.04607823\n"
          ]
        }
      ]
    },
    {
      "cell_type": "markdown",
      "metadata": {
        "id": "8HcJYZEiAw53"
      },
      "source": [
        "####Total\n",
        "\n",
        "\n",
        "\n"
      ]
    },
    {
      "cell_type": "code",
      "metadata": {
        "id": "OlR3z7PUA55d",
        "colab": {
          "base_uri": "https://localhost:8080/"
        },
        "outputId": "7daaa46a-0e7e-4016-d5e1-2af689d6d959"
      },
      "source": [
        "\n",
        "%%R\n",
        "\n",
        "\n",
        "#RIESGO TOTAL FORWARDS DE TIPO DE CAMBIO\n",
        "\n",
        "VarDeltaX_ftdc=cov(DeltaX_ftdc)*(n/(n-1))\n",
        "\n",
        "tgammavar_ftdc=(gamma_ftdctT2%*%VarDeltaX_ftdc)\n",
        "tgammavar2_ftdc=(tgammavar_ftdc)%*%(tgammavar_ftdc) \n",
        "mudg_ftdc=ifelse((sum(diag(tgammavar_ftdc))/2+sum(mu_ftdc))>0,0,(sum(diag(tgammavar_ftdc))/2+sum(mu_ftdc)))\n",
        "desv_ftdcDN=sqrt(g_ftdctT%*%VarDeltaX_ftdc%*%t(g_ftdctT))\n",
        "\n",
        "VaRT_ftdc_DN=(mudg_ftdc)+(desv_ftdcDN)*qnorm(1-alpha)  #VaR Normal\n",
        "CVaRT_ftdc_DN=-(mudg_ftdc)-(desv_ftdcDN)*dnorm(qnorm(alpha))/(1-alpha)\n",
        "\n",
        "\n",
        "###VaR Cornish Fisher\n",
        "tgammavar3_ftdc=tgammavar2_ftdc%*%(tgammavar_ftdc)\n",
        "asimP_ftdc=sum(diag(tgammavar3_ftdc))+3*g_ftdctT%*%VarDeltaX_ftdc%*%gamma_ftdctT2%*%VarDeltaX_ftdc%*%t(g_ftdctT) #gamma tercer momento\n",
        "asimP_ftdc=asimP_ftdc/(desv_ftdcDN)^3  #coef de asimetría\n",
        "VaRstd_ftdc=qnorm(1-alpha)+((qnorm(1-alpha)^2-1)/6)*asimP_ftdc  #VaR estandarizado\n",
        "\n",
        "\n",
        "\n",
        "\n",
        "\n",
        "VaRT_fr_ftdc_DN=matrix(0,1,3)\n",
        "CVaRT_fr_ftdc_DN=matrix(0,1,3)\n",
        "\n",
        "\n",
        "WFRT=matrix(0,3,(m*3))\n",
        "# WFRT[1,1:m]=matrix(1,1,m)\n",
        "# WFRT[2,(m+1):(2*m)]=matrix(1,1,m)\n",
        "# WFRT[3,(2*m+1):(3*m)]=matrix(1,1,m)\n",
        "\n",
        "\n",
        "#RIESGO TOTAL POR FACTOR DE RIESGO DE FORWARDS DE TIPO DE CAMBIO\n",
        "\n",
        "for (j in (1:3))\n",
        "{\n",
        "WFRT[j,((j-1)*m+1):(j*m)]=matrix(1,1,m)    #Matriz de diseño para \n",
        "WFRM=matrix(0,(m*3),(m*3))  #PASO CLAVE\n",
        "WFRM[((j-1)*m+1):(m*j),((j-1)*m+1):(m*j)]=matrix(1,m,m)  #PASO CLAVE    \n",
        "gamma_ftdctT2_fr=gamma_ftdctT2*WFRM #evaluación de gamma multiplicado por x^{2}\n",
        "g_ftdctT_fr=g_ftdctT*WFRT[j,]\n",
        "# print(WFRM)\n",
        "# print(g_ftdctT_fr)\n",
        "# print(gamma_ftdctT2_fr)\n",
        "# print(WFRT)\n",
        "tgammavar_ftdc=(gamma_ftdctT2_fr%*%VarDeltaX_ftdc)\n",
        "tgammavar2_ftdc=(tgammavar_ftdc)%*%(tgammavar_ftdc) \n",
        "#mudg_ftdc=sum(diag(tgammavar_ftdc))/2+sum(mu_ftdc)\n",
        "mudg_ftdc=0\n",
        "desv_ftdcDN=sqrt(g_ftdctT_fr%*%VarDeltaX_ftdc%*%t(g_ftdctT_fr))\n",
        "VaRT_fr_ftdc_DN[j]=(mudg_ftdc)+(desv_ftdcDN)*qnorm(1-alpha) #VaR Normal\n",
        "CVaRT_fr_ftdc_DN[j]=-(mudg_ftdc)-(desv_ftdcDN)*dnorm(qnorm(alpha))/(1-alpha)\n",
        "\n",
        "\n",
        "###VaR Cornish Fisher\n",
        "tgammavar3_ftdc=tgammavar2_ftdc%*%(tgammavar_ftdc)\n",
        "asimP_ftdc=sum(diag(tgammavar3_ftdc))+3*g_ftdctT_fr%*%VarDeltaX_ftdc%*%gamma_ftdctT2_fr%*%VarDeltaX_ftdc%*%t(g_ftdctT_fr) #gamma tercer momento\n",
        " #print(asimP_ftdc)\n",
        "asimP_ftdc=asimP_ftdc/(desv_ftdcDN)^3  #coef de asimetría\n",
        " \n",
        "VaRstd_ftdc=qnorm(1-alpha)+((qnorm(1-alpha)^2-1)/6)*asimP_ftdc  #VaR estandarizado\n",
        "#print(VaRstd_ftdc)\n",
        "\n",
        "\n",
        "\n",
        "}\n",
        "print(\"VaR total Delta Normal\")\n",
        "print(VaRT_ftdc_DN)\n",
        "print(\"CVaR total Delta Normal\")\n",
        "print(CVaRT_ftdc_DN)\n",
        "print(\"VaR total Delta Normal por factor de riesgo\")\n",
        "print(VaRT_fr_ftdc_DN)\n",
        "print(\"CVaR total Delta Normal por factor de riesgo\")\n",
        "print(CVaRT_fr_ftdc_DN)\n",
        "\n",
        "\n",
        "\n",
        "\n",
        "\n",
        "# cbind(VaRTotal_fwtdc,sum(V0_fwtdc), VaRCont_fwtdc, V0_fwtdc)\n",
        "# cbind(CVaRTotal_fwtdc,sum(V0_fwtdc), CVaRCont_fwtdc, V0_fwtdc)\n",
        "# cbind(VaRTotal_fwtdc,VaRTotalfr1_fwtdc,VaRTotalfr2_fwtdc,VaRTotalfr3_fwtdc)\n",
        "# cbind(CVaRTotal_fwtdc,CVaRTotalfr1_fwtdc,CVaRTotalfr2_fwtdc,CVaRTotalfr3_fwtdc)"
      ],
      "execution_count": null,
      "outputs": [
        {
          "output_type": "stream",
          "name": "stdout",
          "text": [
            "[1] \"VaR total Delta Normal\"\n",
            "          [,1]\n",
            "[1,] -23.85918\n",
            "[1] \"CVaR total Delta Normal\"\n",
            "          [,1]\n",
            "[1,] -28.12459\n",
            "[1] \"VaR total Delta Normal por factor de riesgo\"\n",
            "          [,1]         [,2]        [,3]\n",
            "[1,] -23.85835 -0.008996254 -0.03908995\n",
            "[1] \"CVaR total Delta Normal por factor de riesgo\"\n",
            "          [,1]        [,2]        [,3]\n",
            "[1,] -28.12361 -0.01060455 -0.04607823\n"
          ]
        }
      ]
    },
    {
      "cell_type": "markdown",
      "metadata": {
        "id": "9aarG1ws-mjF"
      },
      "source": [
        "###Forwards IPC"
      ]
    },
    {
      "cell_type": "markdown",
      "metadata": {
        "id": "Kj7b7KKWUcL1"
      },
      "source": [
        "#####Por contrato\n"
      ]
    },
    {
      "cell_type": "code",
      "metadata": {
        "id": "JBJtcO1pBPJe",
        "colab": {
          "base_uri": "https://localhost:8080/"
        },
        "outputId": "4f9a13dc-31e1-4418-ec9c-a03e7c19377b"
      },
      "source": [
        "%%R\n",
        "\n",
        "DeltaX_find=DeltaX_port[,(sum(n_if[1:5],1)):(sum(n_if[1:6]))] \n",
        "m=ncol(plazos_fwd_ind)\n",
        "m_find=ncol(plazos_fwd_ind)\n",
        "VaRmargc_find=matrix(0,1,m) #Var por contrato Delta Normal\n",
        "VaRmargcstd_find=matrix(0,1,m) #Var por contrato estandarizado \n",
        "CVaRmargc_find=matrix(0,1,m) #CVar por contrato estandarizado\n",
        "\n",
        "##factores riesgo\n",
        "#Spot\n",
        "VaRmargc_fr_find=matrix(0,3,m) #Var por contrato Delta Normal\n",
        "VaRmargcstd_fr_find=matrix(0,3,m) #Var por contrato estandarizado \n",
        "\n",
        "CVaRmargc_fr_find=matrix(0,3,m) #CVar por contrato estandarizado\n",
        "\n",
        "WFR=diagv(c(1,1,1))\n",
        "\n",
        "\n",
        "for (i in 1:(m))\n",
        "{\n",
        "  delta_find=t(g_find[seq(i,m*3,by=m)]) \n",
        "  tdelta_find=t(g_find[seq(i,m*3,by=m)])*xp_find[seq(i,m*3,by=m)]   #delta tilde\n",
        "  gamma_find=mgamma_futTC(plazos_fwd_ind[i],X1_fwind[1,i],X2_fwind[1,i],X3_find[1,],kst_fwd_ind[i],contratos_fwd_ind[i],nominal_fwd_ind)  #paso clave\n",
        "  tgamma_find=xp_find[seq(i,m*3,by=m)]%*%t(xp_find[seq(i,m*3,by=m)])*gamma_find #gamma tilde\n",
        "  Varmargcaux_find=cov(DeltaX_find[,seq(i,m*3,by=m)])*((n)/(n-1)) #matriz varcov factores de riesgo de cada contrato\n",
        "  tgammavar_find=(tgamma_find%*%Varmargcaux_find)\n",
        "  tgammavar2_find=(tgamma_find%*%Varmargcaux_find)%*%(tgamma_find%*%Varmargcaux_find)  \n",
        "  mudg_find=ifelse((sum(diag(tgammavar_find))/2+mu_find[i])>0,0,(sum(diag(tgammavar_find))/2+mu_find[i]))\n",
        "  #mudg_find=0\n",
        "  desv_find=sqrt(tdelta_find%*%Varmargcaux_find%*%t(tdelta_find))\n",
        "\n",
        "  VaRmargc_find[i]=mudg_find+desv_find*qnorm(1-alpha) #VaR Normal por contrato\n",
        "  CVaRmargc_find[i]=-mudg_find-desv_find*(dnorm(qnorm(1-alpha))/(1-alpha))\n",
        "  \n",
        "  tgammavar3_find=tgammavar2_find%*%(tgamma_find%*%Varmargcaux_find)\n",
        "  asimPmargc_find=sum(diag(tgammavar3_find))+3*tdelta_find%*%Varmargcaux_find%*%tgamma_find%*%Varmargcaux_find%*%t(tdelta_find) #tercer momento\n",
        "  asimPmargc_find=asimPmargc_find/(desv_find)^3  #coef de asimetría\n",
        "  VaRmargcstd_find[i]=qnorm(1-alpha)+((qnorm(1-alpha)^2-1)/6)*asimPmargc_find  #VaR estandarizado\n",
        "  \n",
        "\n",
        "#Por factor de riesgo y por contrato\n",
        "\n",
        "  for (j in 1:3)\n",
        "  {\n",
        "    WFRM=matrix(0,3,3)  #PASO CLAVE\n",
        "    WFRM[j,j]=1  #PASO CLAVE\n",
        "    delta_find=t(g_find[seq(i,m*3,by=m)])*WFR[j,] #PASO CLAVE\n",
        "    tdelta_find=t(g_find[seq(i,m*3,by=m)])*xp_find[seq(i,m*3,by=m)]*WFR[j,]   #delta tilde #PASO CLAVE\n",
        "  \tgamma_find=mgamma_futTC(plazos_fwd_ind[i],X1_fwind[1,i],X2_fwind[1,i],X3_find[1,],kst_fwd_ind[i],contratos_fwd_ind[i],nominal_fwd_ind)  #paso clave\n",
        "    tgamma_find=xp_find[seq(i,m*3,by=m)]%*%t(xp_find[seq(i,m*3,by=m)])*gamma_find #gamma tilde\n",
        "    Varmargcaux_find=cov(DeltaX_find[,seq(i,m*3,by=m)])*((n)/(n-1)) #matriz varcov factores de riesgo de cada contrato\n",
        "    tgammavar_find=(tgamma_find%*%Varmargcaux_find)\n",
        "    tgammavar2_find=(tgamma_find%*%Varmargcaux_find)%*%(tgamma_find%*%Varmargcaux_find)  \n",
        "    #mudg_find=sum(diag(tgammavar_find))/2+mu_find[i]\n",
        "   mudg_find=0\n",
        "    desv_find=sqrt(sum(diag(tgammavar2_find))/2+tdelta_find%*%Varmargcaux_find%*%t(tdelta_find))\n",
        "\n",
        "    VaRmargc_fr_find[j,i]=mudg_find+desv_find*qnorm(1-alpha) #VaR Normal por contrato\n",
        "    CVaRmargc_fr_find[j,i]=-mudg_find-desv_find*(dnorm(qnorm(1-alpha))/(1-alpha))\n",
        "    \n",
        "    tgammavar3_find=tgammavar2_find%*%(tgamma_find%*%Varmargcaux_find)\n",
        "    asimPmargc_find=sum(diag(tgammavar3_find))+3*tdelta_find%*%Varmargcaux_find%*%tgamma_find%*%Varmargcaux_find%*%t(tdelta_find) #tercer momento\n",
        "    asimPmargc_find=asimPmargc_find/(desv_find)^3  #coef de asimetría\n",
        "    VaRmargcstd_fr_find[j,i]=qnorm(1-alpha)+((qnorm(1-alpha)^2-1)/6)*asimPmargc_find  #VaR estandarizado\n",
        "    \n",
        "  }\n",
        "\n",
        "\n",
        "\n",
        "}\n",
        "\n",
        "\n",
        "print(\"Valor a nivel contrato\")\n",
        "print(V0_fwind)\n",
        "print(\"VaR a nivel contrato\")\n",
        "print(VaRmargc_find)\n",
        "\n",
        "print(\"CVaR a nivel contrato\")\n",
        "print(CVaRmargc_find)\n",
        "\n",
        "print(\"VaR a nivel contrato\")\n",
        "print(VaRmargc_fr_find)\n",
        "\n",
        "print(\"CVaR a nivel contrato\")\n",
        "print(CVaRmargc_fr_find)\n"
      ],
      "execution_count": null,
      "outputs": [
        {
          "output_type": "stream",
          "name": "stdout",
          "text": [
            "[1] \"Valor a nivel contrato\"\n",
            "         [,1]\n",
            "[1,] 342308.9\n",
            "[1] \"VaR a nivel contrato\"\n",
            "          [,1]\n",
            "[1,] -51116.04\n",
            "[1] \"CVaR a nivel contrato\"\n",
            "          [,1]\n",
            "[1,] -60110.45\n",
            "[1] \"VaR a nivel contrato\"\n",
            "              [,1]\n",
            "[1,] -5.101370e+04\n",
            "[2,] -9.430151e-03\n",
            "[3,] -4.897291e+02\n",
            "[1] \"CVaR a nivel contrato\"\n",
            "              [,1]\n",
            "[1,] -6.013364e+04\n",
            "[2,] -1.111602e-02\n",
            "[3,] -5.772802e+02\n"
          ]
        }
      ]
    },
    {
      "cell_type": "markdown",
      "metadata": {
        "id": "AUdhAqdJBP-T"
      },
      "source": [
        "####Total\n"
      ]
    },
    {
      "cell_type": "code",
      "metadata": {
        "id": "XbBg22rnBU-z",
        "colab": {
          "base_uri": "https://localhost:8080/"
        },
        "outputId": "5a345c56-c92e-4a85-96d2-a2035f66b9a1"
      },
      "source": [
        "%%R\n",
        "\n",
        "\n",
        "#RIESGO TOTAL FORWARDS DE TIPO DE CAMBIO\n",
        "\n",
        "VarDeltaX_find=cov(DeltaX_find)*(n/(n-1))\n",
        "\n",
        "tgammavar_find=(gamma_findtT2%*%VarDeltaX_find)\n",
        "tgammavar2_find=(tgammavar_find)%*%(tgammavar_find) \n",
        "#media\n",
        "mudg_find=ifelse((sum(diag(tgammavar_find))/2+sum(mu_find))>0,0,(sum(diag(tgammavar_find))/2+mu_find[i]))\n",
        "#desviación estándar\n",
        "desv_find=sqrt(g_findtT%*%VarDeltaX_find%*%t(g_findtT))\n",
        "\n",
        "VaRT_find_DN=(mudg_find)+(desv_find)*qnorm(1-alpha)  #VaR Normal\n",
        "CVaRT_find_DN=-(mudg_find)-(desv_find)*dnorm(qnorm(alpha))/(1-alpha)\n",
        "\n",
        "\n",
        "###VaR Cornish Fisher\n",
        "tgammavar3_find=tgammavar2_find%*%(tgammavar_find)\n",
        "asimP_find=sum(diag(tgammavar3_find))+3*g_findtT%*%VarDeltaX_find%*%gamma_findtT2%*%VarDeltaX_find%*%t(g_findtT) #gamma tercer momento\n",
        "asimP_find=asimP_find/(desv_find)^3  #coef de asimetría\n",
        "VaRstd_find=qnorm(1-alpha)+((qnorm(1-alpha)^2-1)/6)*asimP_find  #VaR estandarizado\n",
        "\n",
        "\n",
        "\n",
        "\n",
        "\n",
        "VaRT_fr_find_DN=matrix(0,1,3)\n",
        "CVaRT_fr_find_DN=matrix(0,1,3)\n",
        "\n",
        "\n",
        "WFRT=matrix(0,3,(m*3))\n",
        "\n",
        "#RIESGO TOTAL POR FACTOR DE RIESGO DE FORWARDS DE TIPO DE CAMBIO\n",
        "\n",
        "for (j in (1:3))\n",
        "{\n",
        "WFRT[j,((j-1)*m+1):(j*m)]=matrix(1,1,m)    #Matriz de diseño para \n",
        "WFRM=matrix(0,(m*3),(m*3))  #PASO CLAVE\n",
        "WFRM[((j-1)*m+1):(m*j),((j-1)*m+1):(m*j)]=matrix(1,m,m)  #PASO CLAVE    \n",
        "gamma_findtT2_fr=gamma_findtT2*WFRM #evaluación de gamma multiplicado por x^{2}\n",
        "g_findtT_fr=g_findtT*WFRT[j,]\n",
        "tgammavar_find=(gamma_findtT2_fr%*%VarDeltaX_find)\n",
        "tgammavar2_find=(tgammavar_find)%*%(tgammavar_find) \n",
        "#mudg_find=sum(diag(tgammavar_find))/2+sum(mu_find)\n",
        "mudg_find=0\n",
        "desv_find=sqrt(g_findtT_fr%*%VarDeltaX_find%*%t(g_findtT_fr))\n",
        "VaRT_fr_find_DN[j]=(mudg_find)+(desv_find)*qnorm(1-alpha) #VaR Normal\n",
        "CVaRT_fr_find_DN[j]=-(mudg_find)-(desv_find)*dnorm(qnorm(alpha))/(1-alpha)\n",
        "\n",
        "\n",
        "###VaR Cornish Fisher\n",
        "tgammavar3_find=tgammavar2_find%*%(tgammavar_find)\n",
        "asimP_find=sum(diag(tgammavar3_find))+3*g_findtT_fr%*%VarDeltaX_find%*%gamma_findtT2_fr%*%VarDeltaX_find%*%t(g_findtT_fr) #gamma tercer momento\n",
        "asimP_find=asimP_find/(desv_find)^3  #coef de asimetría\n",
        " \n",
        "VaRstd_find=qnorm(1-alpha)+((qnorm(1-alpha)^2-1)/6)*asimP_find  #VaR estandarizado\n",
        "\n",
        "    \n",
        "}\n",
        "print(\"VaR total Delta Normal\")\n",
        "print(VaRT_find_DN)\n",
        "print(\"CVaR total Delta Normal \")\n",
        "print(CVaRT_find_DN)\n",
        "print(\"VaR total Delta Normal por factor de riesgo\")\n",
        "print(VaRT_fr_find_DN)\n",
        "print(\"CVaR total Delta Normal por factor de riesgo\")\n",
        "print(CVaRT_fr_find_DN)\n",
        "\n"
      ],
      "execution_count": null,
      "outputs": [
        {
          "output_type": "stream",
          "name": "stdout",
          "text": [
            "[1] \"VaR total Delta Normal\"\n",
            "          [,1]\n",
            "[1,] -51116.04\n",
            "[1] \"CVaR total Delta Normal \"\n",
            "          [,1]\n",
            "[1,] -60110.45\n",
            "[1] \"VaR total Delta Normal por factor de riesgo\"\n",
            "         [,1] [,2]      [,3]\n",
            "[1,] -51013.7    0 -489.7291\n",
            "[1] \"CVaR total Delta Normal por factor de riesgo\"\n",
            "          [,1] [,2]      [,3]\n",
            "[1,] -60133.64    0 -577.2802\n"
          ]
        }
      ]
    },
    {
      "cell_type": "markdown",
      "metadata": {
        "id": "2nhondBIcsf5"
      },
      "source": [
        "####Total futuros\n"
      ]
    },
    {
      "cell_type": "code",
      "metadata": {
        "id": "mpssmPc4WJ9L",
        "colab": {
          "base_uri": "https://localhost:8080/"
        },
        "outputId": "ef10cbd4-d30e-4d00-886e-af15a8f8def0"
      },
      "source": [
        "%%R\n",
        "\n",
        "DeltaX_fwdT = cbind(DeltaX_find,DeltaX_ftdc)\n",
        "VarDeltaX_fwdT=as.matrix(cov(DeltaX_fwdT)*(n-1)/(n-2))\n",
        "\n",
        "\n",
        "mu_fwdT=as.matrix(cbind(mu_ftdc,mu_find)) #derivada con respecto al tiempo\n",
        "#INTEGRACIÓN DE PRIMERAS DERIVADAS (GRADIENTE)\n",
        "gt_fwdT=as.matrix(cbind(g_ftdctT,g_findtT)) #derivada con respecto las X's\n",
        "#validar que ncol(X_port)=ncol(gt_port)\n",
        "\n",
        "\n",
        "#INTEGRACIÓN DE MATRIZ HESSIANA\n",
        "\n",
        "gammat_fwdT=matrix(0,6,6)\n",
        "gammat_fwdT[1:3,1:3]=gamma_ftdctT2\n",
        "gammat_fwdT[4:6,4:6]=gamma_findtT2\n",
        "\n",
        "\n",
        "\n",
        "#CÁLCULO DE VAR Y CVAR A NIVEL PORTAFOLIO\n",
        "tgammavar_fwdT=(gammat_fwdT%*%VarDeltaX_fwdT)\n",
        "tgammavar2_fwdT=(tgammavar_fwdT)%*%(tgammavar_fwdT) \n",
        "mu_fwdT=ifelse((sum(diag(tgammavar_fwdT))/2+sum(mu_fwdT))>0,0,(sum(diag(tgammavar_fwdT))/2+sum(mu_fwdT)))\n",
        "desv_fwdT=(sqrt(gt_fwdT%*%VarDeltaX_fwdT%*%t(gt_fwdT)))\n",
        "VaRT_fwdT_DN=mu_fwdT+desv_fwdT*qnorm(1-alpha) #VaR Normal\n",
        "CVaRT_fwdT_DN=mu_fwdT-desv_fwdT*dnorm(qnorm(alpha))/(1-alpha)\n",
        "\n",
        "print(\"VaR forward Total Delta Normal\")\n",
        "print(VaRT_fwdT_DN)\n",
        "print(\"CVaR forward Total Delta Normal\")\n",
        "print(CVaRT_fwdT_DN)"
      ],
      "execution_count": null,
      "outputs": [
        {
          "output_type": "stream",
          "name": "stdout",
          "text": [
            "[1] \"VaR forward Total Delta Normal\"\n",
            "          [,1]\n",
            "[1,] -33442.04\n",
            "[1] \"CVaR forward Total Delta Normal\"\n",
            "          [,1]\n",
            "[1,] -39408.82\n"
          ]
        }
      ]
    },
    {
      "cell_type": "markdown",
      "metadata": {
        "id": "HagexR1TWMVa"
      },
      "source": [
        "### Swaps"
      ]
    },
    {
      "cell_type": "markdown",
      "metadata": {
        "id": "xkR8SosDhsHj"
      },
      "source": [
        "#### Por contrato"
      ]
    },
    {
      "cell_type": "code",
      "metadata": {
        "id": "cZe4bt02eMCj",
        "colab": {
          "base_uri": "https://localhost:8080/"
        },
        "outputId": "fd981911-3d70-462a-fd3e-181b9be8627a"
      },
      "source": [
        "%%R\n",
        "DeltaXvp=Xvp[1:(n-1),]/Xvp[2:n,]-1\n",
        "DeltaXtfwdt=XtfwdT[1:(n-1),]/XtfwdT[2:n,]-1\n",
        "\n",
        "VaRcontDN_sw=matrix(0,1,ncol(N))\n",
        "CVaRcontDN_sw=matrix(0,1,ncol(N))\n",
        "\n",
        "V0f_dtt=dswap_dtt(por_swT, contratos_swT, nominal_swT, XtfwdT[1,], tasafija_swT,  plazocupon_swT, VTplazos_sw, Xvp[1,])\n",
        "V0f_dtc=dswap_dtc(por_swT, contratos_swT, nominal_swT, XtfwdT[1,], tasafija_swT,  plazocupon_swT, VTplazos_sw, Xvp[1,])\n",
        "V0f_dvp=dswap_dvp(por_swT, contratos_swT, nominal_swT, XtfwdT[1,], tasafija_swT,  plazocupon_swT, VTplazos_sw, Xvp[1,])\n",
        "for (j in (1:ncol(N)))\n",
        "{\n",
        "  if(j==1)\n",
        "  {\n",
        "    mucont_sw=sum(V0f_dtt[1:sum(N[1:j])])\n",
        "    gcont_sw=as.matrix(c(V0f_dtc[1:sum(N[1:j])],V0f_dvp[1:sum(N[1:j])]))\n",
        "    gtcont_sw=t(as.matrix(gcont_sw*c(XtfwdT[1,1:sum(N[1:j])],Xvp[1,1:sum(N[1:j])])))\n",
        "    VarCovXcont_sw=cov(cbind(DeltaXtfwdt[,1:sum(N[1:j])],DeltaXvp[,1:sum(N[1:j])]))*(n/(n-1))\t\n",
        "  }\n",
        "  else\n",
        "  {\n",
        "    mucont_sw=sum(V0f_dtt[sum(N[1:j-1]+1):sum(N[1:j])])\n",
        "    gcont_sw=as.matrix(c(V0f_dtc[sum(N[1:j-1]+1):sum(N[1:j])],V0f_dvp[sum(N[1:j-1]+1):sum(N[1:j])]))\n",
        "    gtcont_sw=t(as.matrix(gcont_sw*c(XtfwdT[1,sum(N[1:j-1]+1):sum(N[1:j])],Xvp[1,sum(N[1:j-1]+1):sum(N[1:j])])))\n",
        "    VarCovXcont_sw=cov(cbind(DeltaXtfwdt[,sum(N[1:j-1]+1):sum(N[1:j])],DeltaXvp[,sum(N[1:j-1]+1):sum(N[1:j])]))*(n/(n-1))\n",
        "    \n",
        "  }\n",
        "  \n",
        "  \n",
        "  \n",
        "  #VaR Delta Normal\n",
        "  VaRcontDN_sw[j]=sum(mucont_sw)+sqrt(gtcont_sw%*%VarCovXcont_sw%*%t(gtcont_sw))*qnorm(1-alpha)\n",
        "  CVaRcontDN_sw[j]=sum(mucont_sw)+sqrt(gtcont_sw%*%VarCovXcont_sw%*%t(gtcont_sw))*dnorm(qnorm(1-alpha))/(1-alpha)\n",
        "}\n",
        "\n",
        "print(\"VaR por contrato Delta Normal\")\n",
        "print(VaRcontDN_sw)\n",
        "print(\"CVaR por contrato Delta Normal\")\n",
        "print(CVaRcontDN_sw)"
      ],
      "execution_count": null,
      "outputs": [
        {
          "output_type": "stream",
          "name": "stdout",
          "text": [
            "[1] \"VaR por contrato Delta Normal\"\n",
            "          [,1]      [,2]\n",
            "[1,] -42621.66 -15081.31\n",
            "[1] \"CVaR por contrato Delta Normal\"\n",
            "         [,1]     [,2]\n",
            "[1,] 50249.14 17744.28\n"
          ]
        }
      ]
    },
    {
      "cell_type": "markdown",
      "metadata": {
        "id": "yZGqV3_3huST"
      },
      "source": [
        "#### Por contrato factor de riesgo total"
      ]
    },
    {
      "cell_type": "code",
      "metadata": {
        "id": "gy6VfM8Eh0yi",
        "colab": {
          "base_uri": "https://localhost:8080/"
        },
        "outputId": "134a798a-d647-494e-86fb-d60ab016a328"
      },
      "source": [
        "%%R\n",
        "WFR=rbind(c( XtfwdT[1,],Xvp[1,]*0),c( XtfwdT[1,]*0,Xvp[1,]))\n",
        "VaRFrDN_sw=matrix(0,1,2)\n",
        "CVaRFrDN_sw=matrix(0,1,2)\n",
        "\n",
        "for (j in (1:2))\n",
        "{\n",
        "    \n",
        "    g_sw=cbind(dswap_dtc(por_swT, contratos_swT, nominal_swT, XtfwdT[1,], tasafija_swT,  plazocupon_swT, VTplazos_sw, Xvp[1,]),\n",
        "               dswap_dvp(por_swT, contratos_swT, nominal_swT, XtfwdT[1,], tasafija_swT,  plazocupon_swT, VTplazos_sw, Xvp[1,]))\n",
        "    \n",
        "    #Multiplicación de la derivada por el punto x0\n",
        "    gt_sw=WFR[j,]*g_sw\n",
        "    VaRFrDN_sw[j]=sqrt(gt_sw%*%VarDeltaX_sw%*%t(gt_sw))*qnorm(1-alpha)\n",
        "    CVaRFrDN_sw[j]=-sqrt(gt_sw%*%VarDeltaX_sw%*%t(gt_sw))*dnorm(qnorm(1-alpha))/(1-alpha)\n",
        "}\n",
        "\n",
        "print(\"VaR por contrato fr total\")\n",
        "print(VaRFrDN_sw)\n",
        "print(\"CVaR por contrato fr total\")\n",
        "print(CVaRFrDN_sw)"
      ],
      "execution_count": null,
      "outputs": [
        {
          "output_type": "stream",
          "name": "stdout",
          "text": [
            "[1] \"VaR por contrato fr total\"\n",
            "          [,1]     [,2]\n",
            "[1,] -55827.97 -45.7393\n",
            "[1] \"CVaR por contrato fr total\"\n",
            "          [,1]      [,2]\n",
            "[1,] -65808.59 -53.91632\n"
          ]
        }
      ]
    },
    {
      "cell_type": "markdown",
      "metadata": {
        "id": "EQl12e68jLma"
      },
      "source": [
        "#### Contrato Factor de riesgo marginal"
      ]
    },
    {
      "cell_type": "code",
      "metadata": {
        "id": "_ES5A7ypjN4q",
        "colab": {
          "base_uri": "https://localhost:8080/"
        },
        "outputId": "ada75986-388f-4b04-b875-f67e3ec6a496"
      },
      "source": [
        "%%R\n",
        "VaRcontfrDN_sw=matrix(0,2,ncol(N))\n",
        "CVaRcontfrDN_sw=matrix(0,2,ncol(N))\n",
        "WFRcont <- rbind(c(1,0), c(0,1))\n",
        "\n",
        "V0f_dtt=dswap_dtt(por_swT, contratos_swT, nominal_swT, XtfwdT[1,], tasafija_swT,  plazocupon_swT, VTplazos_sw, Xvp[1,])\n",
        "V0f_dtc=dswap_dtc(por_swT, contratos_swT, nominal_swT, XtfwdT[1,], tasafija_swT,  plazocupon_swT, VTplazos_sw, Xvp[1,])\n",
        "V0f_dvp=dswap_dvp(por_swT, contratos_swT, nominal_swT, XtfwdT[1,], tasafija_swT,  plazocupon_swT, VTplazos_sw, Xvp[1,])\n",
        "for (j in (1:ncol(N)))\n",
        "{\n",
        "    for(k in (1:2)){\n",
        "  if(j==1)\n",
        "  {\n",
        "    mucont_sw=sum(V0f_dtt[1:sum(N[1:j])])\n",
        "    gcont_sw=as.matrix(c(V0f_dtc[1:sum(N[1:j])],V0f_dvp[1:sum(N[1:j])]))\n",
        "    gtcont_sw=t(as.matrix(gcont_sw*c(XtfwdT[1,1:sum(N[1:j])]*WFRcont[k,1],Xvp[1,1:sum(N[1:j])]*WFRcont[k,2])))\n",
        "    VarCovXcont_sw=cov(cbind(DeltaXtfwdt[,1:sum(N[1:j])],DeltaXvp[,1:sum(N[1:j])]))*(n/(n-1))\t\n",
        "    }\n",
        "  else\n",
        "  {\n",
        "    mucont_sw=sum(V0f_dtt[sum(N[1:j-1]+1):sum(N[1:j])])\n",
        "    gcont_sw=as.matrix(c(V0f_dtc[sum(N[1:j-1]+1):sum(N[1:j])],V0f_dvp[sum(N[1:j-1]+1):sum(N[1:j])]))\n",
        "    gtcont_sw=t(as.matrix(gcont_sw*c(XtfwdT[1,sum(N[1:j-1]+1):sum(N[1:j])]*WFRcont[k,1],Xvp[1,sum(N[1:j-1]+1):sum(N[1:j])]*WFRcont[k,2])))\n",
        "    VarCovXcont_sw=cov(cbind(DeltaXtfwdt[,sum(N[1:j-1]+1):sum(N[1:j])],DeltaXvp[,sum(N[1:j-1]+1):sum(N[1:j])]))*(n/(n-1))\n",
        "    }\n",
        "  \n",
        "  \n",
        "  #VaR Delta Normal\n",
        "  VaRcontfrDN_sw[k,j]=sum(mucont_sw)+sqrt(gtcont_sw%*%VarCovXcont_sw%*%t(gtcont_sw))*qnorm(1-alpha)\n",
        "  CVaRcontfrDN_sw[k,j]=sum(mucont_sw)-sqrt(gtcont_sw%*%VarCovXcont_sw%*%t(gtcont_sw))*dnorm(qnorm(1-alpha))/(1-alpha)\n",
        "}\n",
        "}\n",
        "\n",
        "print(\"VaR por contrato fr Delta Normal\")\n",
        "print(VaRcontfrDN_sw)\n",
        "print(\"CVaR por contrato fr Delta Normal\")\n",
        "print(CVaRcontfrDN_sw)"
      ],
      "execution_count": null,
      "outputs": [
        {
          "output_type": "stream",
          "name": "stdout",
          "text": [
            "[1] \"VaR por contrato fr Delta Normal\"\n",
            "             [,1]         [,2]\n",
            "[1,] -42553.16166 -15126.08903\n",
            "[2,]    -88.46422    -66.63725\n",
            "[1] \"CVaR por contrato fr Delta Normal\"\n",
            "            [,1]         [,2]\n",
            "[1,] -50161.2224 -17827.52483\n",
            "[2,]   -104.9209    -75.82748\n"
          ]
        }
      ]
    },
    {
      "cell_type": "markdown",
      "metadata": {
        "id": "HZ_ahyDUkt4y"
      },
      "source": [
        "#### Total"
      ]
    },
    {
      "cell_type": "code",
      "metadata": {
        "id": "m9WVPW7Lkvm5",
        "colab": {
          "base_uri": "https://localhost:8080/"
        },
        "outputId": "777f119b-8fe1-4483-b00d-c7a8a655f252"
      },
      "source": [
        "%%R\n",
        "#Evalución de las derivada en el punto x0\n",
        "\n",
        "g_sw=cbind(dswap_dtc(por_swT, contratos_swT, nominal_swT, XtfwdT[1,], tasafija_swT,  plazocupon_swT, VTplazos_sw, Xvp[1,]),\n",
        "        dswap_dvp(por_swT, contratos_swT, nominal_swT, XtfwdT[1,], tasafija_swT,  plazocupon_swT, VTplazos_sw, Xvp[1,]))\n",
        "\n",
        "#Multiplicación de la derivada por el punto x0\n",
        "gt_sw=c( XtfwdT[1,],Xvp[1,])*g_sw\n",
        "VaRTotalDN_sw=sqrt(gt_sw%*%VarDeltaX_sw%*%t(gt_sw))*qnorm(1-alpha)+sum(dswap_dtt(por_swT, contratos_swT, nominal_swT, XtfwdT[1,], tasafija_swT,  plazocupon_swT, VTplazos_sw, Xvp[1,]))\n",
        "CVaRTotalDN_sw = -sqrt(gt_sw%*%VarDeltaX_sw%*%t(gt_sw))*dnorm(qnorm(1-alpha))/(1-alpha)+sum(dswap_dtt(por_swT, contratos_swT, nominal_swT, XtfwdT[1,], tasafija_swT,  plazocupon_swT, VTplazos_sw, Xvp[1,]))\n",
        "\n",
        "\n",
        "print(\"VaR Total Delta Normal\")\n",
        "print(VaRTotalDN_sw)\n",
        "print(\"CVaR Total Delta Normal\")\n",
        "print(CVaRTotalDN_sw)\n"
      ],
      "execution_count": null,
      "outputs": [
        {
          "output_type": "stream",
          "name": "stdout",
          "text": [
            "[1] \"VaR Total Delta Normal\"\n",
            "          [,1]\n",
            "[1,] -55864.55\n",
            "[1] \"CVaR Total Delta Normal\"\n",
            "          [,1]\n",
            "[1,] -65849.62\n"
          ]
        }
      ]
    },
    {
      "cell_type": "markdown",
      "metadata": {
        "id": "Lffg8aQEPQ4e"
      },
      "source": [
        "### Opciones"
      ]
    },
    {
      "cell_type": "markdown",
      "metadata": {
        "id": "XS-yqTdsM9pY"
      },
      "source": [
        "####Riesgo a nivel contrato y nivel contrato-factor de riesgo"
      ]
    },
    {
      "cell_type": "code",
      "metadata": {
        "id": "EPv5_Ae0M-VI",
        "colab": {
          "base_uri": "https://localhost:8080/"
        },
        "outputId": "1d9064c4-82da-4155-cae5-acc7c43d1635"
      },
      "source": [
        "%%R\n",
        "print(\"VaR a nivel contrato Delta Normal\")\n",
        "print(VaRmargcDN_oir)\n",
        "print(\"CVaR a nivel contrato Delta Normal\")\n",
        "print(CVaRmargcDN_oir)\n",
        "\n",
        "print(\"VaR a nivel contrato factor de riesgo delta normal\")\n",
        "print(VaRmargcDN_fr_oir)\n",
        "print(\"CVaR a nivel contrato factor de riesgo delta normal\")\n",
        "print(CVaRmargcDN_fr_oir)\n"
      ],
      "execution_count": null,
      "outputs": [
        {
          "output_type": "stream",
          "name": "stdout",
          "text": [
            "[1] \"VaR a nivel contrato Delta Normal\"\n",
            "            [,1]        [,2]\n",
            "[1,] -0.08757515 -0.04730174\n",
            "[1] \"CVaR a nivel contrato Delta Normal\"\n",
            "           [,1]        [,2]\n",
            "[1,] -0.1032314 -0.05575808\n",
            "[1] \"VaR a nivel contrato factor de riesgo delta normal\"\n",
            "            [,1]          [,2]\n",
            "[1,] -0.01154790 -0.0009612335\n",
            "[2,] -0.06765790 -0.0365505436\n",
            "[3,] -0.05238478 -0.0327790004\n",
            "[1] \"CVaR a nivel contrato factor de riesgo delta normal\"\n",
            "            [,1]         [,2]\n",
            "[1,] -0.01361237 -0.001133077\n",
            "[2,] -0.07975340 -0.043084848\n",
            "[3,] -0.06174984 -0.038639049\n"
          ]
        }
      ]
    },
    {
      "cell_type": "markdown",
      "metadata": {
        "id": "XXYH6gjgM-60"
      },
      "source": [
        "####Riesgo a nivel total y total factor de riesgo"
      ]
    },
    {
      "cell_type": "code",
      "metadata": {
        "id": "YY1gAbP6M_Z4",
        "colab": {
          "base_uri": "https://localhost:8080/"
        },
        "outputId": "b01b16b1-6644-44ab-b1d0-4ccc7d36bf0d"
      },
      "source": [
        "%%R\n",
        "#RIESGO TOTAL FORWARDS DE TIPO DE CAMBIO\n",
        "m=ncol(plazos_oir)\n",
        "VarDeltaX_oir=cov(DeltaX_oir)*(n/(n-1))\n",
        "\n",
        "tgammavar_oir=(gammaT_oirT2%*%VarDeltaX_oir)\n",
        "tgammavar2_oir=(tgammavar_oir)%*%(tgammavar_oir) \n",
        "mudg_oir=ifelse(sum(mu_oir)>0,0,sum(mu_oir))\n",
        "desv_oir=sqrt(deltaT_oir_T%*%VarDeltaX_oir%*%t(deltaT_oir_T))\n",
        "\n",
        "VaRT_oir_DN=(mudg_oir)+(desv_oir)*qnorm(1-alpha)  #VaR Normal\n",
        "CVaRT_oir_DN=(mudg_oir)-(desv_oir)*dnorm(qnorm(alpha))/(1-alpha)\n",
        "\n",
        "print(\"VaR Total Delta Normal\")\n",
        "print(VaRT_oir_DN)\n",
        "print(\"CVaR Total Delta Normal\")\n",
        "print(CVaRT_oir_DN)\n",
        "\n",
        "\n",
        "VaRT_fr_oir_DN=matrix(0,1,3)\n",
        "CVaRT_fr_oir_DN=matrix(0,1,3)\n",
        "\n",
        "\n",
        "WFRT=matrix(0,3,(m*3))\n",
        "\n",
        "\n",
        "#RIESGO TOTAL POR FACTOR DE RIESGO DE FORWARDS DE TIPO DE CAMBIO\n",
        "\n",
        "for (j in (1:3))\n",
        "{\n",
        "WFRT[j,((j-1)*m+1):(j*m)]=matrix(1,1,m)    #Matriz de diseño para \n",
        "WFRM=matrix(0,(m*3),(m*3))  #PASO CLAVE\n",
        "WFRM[((j-1)*m+1):(m*j),((j-1)*m+1):(m*j)]=matrix(1,m,m)  #PASO CLAVE    \n",
        "gamma_oirtT2_fr=gammaT_oirT2*WFRM #evaluación de gamma multiplicado por x^{2}\n",
        "g_oirtT_fr=deltaT_oir_T*WFRT[j,]\n",
        "tgammavar_oir=(gamma_oirtT2_fr%*%VarDeltaX_oir)\n",
        "tgammavar2_oir=(tgammavar_oir)%*%(tgammavar_oir) \n",
        "#mudg_oir=sum(diag(tgammavar_oir))/2+sum(mu_oir)\n",
        "mudg_oir=0\n",
        "desv_oir=sqrt(g_oirtT_fr%*%VarDeltaX_oir%*%t(g_oirtT_fr))\n",
        "VaRT_fr_oir_DN[j]=(mudg_oir)+(desv_oir)*qnorm(1-alpha) #VaR Normal\n",
        "CVaRT_fr_oir_DN[j]=(mudg_oir)-(desv_oir)*dnorm(qnorm(alpha))/(1-alpha)\n",
        "\n",
        "\n",
        "}\n",
        "\n",
        "\n",
        "print(\"VaR por contrato fr total\")\n",
        "print(VaRT_fr_oir_DN)\n",
        "print(\"CVaR por contrato fr total\")\n",
        "print(CVaRT_fr_oir_DN)\n"
      ],
      "execution_count": null,
      "outputs": [
        {
          "output_type": "stream",
          "name": "stdout",
          "text": [
            "[1] \"VaR Total Delta Normal\"\n",
            "          [,1]\n",
            "[1,] -0.118298\n",
            "[1] \"CVaR Total Delta Normal\"\n",
            "           [,1]\n",
            "[1,] -0.1394467\n",
            "[1] \"VaR por contrato fr total\"\n",
            "            [,1]        [,2]        [,3]\n",
            "[1,] -0.01243328 -0.08778916 -0.07886964\n",
            "[1] \"CVaR por contrato fr total\"\n",
            "            [,1]       [,2]        [,3]\n",
            "[1,] -0.01465603 -0.1034836 -0.09296952\n"
          ]
        }
      ]
    },
    {
      "cell_type": "markdown",
      "metadata": {
        "id": "CdZduo8JS2xL"
      },
      "source": [
        "### Riesgo integral"
      ]
    },
    {
      "cell_type": "markdown",
      "metadata": {
        "id": "FzEjK6RwS8gz"
      },
      "source": [
        "##### Total"
      ]
    },
    {
      "cell_type": "code",
      "metadata": {
        "id": "N90PKCdPS6eT",
        "colab": {
          "base_uri": "https://localhost:8080/"
        },
        "outputId": "532a59e9-b22e-4b31-87b1-ea541746fa9c"
      },
      "source": [
        "%%R\n",
        "VarDeltaX_port=as.matrix(cov(DeltaX_port)*(n-1)/(n-2))\n",
        "\n",
        "mu_port=as.matrix(cbind(mu_acc_div,mu_bcc,mu_bm,mu_bd,mu_ftdc,mu_find,mu_sw,mu_oir)) #derivada con respecto al tiempo\n",
        "#INTEGRACIÓN DE PRIMERAS DERIVADAS (GRADIENTE)\n",
        "gt_port=as.matrix(cbind(g_acc_divt,g_bcct,g_bmt,g_bdt,g_ftdctT,g_findtT,gt_sw,deltaT_oir_T)) #derivada con respecto las X's\n",
        "#validar que ncol(X_port)=ncol(gt_port)\n",
        "\n",
        "\n",
        "#INTEGRACIÓN DE MATRIZ HESSIANA\n",
        "\n",
        "gammat_port=matrix(0,sum(n_if),sum(n_if))\n",
        "gammat_port[1:n_if[1],1:n_if[1]]=gamma_acc_divt\n",
        "gammat_port[(sum(n_if[1:1])+1):(sum(n_if[1:2])),(sum(n_if[1:1])+1):(sum(n_if[1:2]))]=gamma_bcct2\n",
        "gammat_port[(sum(n_if[1:2])+1):(sum(n_if[1:3])),(sum(n_if[1:2])+1):(sum(n_if[1:3]))]=gamma_bmt2\n",
        "gammat_port[(sum(n_if[1:3])+1):(sum(n_if[1:4])),(sum(n_if[1:3])+1):(sum(n_if[1:4]))]=gamma_bdt2\n",
        "gammat_port[(sum(n_if[1:4])+1):(sum(n_if[1:5])),(sum(n_if[1:4])+1):(sum(n_if[1:5]))]=gamma_ftdctT2\n",
        "gammat_port[(sum(n_if[1:5])+1):(sum(n_if[1:6])),(sum(n_if[1:5])+1):(sum(n_if[1:6]))]=gamma_findtT2\n",
        "gammat_port[(sum(n_if[1:6])+1):(sum(n_if[1:7])),(sum(n_if[1:6])+1):(sum(n_if[1:7]))]=tgamma_sw\n",
        "gammat_port[(sum(n_if[1:7])+1):(sum(n_if[1:8])),(sum(n_if[1:7])+1):(sum(n_if[1:8]))]=gammaT_oirT2\n",
        "\n",
        "\n",
        "\n",
        "#CÁLCULO DE VAR Y CVAR A NIVEL PORTAFOLIO\n",
        "tgammavar_port=(gammat_port%*%VarDeltaX_port)\n",
        "tgammavar2_port=(tgammavar_port)%*%(tgammavar_port) \n",
        "mu_portT=ifelse((sum(diag(tgammavar_port))/2+sum(mu_port))>0,0,(sum(diag(tgammavar_port))/2+sum(mu_port)))\n",
        "desv_portT=(sqrt(gt_port%*%VarDeltaX_port%*%t(gt_port)))\n",
        "VaRT_port_DN=mu_portT+desv_portT*qnorm(1-alpha) #VaR Normal\n",
        "CVaRT_port_DN=mu_portT-desv_portT*dnorm(qnorm(alpha))/(1-alpha)\n",
        "\n",
        "\n",
        "print(VaRT_port_DN)\n",
        "print(CVaRT_port_DN)\n",
        "\n",
        "\n"
      ],
      "execution_count": null,
      "outputs": [
        {
          "output_type": "stream",
          "name": "stdout",
          "text": [
            "          [,1]\n",
            "[1,] -76468.43\n",
            "          [,1]\n",
            "[1,] -90130.61\n"
          ]
        }
      ]
    },
    {
      "cell_type": "markdown",
      "metadata": {
        "id": "SZoy8swXM85F"
      },
      "source": [
        "#### Acciones"
      ]
    },
    {
      "cell_type": "code",
      "metadata": {
        "id": "0Tu3llg-NAb0",
        "colab": {
          "base_uri": "https://localhost:8080/"
        },
        "outputId": "16ed4211-22b3-4164-f168-0a065c183c5e"
      },
      "source": [
        "%%R\n",
        "m = ncol(plazos_fwd_ind)\n",
        "WFRT_acc=matrix(0,3,(m*3))\n",
        "\n",
        "#RIESGO TOTAL POR FACTOR DE RIESGO DE FORWARDS DE TIPO DE CAMBIO\n",
        "\n",
        "for (j in (1:3))\n",
        "{\n",
        "WFRT_acc[j,((j-1)*m+1):(j*m)]=matrix(1,1,m)    #Matriz de diseño para \n",
        "WFRT_acc=matrix(0,(m*3),(m*3))  #PASO CLAVE\n",
        "WFRT_acc[((j-1)*m+1):(m*j),((j-1)*m+1):(m*j)]=matrix(1,m,m)}\n",
        "\n",
        "dummy_acc = matrix(0,1, ncol(gt_port))\n",
        "dummy_acc[(m_fx+1):(m_fx+m_acc)] = 1\n",
        "dummy_acc[c(168)] = 1 #Cambia dependiendo del factor de riesgo a tomar. Revisar los riesgos de las opciones IPC\n",
        "gt_port=as.matrix(cbind(g_acc_divt,g_bcct,g_bmt,g_bdt,g_ftdctT,g_findtT,gt_sw,deltaT_oir_T))\n",
        "\n",
        "gt_port = gt_port*dummy_acc\n",
        "gammat_port=matrix(0,sum(n_if),sum(n_if))\n",
        "gammat_port[1:n_if[1],1:n_if[1]]=gamma_acc_divt\n",
        "gammat_port[(sum(n_if[1:1])+1):(sum(n_if[1:2])),(sum(n_if[1:1])+1):(sum(n_if[1:2]))]=gamma_bcct2\n",
        "gammat_port[(sum(n_if[1:2])+1):(sum(n_if[1:3])),(sum(n_if[1:2])+1):(sum(n_if[1:3]))]=gamma_bmt2\n",
        "gammat_port[(sum(n_if[1:3])+1):(sum(n_if[1:4])),(sum(n_if[1:3])+1):(sum(n_if[1:4]))]=gamma_bdt2\n",
        "gammat_port[(sum(n_if[1:4])+1):(sum(n_if[1:5])),(sum(n_if[1:4])+1):(sum(n_if[1:5]))]=gamma_ftdctT2\n",
        "gammat_port[(sum(n_if[1:5])+1):(sum(n_if[1:6])),(sum(n_if[1:5])+1):(sum(n_if[1:6]))]=gamma_findtT2\n",
        "gammat_port[(sum(n_if[1:6])+1):(sum(n_if[1:7])),(sum(n_if[1:6])+1):(sum(n_if[1:7]))]=tgamma_sw\n",
        "gammat_port[(sum(n_if[1:7])+1):(sum(n_if[1:8])),(sum(n_if[1:7])+1):(sum(n_if[1:8]))]=gammaT_oirT2\n",
        "\n",
        "gammat_port = gammat_port * t(dummy_acc)%*%dummy_acc\n",
        "\n",
        "tgammavar_port=(gammat_port%*%VarDeltaX_port)\n",
        "tgammavar2_port=(tgammavar_port)%*%(tgammavar_port) \n",
        "mu_portT=ifelse((sum(diag(tgammavar_port))/2+sum(mu_port))>0,0,(sum(diag(tgammavar_port))/2+sum(mu_port)))\n",
        "desv_portT=(sqrt(gt_port%*%VarDeltaX_port%*%t(gt_port)))\n",
        "VaRT_port_acc_DN=mu_portT+desv_portT*qnorm(1-alpha) #VaR Normal\n",
        "CVaRT_port_acc_DN=mu_portT-desv_portT*dnorm(qnorm(alpha))/(1-alpha)\n",
        "\n",
        "\n",
        "\n",
        "\n",
        "print(VaRT_port_acc_DN)\n",
        "print(CVaRT_port_acc_DN)\n"
      ],
      "execution_count": null,
      "outputs": [
        {
          "output_type": "stream",
          "name": "stdout",
          "text": [
            "          [,1]\n",
            "[1,] -52688.68\n",
            "          [,1]\n",
            "[1,] -62099.28\n"
          ]
        }
      ]
    },
    {
      "cell_type": "markdown",
      "metadata": {
        "id": "W9KPVxf_k8YW"
      },
      "source": [
        "#### Divisas"
      ]
    },
    {
      "cell_type": "code",
      "metadata": {
        "id": "b9uinYUQk969",
        "colab": {
          "base_uri": "https://localhost:8080/"
        },
        "outputId": "62a26006-b33a-460c-98bc-5b1c8d6b862a"
      },
      "source": [
        "%%R\n",
        "m = ncol(plazos_fwd)\n",
        "WFRT_div=matrix(0,3,(m*3))\n",
        "\n",
        "#RIESGO TOTAL POR FACTOR DE RIESGO DE FORWARDS DE TIPO DE CAMBIO\n",
        "\n",
        "for (j in (1:3))\n",
        "{\n",
        "WFRT_div[j,((j-1)*m+1):(j*m)]=matrix(1,1,m)    #Matriz de diseño para \n",
        "WFRT_div=matrix(0,(m*3),(m*3))  #PASO CLAVE\n",
        "WFRT_div[((j-1)*m+1):(m*j),((j-1)*m+1):(m*j)]=matrix(1,m,m)}\n",
        "\n",
        "dummy_div = matrix(0,1, ncol(gt_port))\n",
        "dummy_div[1:m_fx] = 1\n",
        "dummy_div[c(165, 166, 167)] = 1 #Cambia dependiendo del factor de riesgo a tomar.\n",
        "gt_port=as.matrix(cbind(g_acc_divt,g_bcct,g_bmt,g_bdt,g_ftdctT,g_findtT,gt_sw,deltaT_oir_T)) #derivada con respecto las X's\n",
        "\n",
        "gt_port = gt_port*dummy_div\n",
        "gammat_port=matrix(0,sum(n_if),sum(n_if))\n",
        "gammat_port[1:n_if[1],1:n_if[1]]=gamma_acc_divt\n",
        "gammat_port[(sum(n_if[1:1])+1):(sum(n_if[1:2])),(sum(n_if[1:1])+1):(sum(n_if[1:2]))]=gamma_bcct2\n",
        "gammat_port[(sum(n_if[1:2])+1):(sum(n_if[1:3])),(sum(n_if[1:2])+1):(sum(n_if[1:3]))]=gamma_bmt2\n",
        "gammat_port[(sum(n_if[1:3])+1):(sum(n_if[1:4])),(sum(n_if[1:3])+1):(sum(n_if[1:4]))]=gamma_bdt2\n",
        "gammat_port[(sum(n_if[1:4])+1):(sum(n_if[1:5])),(sum(n_if[1:4])+1):(sum(n_if[1:5]))]=gamma_ftdctT2\n",
        "gammat_port[(sum(n_if[1:5])+1):(sum(n_if[1:6])),(sum(n_if[1:5])+1):(sum(n_if[1:6]))]=gamma_findtT2\n",
        "gammat_port[(sum(n_if[1:6])+1):(sum(n_if[1:7])),(sum(n_if[1:6])+1):(sum(n_if[1:7]))]=tgamma_sw\n",
        "gammat_port[(sum(n_if[1:7])+1):(sum(n_if[1:8])),(sum(n_if[1:7])+1):(sum(n_if[1:8]))]=gammaT_oirT2\n",
        "\n",
        "gammat_port = gammat_port * t(dummy_div)%*%dummy_div\n",
        "\n",
        "tgammavar_port=(gammat_port%*%VarDeltaX_port)\n",
        "tgammavar2_port=(tgammavar_port)%*%(tgammavar_port) \n",
        "mu_portT=ifelse((sum(diag(tgammavar_port))/2+sum(mu_port))>0,0,(sum(diag(tgammavar_port))/2+sum(mu_port)))\n",
        "desv_portT=(sqrt(gt_port%*%VarDeltaX_port%*%t(gt_port)))\n",
        "VaRT_port_div_DN=mu_portT+desv_portT*qnorm(1-alpha) #VaR Normal\n",
        "CVaRT_port_div_DN=mu_portT-desv_portT*dnorm(qnorm(alpha))/(1-alpha)\n",
        "\n",
        "\n",
        "\n",
        "print(VaRT_port_div_DN)\n",
        "print(CVaRT_port_div_DN)\n"
      ],
      "execution_count": null,
      "outputs": [
        {
          "output_type": "stream",
          "name": "stdout",
          "text": [
            "          [,1]\n",
            "[1,] -449.7078\n",
            "          [,1]\n",
            "[1,] -521.3069\n"
          ]
        }
      ]
    },
    {
      "cell_type": "markdown",
      "metadata": {
        "id": "F8-yRkR68h9_"
      },
      "source": [
        "#### Tasa interés"
      ]
    },
    {
      "cell_type": "code",
      "metadata": {
        "id": "RK00a9DT8kc2",
        "colab": {
          "base_uri": "https://localhost:8080/"
        },
        "outputId": "91e6809d-1190-4954-ce4d-6dbf6b3653d4"
      },
      "source": [
        "%%R\n",
        "\n",
        "dummy_tint = matrix(0,1, ncol(gt_port))\n",
        "dummy_tint[7:sum(n_if[2:3], n_if[4])] = 1\n",
        "dummy_tint[c(167, 170, 172)] = 1\n",
        "dummy_tint[sum(n_if[1:7],1):length(dummy_tint)] = 1 #Cambia dependiendo del factor de riesgo a tomar.\n",
        "gt_port=as.matrix(cbind(g_acc_divt,g_bcct,g_bmt,g_bdt,g_ftdctT,g_findtT,gt_sw,deltaT_oir_T)) #derivada con respecto las X's\n",
        "\n",
        "gt_port = gt_port*dummy_tint\n",
        "gammat_port=matrix(0,sum(n_if),sum(n_if))\n",
        "gammat_port[1:n_if[1],1:n_if[1]]=gamma_acc_divt\n",
        "gammat_port[(sum(n_if[1:1])+1):(sum(n_if[1:2])),(sum(n_if[1:1])+1):(sum(n_if[1:2]))]=gamma_bcct2\n",
        "gammat_port[(sum(n_if[1:2])+1):(sum(n_if[1:3])),(sum(n_if[1:2])+1):(sum(n_if[1:3]))]=gamma_bmt2\n",
        "gammat_port[(sum(n_if[1:3])+1):(sum(n_if[1:4])),(sum(n_if[1:3])+1):(sum(n_if[1:4]))]=gamma_bdt2\n",
        "gammat_port[(sum(n_if[1:4])+1):(sum(n_if[1:5])),(sum(n_if[1:4])+1):(sum(n_if[1:5]))]=gamma_ftdctT2\n",
        "gammat_port[(sum(n_if[1:5])+1):(sum(n_if[1:6])),(sum(n_if[1:5])+1):(sum(n_if[1:6]))]=gamma_findtT2\n",
        "gammat_port[(sum(n_if[1:6])+1):(sum(n_if[1:7])),(sum(n_if[1:6])+1):(sum(n_if[1:7]))]=tgamma_sw\n",
        "gammat_port[(sum(n_if[1:7])+1):(sum(n_if[1:8])),(sum(n_if[1:7])+1):(sum(n_if[1:8]))]=gammaT_oirT2\n",
        "\n",
        "gammat_port = gammat_port * t(dummy_tint)%*%dummy_tint\n",
        "\n",
        "tgammavar_port=(gammat_port%*%VarDeltaX_port)\n",
        "tgammavar2_port=(tgammavar_port)%*%(tgammavar_port) \n",
        "mu_portT=ifelse((sum(diag(tgammavar_port))/2+sum(mu_port))>0,0,(sum(diag(tgammavar_port))/2+sum(mu_port)))\n",
        "desv_portT=(sqrt(gt_port%*%VarDeltaX_port%*%t(gt_port)))\n",
        "VaRT_port_tint_DN=mu_portT+desv_portT*qnorm(1-alpha) #VaR Normal\n",
        "CVaRT_port_tint_DN=mu_portT-desv_portT*dnorm(qnorm(alpha))/(1-alpha)\n",
        "\n",
        "\n",
        "\n",
        "\n",
        "print(VaRT_port_tint_DN)\n",
        "print(CVaRT_port_tint_DN)\n"
      ],
      "execution_count": null,
      "outputs": [
        {
          "output_type": "stream",
          "name": "stdout",
          "text": [
            "          [,1]\n",
            "[1,] -2565.447\n",
            "          [,1]\n",
            "[1,] -3015.656\n"
          ]
        }
      ]
    }
  ]
}